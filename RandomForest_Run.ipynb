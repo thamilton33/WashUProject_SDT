{
 "cells": [
  {
   "cell_type": "code",
   "execution_count": 6,
   "metadata": {
    "executionInfo": {
     "elapsed": 1193,
     "status": "ok",
     "timestamp": 1658783896146,
     "user": {
      "displayName": "Ann Kim",
      "userId": "13476772610158755832"
     },
     "user_tz": 300
    },
    "id": "z2wHOxi3LQa0"
   },
   "outputs": [],
   "source": [
    "import pandas as pd\n",
    "import numpy as np\n",
    "from sklearn.model_selection import train_test_split\n",
    "from sklearn.ensemble import RandomForestClassifier\n",
    "\n",
    "import warnings\n",
    "warnings.filterwarnings('ignore')"
   ]
  },
  {
   "cell_type": "code",
   "execution_count": 2,
   "metadata": {
    "colab": {
     "base_uri": "https://localhost:8080/",
     "height": 206
    },
    "executionInfo": {
     "elapsed": 361,
     "status": "ok",
     "timestamp": 1658783898747,
     "user": {
      "displayName": "Ann Kim",
      "userId": "13476772610158755832"
     },
     "user_tz": 300
    },
    "id": "drTW3emRLZ6s",
    "outputId": "e8003602-7551-4c52-cffd-3e709356a586"
   },
   "outputs": [],
   "source": [
    "dr_df =pd.read_csv(\"cleaned_data/drivers.csv\")\n",
    "veh_df =pd.read_csv(\"cleaned_data/vehicles.csv\")"
   ]
  },
  {
   "cell_type": "code",
   "execution_count": 14,
   "metadata": {},
   "outputs": [
    {
     "data": {
      "text/plain": [
       "0    1000030\n",
       "1    2005191\n",
       "2    2005195\n",
       "3    2005211\n",
       "4    2005213\n",
       "Name: VEHICLE_ID, dtype: int64"
      ]
     },
     "execution_count": 14,
     "metadata": {},
     "output_type": "execute_result"
    }
   ],
   "source": [
    "temp_df = veh_df['VEHICLE_ID']\n",
    "veh_results_df = pd.DataFrame(columns=('VEHICLE_ID', \"RFC_SCORE\"))\n",
    "veh_results_df['VEHICLE_ID'] = veh_df.iloc[:, 0]\n",
    "input_id = 1000030\n",
    "for item in veh_results_df:\n",
    "    if( veh_results_df['RFC_SCORE'] == )\n",
    "    veh_results_df['RFC_SCORE'] =  veh_results_df['RFC_SCORE']\n",
    "    \n",
    "    "
   ]
  },
  {
   "cell_type": "code",
   "execution_count": 7,
   "metadata": {
    "colab": {
     "base_uri": "https://localhost:8080/",
     "height": 206
    },
    "executionInfo": {
     "elapsed": 354,
     "status": "ok",
     "timestamp": 1658783904976,
     "user": {
      "displayName": "Ann Kim",
      "userId": "13476772610158755832"
     },
     "user_tz": 300
    },
    "id": "Ej8eo93wLiJl",
    "outputId": "b8ddcf7a-4fc5-4356-8645-4e130867a8cb"
   },
   "outputs": [
    {
     "name": "stdout",
     "output_type": "stream",
     "text": [
      "First Sample: {sample_count}\n",
      "Second Sample: {sample_count}\n",
      "Third Sample: {sample_count}\n",
      "Final Sample: {sample_count}\n"
     ]
    }
   ],
   "source": [
    "input_id = 6074990   # Where input should assign\n",
    "veh_results_df = veh_df['VEHICLE_ID']\n",
    "\n",
    "drivers_df = dr_df[dr_df['VEHICLE_ID'] == input_id]\n",
    "sample_count = len(drivers_df)\n",
    "print(\"First Sample: {sample_count}\")\n",
    "if sample_count > 500:\n",
    "    vehicle_entered = veh_df[veh_df['VEHICLE_ID'] == input_id]\n",
    "else:\n",
    "    vehicle_entered = veh_df[veh_df['VEHICLE_ID'] == input_id] \n",
    "    vehicle_make = vehicle_entered['MAKE'].item()\n",
    "    vehicle_subset = veh_df[veh_df['MAKE'] == vehicle_make]\n",
    "\n",
    "sample_count = len(vehicle_subset) \n",
    "print(\"Second Sample: {sample_count}\")   \n",
    "\n",
    "if sample_count > 500:\n",
    "    vehicle_entered = veh_df[veh_df['VEHICLE_ID'] == input_id]\n",
    "else:\n",
    "    vehicle_entered = veh_df[veh_df['VEHICLE_ID'] == input_id] \n",
    "    vehicle_year = vehicle_entered['YEAR'].item()\n",
    "    vehicle_subset = veh_df[veh_df['YEAR'] == vehicle_year]\n",
    "\n",
    "sample_count = len(vehicle_subset) \n",
    "print(\"Third Sample: {sample_count}\")\n",
    "\n",
    "drivers_subset = dr_df.merge(vehicle_subset, left_on='VEHICLE_ID', right_on='VEHICLE_ID')\n",
    "sample_count = len(drivers_subset)\n",
    "#print(sample_count)\n",
    "\n",
    "#Extend samples if necessary again or reduce to first 10,000 to 500\n",
    "# Filter outliers\n",
    "drivers_subset = drivers_subset[drivers_subset['CREDIT_SCORE'] > 300]\n",
    "drivers_subset = drivers_subset[drivers_subset['AGE'] > 18]                                \n",
    "sample_count = len(drivers_subset)\n",
    "#print(sample_count)  \n",
    "                                \n",
    "if sample_count > 5000:   \n",
    "    drivers_subset = drivers_subset.head(5000)\n",
    "    drivers_df = drivers_subset.drop(columns =['YEAR', 'MAKE', 'MODEL'])    \n",
    "elif sample_count > 500:\n",
    "    drivers_df = drivers_subset.drop(columns =['YEAR', 'MAKE', 'MODEL'])\n",
    "else:\n",
    "    vehicle_entered = veh_df[veh_df['VEHICLE_ID'] == input_id] \n",
    "    vehicle_year = vehicle_entered['YEAR'].item()\n",
    "    vehicle_subset = veh_df[veh_df['YEAR'] == vehicle_year]\n",
    "\n",
    "sample_count = len(drivers_df)\n",
    "print(\"Final Sample: {sample_count}\")\n",
    "if sample_count > 500:\n",
    "    drivers_subset = dr_df.merge(vehicle_subset, left_on='VEHICLE_ID', right_on='VEHICLE_ID')   \n",
    "else:\n",
    "    print(\"PASS...\")\n",
    "\n",
    "drivers_df = drivers_df.drop(columns='DRIVER_ID')\n",
    "\n",
    "y = drivers_df['CREDIT_SCORE']\n",
    "X = drivers_df.drop(columns='CREDIT_SCORE')\n",
    "\n",
    "X_train, X_test, y_train, y_test = train_test_split(X, y, test_size=0.25, random_state=0)\n",
    "RF_clf = RandomForestClassifier()\n",
    "RF_model = RF_clf.fit(X_train, y_train)\n",
    "RF_prediction = RF_clf.predict(X_test)"
   ]
  },
  {
   "cell_type": "code",
   "execution_count": 8,
   "metadata": {},
   "outputs": [],
   "source": [
    "# Setup the first data as input\n",
    "import numpy as np\n",
    "test_data = np.array([1,input_id,27])\n",
    "test_data = test_data.reshape(-1, 3)\n",
    "test_data = test_data.astype(float)"
   ]
  },
  {
   "cell_type": "code",
   "execution_count": 9,
   "metadata": {},
   "outputs": [
    {
     "data": {
      "text/plain": [
       "710"
      ]
     },
     "execution_count": 9,
     "metadata": {},
     "output_type": "execute_result"
    }
   ],
   "source": [
    "RF_model.predict(test_data)[0]  # Perfect"
   ]
  }
 ],
 "metadata": {
  "colab": {
   "authorship_tag": "ABX9TyPFMo5V1XVK8q0bpZPgHsUq",
   "collapsed_sections": [],
   "name": "Model_RandomForest.ipynb",
   "provenance": []
  },
  "kernelspec": {
   "display_name": "Python 3.7.13 ('mlenv')",
   "language": "python",
   "name": "python3"
  },
  "language_info": {
   "codemirror_mode": {
    "name": "ipython",
    "version": 3
   },
   "file_extension": ".py",
   "mimetype": "text/x-python",
   "name": "python",
   "nbconvert_exporter": "python",
   "pygments_lexer": "ipython3",
   "version": "3.7.13"
  },
  "vscode": {
   "interpreter": {
    "hash": "39a662e05a9c6f9d82bb7fc8fa05d2d829e6b5a944b298aa6f580420a422b3ff"
   }
  }
 },
 "nbformat": 4,
 "nbformat_minor": 1
}
