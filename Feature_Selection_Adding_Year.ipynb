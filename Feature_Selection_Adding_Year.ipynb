{
 "cells": [
  {
   "cell_type": "markdown",
   "id": "0b5b8d74",
   "metadata": {},
   "source": [
    "## This feature Selection Number 2 is to test vehicle id to vehicle year (might be more accureate to reflect our testing data)\n",
    "- Change the dataset\n",
    "- Run Feature test again (also try different feature selection technique like selectKBest)"
   ]
  },
  {
   "cell_type": "code",
   "execution_count": 52,
   "id": "10117941",
   "metadata": {},
   "outputs": [],
   "source": [
    "# Import basic necessities\n",
    "import pandas as pd\n",
    "import os\n",
    "import numpy as np\n",
    "\n",
    "import tensorflow as tf\n",
    "from tensorflow import keras\n",
    "\n",
    "from sklearn import preprocessing\n",
    "from sklearn.preprocessing import StandardScaler\n",
    "from sklearn.model_selection import train_test_split\n",
    "\n",
    "import warnings\n",
    "warnings.filterwarnings('ignore')"
   ]
  },
  {
   "cell_type": "code",
   "execution_count": 53,
   "id": "ee116785",
   "metadata": {},
   "outputs": [
    {
     "data": {
      "text/html": [
       "<div>\n",
       "<style scoped>\n",
       "    .dataframe tbody tr th:only-of-type {\n",
       "        vertical-align: middle;\n",
       "    }\n",
       "\n",
       "    .dataframe tbody tr th {\n",
       "        vertical-align: top;\n",
       "    }\n",
       "\n",
       "    .dataframe thead th {\n",
       "        text-align: right;\n",
       "    }\n",
       "</style>\n",
       "<table border=\"1\" class=\"dataframe\">\n",
       "  <thead>\n",
       "    <tr style=\"text-align: right;\">\n",
       "      <th></th>\n",
       "      <th>VEHICLE_ID</th>\n",
       "      <th>YEAR</th>\n",
       "      <th>MAKE</th>\n",
       "      <th>MODEL</th>\n",
       "    </tr>\n",
       "  </thead>\n",
       "  <tbody>\n",
       "    <tr>\n",
       "      <th>0</th>\n",
       "      <td>1000030</td>\n",
       "      <td>2017</td>\n",
       "      <td>MERCEDES-BENZ</td>\n",
       "      <td>S CLASS MAYBACH 650</td>\n",
       "    </tr>\n",
       "    <tr>\n",
       "      <th>1</th>\n",
       "      <td>2005191</td>\n",
       "      <td>2012</td>\n",
       "      <td>PORSCHE</td>\n",
       "      <td>911 CARRERA CARRERA 4/CARRERA 2</td>\n",
       "    </tr>\n",
       "    <tr>\n",
       "      <th>2</th>\n",
       "      <td>2005195</td>\n",
       "      <td>2012</td>\n",
       "      <td>PORSCHE</td>\n",
       "      <td>911 CARRERA 4/CARRERA 2</td>\n",
       "    </tr>\n",
       "    <tr>\n",
       "      <th>3</th>\n",
       "      <td>2005211</td>\n",
       "      <td>2012</td>\n",
       "      <td>PORSCHE</td>\n",
       "      <td>911 CARRERA S/CARRERA GTS</td>\n",
       "    </tr>\n",
       "    <tr>\n",
       "      <th>4</th>\n",
       "      <td>2005213</td>\n",
       "      <td>2012</td>\n",
       "      <td>PORSCHE</td>\n",
       "      <td>911 CARRERA CARRERA S/CARRERA 4S</td>\n",
       "    </tr>\n",
       "  </tbody>\n",
       "</table>\n",
       "</div>"
      ],
      "text/plain": [
       "   VEHICLE_ID  YEAR           MAKE                             MODEL\n",
       "0     1000030  2017  MERCEDES-BENZ               S CLASS MAYBACH 650\n",
       "1     2005191  2012        PORSCHE   911 CARRERA CARRERA 4/CARRERA 2\n",
       "2     2005195  2012        PORSCHE           911 CARRERA 4/CARRERA 2\n",
       "3     2005211  2012        PORSCHE         911 CARRERA S/CARRERA GTS\n",
       "4     2005213  2012        PORSCHE  911 CARRERA CARRERA S/CARRERA 4S"
      ]
     },
     "execution_count": 53,
     "metadata": {},
     "output_type": "execute_result"
    }
   ],
   "source": [
    "# same testing data + import vehcle data\n",
    "drivers_df = pd.read_csv(\"ready_db/drviers.csv\")\n",
    "vehicles_df = pd.read_csv(\"ready_db/vehicles.csv\")\n",
    "vehicles_df.head()"
   ]
  },
  {
   "cell_type": "code",
   "execution_count": 54,
   "id": "dbabecba",
   "metadata": {},
   "outputs": [
    {
     "data": {
      "text/html": [
       "<div>\n",
       "<style scoped>\n",
       "    .dataframe tbody tr th:only-of-type {\n",
       "        vertical-align: middle;\n",
       "    }\n",
       "\n",
       "    .dataframe tbody tr th {\n",
       "        vertical-align: top;\n",
       "    }\n",
       "\n",
       "    .dataframe thead th {\n",
       "        text-align: right;\n",
       "    }\n",
       "</style>\n",
       "<table border=\"1\" class=\"dataframe\">\n",
       "  <thead>\n",
       "    <tr style=\"text-align: right;\">\n",
       "      <th></th>\n",
       "      <th>DRIVER_ID</th>\n",
       "      <th>GENDER</th>\n",
       "      <th>CREDIT_SCORE</th>\n",
       "      <th>AGE</th>\n",
       "      <th>VEHICLE_ID</th>\n",
       "      <th>YEAR</th>\n",
       "    </tr>\n",
       "  </thead>\n",
       "  <tbody>\n",
       "    <tr>\n",
       "      <th>0</th>\n",
       "      <td>1</td>\n",
       "      <td>2.0</td>\n",
       "      <td>824</td>\n",
       "      <td>27.0</td>\n",
       "      <td>7420963</td>\n",
       "      <td>2013.0</td>\n",
       "    </tr>\n",
       "    <tr>\n",
       "      <th>1</th>\n",
       "      <td>2</td>\n",
       "      <td>1.0</td>\n",
       "      <td>824</td>\n",
       "      <td>28.0</td>\n",
       "      <td>7420963</td>\n",
       "      <td>2013.0</td>\n",
       "    </tr>\n",
       "    <tr>\n",
       "      <th>2</th>\n",
       "      <td>3</td>\n",
       "      <td>2.0</td>\n",
       "      <td>666</td>\n",
       "      <td>51.0</td>\n",
       "      <td>7396448</td>\n",
       "      <td>NaN</td>\n",
       "    </tr>\n",
       "    <tr>\n",
       "      <th>3</th>\n",
       "      <td>4</td>\n",
       "      <td>2.0</td>\n",
       "      <td>666</td>\n",
       "      <td>34.0</td>\n",
       "      <td>6208988</td>\n",
       "      <td>2014.0</td>\n",
       "    </tr>\n",
       "    <tr>\n",
       "      <th>4</th>\n",
       "      <td>5</td>\n",
       "      <td>2.0</td>\n",
       "      <td>824</td>\n",
       "      <td>88.0</td>\n",
       "      <td>6078430</td>\n",
       "      <td>2013.0</td>\n",
       "    </tr>\n",
       "  </tbody>\n",
       "</table>\n",
       "</div>"
      ],
      "text/plain": [
       "   DRIVER_ID  GENDER  CREDIT_SCORE   AGE  VEHICLE_ID    YEAR\n",
       "0          1     2.0           824  27.0     7420963  2013.0\n",
       "1          2     1.0           824  28.0     7420963  2013.0\n",
       "2          3     2.0           666  51.0     7396448     NaN\n",
       "3          4     2.0           666  34.0     6208988  2014.0\n",
       "4          5     2.0           824  88.0     6078430  2013.0"
      ]
     },
     "execution_count": 54,
     "metadata": {},
     "output_type": "execute_result"
    }
   ],
   "source": [
    "# Merge Year to the Test table\n",
    "D_V_df = drivers_df.merge(vehicles_df, how='left', on='VEHICLE_ID')\n",
    "# Drop Make, model for now\n",
    "D_V_df = D_V_df.drop('MAKE', 1)\n",
    "D_V_df = D_V_df.drop('MODEL', 1)\n",
    "D_V_df.head()"
   ]
  },
  {
   "cell_type": "code",
   "execution_count": 55,
   "id": "a1cb2719",
   "metadata": {},
   "outputs": [
    {
     "name": "stdout",
     "output_type": "stream",
     "text": [
      "<class 'pandas.core.frame.DataFrame'>\n",
      "Int64Index: 371 entries, 0 to 735\n",
      "Data columns (total 6 columns):\n",
      " #   Column        Non-Null Count  Dtype  \n",
      "---  ------        --------------  -----  \n",
      " 0   DRIVER_ID     371 non-null    int64  \n",
      " 1   GENDER        371 non-null    float64\n",
      " 2   CREDIT_SCORE  371 non-null    int64  \n",
      " 3   AGE           371 non-null    float64\n",
      " 4   VEHICLE_ID    371 non-null    int64  \n",
      " 5   YEAR          371 non-null    float64\n",
      "dtypes: float64(3), int64(3)\n",
      "memory usage: 20.3 KB\n"
     ]
    }
   ],
   "source": [
    "# Drop missing values\n",
    "D_V_df = D_V_df.dropna()\n",
    "D_V_df.info()"
   ]
  },
  {
   "cell_type": "code",
   "execution_count": 56,
   "id": "76645b9a",
   "metadata": {},
   "outputs": [],
   "source": [
    "# Remove creadit score outcome target from fetures data\n",
    "y = D_V_df['CREDIT_SCORE']\n",
    "X = D_V_df.drop(columns='CREDIT_SCORE')"
   ]
  },
  {
   "cell_type": "code",
   "execution_count": 57,
   "id": "d55b9310",
   "metadata": {},
   "outputs": [],
   "source": [
    "from sklearn.model_selection import train_test_split \n",
    "X_train, X_test, y_train, y_test = train_test_split(X, y, random_state=42) "
   ]
  },
  {
   "cell_type": "code",
   "execution_count": 58,
   "id": "f80f82b8",
   "metadata": {},
   "outputs": [],
   "source": [
    "from sklearn.preprocessing import MinMaxScaler\n",
    "scaler = MinMaxScaler()\n",
    "X_scaled = scaler.fit_transform(X_train)"
   ]
  },
  {
   "cell_type": "code",
   "execution_count": 59,
   "id": "0f0f6b0a",
   "metadata": {},
   "outputs": [
    {
     "name": "stdout",
     "output_type": "stream",
     "text": [
      "Explained Variance: [0.52180874 0.1731221  0.15543164 0.08983638 0.05980113]\n",
      "[[ 0.01440759 -0.99758991  0.04136058 -0.04281861  0.0325985 ]\n",
      " [ 0.8862104   0.0171567   0.20209753 -0.18892298 -0.37121622]\n",
      " [ 0.39518184  0.0281956   0.10836255  0.2485777   0.87721321]\n",
      " [-0.20585773  0.02375322  0.9478566   0.22520539 -0.08893128]\n",
      " [-0.12600579  0.0562211   0.21741967 -0.92193619  0.28935114]]\n"
     ]
    }
   ],
   "source": [
    "# The PCA algorithem is going to standardize the input data frame, calculate teh covariance matrix of the features\n",
    "# eigenvector - covariance matrix of the features can be avaraged by generating another vector (pointer)\n",
    "# distance form one point to another (pointer length) eigenvalues\n",
    "# PCA shows : What number of principal components we need.\n",
    "from sklearn.decomposition import PCA\n",
    "pca = PCA(n_components=0.95)\n",
    "fit = pca.fit(X_scaled)\n",
    "print(f\"Explained Variance: {fit.explained_variance_ratio_}\")\n",
    "print(fit.components_)"
   ]
  },
  {
   "cell_type": "code",
   "execution_count": 60,
   "id": "2fde9c54",
   "metadata": {},
   "outputs": [
    {
     "name": "stdout",
     "output_type": "stream",
     "text": [
      "[0.27574314 0.03659368 0.26230074 0.22707882 0.19828362]\n"
     ]
    }
   ],
   "source": [
    "# The purpose of the ExtraTreesClassifier is to fit a number of randomized decision trees to the data, from of ensemble learning\n",
    "# Particularly, random splits of all observations are carried out to ensure that the model does not overfit the data.\n",
    "from sklearn.ensemble import ExtraTreesClassifier\n",
    "model = ExtraTreesClassifier()\n",
    "model.fit(X, y)\n",
    "# The importans of a feature is computed as the (normalized) Total reduction of the criterion brough by that feature.\n",
    "print(model.feature_importances_)"
   ]
  },
  {
   "cell_type": "code",
   "execution_count": 61,
   "id": "95a41e68",
   "metadata": {},
   "outputs": [
    {
     "name": "stdout",
     "output_type": "stream",
     "text": [
      "[[1.000000e+00 2.000000e+00 2.700000e+01 7.420963e+06 2.013000e+03]\n",
      " [2.000000e+00 1.000000e+00 2.800000e+01 7.420963e+06 2.013000e+03]\n",
      " [4.000000e+00 2.000000e+00 3.400000e+01 6.208988e+06 2.014000e+03]\n",
      " ...\n",
      " [7.340000e+02 2.000000e+00 8.700000e+01 6.129954e+06 2.015000e+03]\n",
      " [7.350000e+02 1.000000e+00 2.500000e+01 6.820645e+06 2.012000e+03]\n",
      " [7.360000e+02 1.000000e+00 3.800000e+01 6.820645e+06 2.012000e+03]]\n"
     ]
    }
   ],
   "source": [
    "from sklearn.feature_selection import SelectKBest\n",
    "from sklearn.feature_selection import f_regression\n",
    "z = SelectKBest(score_func=f_regression, k = 5).fit_transform(X, y)\n",
    "print(z)"
   ]
  },
  {
   "cell_type": "code",
   "execution_count": 63,
   "id": "8f6b8402",
   "metadata": {},
   "outputs": [
    {
     "name": "stdout",
     "output_type": "stream",
     "text": [
      "Feature Ranking:\n",
      "1. features 0 (0.297217)\n",
      "2. features 2 (0.260932)\n",
      "3. features 3 (0.247085)\n",
      "4. features 4 (0.169348)\n",
      "5. features 1 (0.025417)\n"
     ]
    }
   ],
   "source": [
    "# Random Forest, when imported from the sklearn library, provides a method where you can get the feature importance \n",
    "# of each of the variables. This is a good method to gauge the feature importance on datasets where Random Forest fits \n",
    "# the data with high accuracy.\n",
    "from sklearn.ensemble import RandomForestClassifier as RClf\n",
    "\n",
    "model = RClf(n_estimators = 100)\n",
    "model.fit(X, y)\n",
    "importances = model.feature_importances_\n",
    "std = np.std([importances for tree in model.estimators_], axis = 0)\n",
    "\n",
    "indices = np.argsort(importances)[::-1]\n",
    "\n",
    "print('Feature Ranking:')\n",
    "\n",
    "for f in range(X.shape[1]):\n",
    "\tprint('%d. features %d (%f)'% (f+1, indices[f], importances[indices[f]]))"
   ]
  },
  {
   "cell_type": "code",
   "execution_count": null,
   "id": "038518c5",
   "metadata": {},
   "outputs": [],
   "source": []
  }
 ],
 "metadata": {
  "kernelspec": {
   "display_name": "mlenv",
   "language": "python",
   "name": "mlenv"
  },
  "language_info": {
   "codemirror_mode": {
    "name": "ipython",
    "version": 3
   },
   "file_extension": ".py",
   "mimetype": "text/x-python",
   "name": "python",
   "nbconvert_exporter": "python",
   "pygments_lexer": "ipython3",
   "version": "3.7.13"
  }
 },
 "nbformat": 4,
 "nbformat_minor": 5
}
