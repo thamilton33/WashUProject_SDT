{
 "cells": [
  {
   "cell_type": "code",
   "execution_count": 26,
   "id": "b29eb911",
   "metadata": {},
   "outputs": [],
   "source": [
    "import json\n",
    "import pandas as pd\n",
    "import os"
   ]
  },
  {
   "cell_type": "code",
   "execution_count": 27,
   "id": "250781e2",
   "metadata": {},
   "outputs": [
    {
     "data": {
      "text/plain": [
       "'C:\\\\Users\\\\Daniel\\\\Desktop\\\\CLASS MASTER FILE\\\\Final Project\\\\WashUProject_SDT\\\\data\\\\clean_vehicle_data'"
      ]
     },
     "execution_count": 27,
     "metadata": {},
     "output_type": "execute_result"
    }
   ],
   "source": [
    "# Get working directory.\n",
    "os.getcwd()"
   ]
  },
  {
   "cell_type": "code",
   "execution_count": 28,
   "id": "05d3a9e7",
   "metadata": {},
   "outputs": [],
   "source": [
    "# Change directory to where data is stored outside local git repository.\n",
    "os.chdir(r\"C:\\Users\\Daniel\\Desktop\\CLASS MASTER FILE\\Final Project\\WashUProject_SDT\\data\\clean_vehicle_data\")"
   ]
  },
  {
   "cell_type": "code",
   "execution_count": null,
   "id": "f72396f6",
   "metadata": {},
   "outputs": [],
   "source": []
  },
  {
   "cell_type": "code",
   "execution_count": 29,
   "id": "0f886a0c",
   "metadata": {},
   "outputs": [],
   "source": [
    "f = pd.read_csv('vehicle_data.csv')\n"
   ]
  },
  {
   "cell_type": "code",
   "execution_count": 30,
   "id": "a4f33177",
   "metadata": {},
   "outputs": [
    {
     "data": {
      "text/html": [
       "<div>\n",
       "<style scoped>\n",
       "    .dataframe tbody tr th:only-of-type {\n",
       "        vertical-align: middle;\n",
       "    }\n",
       "\n",
       "    .dataframe tbody tr th {\n",
       "        vertical-align: top;\n",
       "    }\n",
       "\n",
       "    .dataframe thead th {\n",
       "        text-align: right;\n",
       "    }\n",
       "</style>\n",
       "<table border=\"1\" class=\"dataframe\">\n",
       "  <thead>\n",
       "    <tr style=\"text-align: right;\">\n",
       "      <th></th>\n",
       "      <th>Unnamed: 0</th>\n",
       "      <th>VEHICLE_ID</th>\n",
       "      <th>YEAR</th>\n",
       "      <th>MAKE</th>\n",
       "      <th>MODEL</th>\n",
       "    </tr>\n",
       "  </thead>\n",
       "  <tbody>\n",
       "    <tr>\n",
       "      <th>0</th>\n",
       "      <td>0</td>\n",
       "      <td>2005295</td>\n",
       "      <td>2012</td>\n",
       "      <td>PORSCHE</td>\n",
       "      <td>911 CARRERA CARRERA S/CARRERA 4S</td>\n",
       "    </tr>\n",
       "    <tr>\n",
       "      <th>1</th>\n",
       "      <td>1</td>\n",
       "      <td>2005295</td>\n",
       "      <td>2012</td>\n",
       "      <td>PORSCHE</td>\n",
       "      <td>911 CARRERA CARRERA S/CARRERA 4S</td>\n",
       "    </tr>\n",
       "    <tr>\n",
       "      <th>2</th>\n",
       "      <td>2</td>\n",
       "      <td>2005295</td>\n",
       "      <td>2012</td>\n",
       "      <td>PORSCHE</td>\n",
       "      <td>911 CARRERA CARRERA S/CARRERA 4S</td>\n",
       "    </tr>\n",
       "    <tr>\n",
       "      <th>3</th>\n",
       "      <td>3</td>\n",
       "      <td>4000020</td>\n",
       "      <td>2011</td>\n",
       "      <td>DODGE</td>\n",
       "      <td>DAKOTA CC BIGHORN/LONESTAR</td>\n",
       "    </tr>\n",
       "    <tr>\n",
       "      <th>4</th>\n",
       "      <td>4</td>\n",
       "      <td>4000020</td>\n",
       "      <td>2011</td>\n",
       "      <td>DODGE</td>\n",
       "      <td>DAKOTA CC BIGHORN/LONESTAR</td>\n",
       "    </tr>\n",
       "  </tbody>\n",
       "</table>\n",
       "</div>"
      ],
      "text/plain": [
       "   Unnamed: 0  VEHICLE_ID  YEAR     MAKE                             MODEL\n",
       "0           0     2005295  2012  PORSCHE  911 CARRERA CARRERA S/CARRERA 4S\n",
       "1           1     2005295  2012  PORSCHE  911 CARRERA CARRERA S/CARRERA 4S\n",
       "2           2     2005295  2012  PORSCHE  911 CARRERA CARRERA S/CARRERA 4S\n",
       "3           3     4000020  2011    DODGE        DAKOTA CC BIGHORN/LONESTAR\n",
       "4           4     4000020  2011    DODGE        DAKOTA CC BIGHORN/LONESTAR"
      ]
     },
     "execution_count": 30,
     "metadata": {},
     "output_type": "execute_result"
    }
   ],
   "source": [
    "f.head()"
   ]
  },
  {
   "cell_type": "code",
   "execution_count": 69,
   "id": "f3e52960",
   "metadata": {},
   "outputs": [
    {
     "data": {
      "text/plain": [
       "'ALFA ROMEO'"
      ]
     },
     "execution_count": 69,
     "metadata": {},
     "output_type": "execute_result"
    }
   ],
   "source": [
    "array = (['ACURA', 'ALFA ROMEO', 'ASTON MARTIN', 'AUDI',\n",
    "'BENTLEY', 'BMW', 'BUGATTI', 'BUICK', 'CADILLAC', 'CHEVROLET',\n",
    "'CHRYSLER', 'DODGE', 'FERRARI', 'FIAT', 'FISKER/KARMA AUTOMOTIVE',\n",
    "'FORD', 'FREIGHTLINER', 'GENESIS', 'GMC', 'HONDA', 'HYUNDAI',\n",
    "'INFINITI', 'JAGUAR', 'JEEP', 'KARMA AUTOMOTIVE', 'KIA', 'LAMBORGHINI',\n",
    "'LAND ROVER', 'LEXUS', 'LINCOLN', 'LOTUS', 'MASERATI', 'MAYBACH', \n",
    "'MAZDA', 'MCLAREN', 'MERCEDES-BENZ', 'MERCURY', 'MINI', 'MITSUBISHI',\n",
    "'NISSAN', 'PONTIAC', 'PORSCHE', 'RAM', 'ROLLS ROYCE', 'SAAB', 'SATURN',\n",
    "'SCION', 'SMART', 'SUBARU', 'SUZUKI', 'TESLA', 'TOYOTA', 'VOLKSWAGEN', 'VOLVO'])\n",
    "\n",
    "array[1]"
   ]
  },
  {
   "cell_type": "code",
   "execution_count": 72,
   "id": "b4c62a7c",
   "metadata": {},
   "outputs": [],
   "source": [
    "import pandas as pd\n",
    "# Create the cars DataFrame. \n",
    "# Used to populate js.dropdown selection lists\n",
    "# [\"VEHICLE_ID\",\"YEAR\",\"MAKE\", \"MODEL\"\"HasMatch\",\"DRIVER_ID\",\"GENDER\",\"CREDIT_SCORE\",\"AGE\"]\n",
    "vehicle_data = pd.read_csv(\"vehicle_data.csv\")\n",
    "cars_df = vehicle_data\n",
    "\n",
    "\n",
    "array = ['ACURA', 'ALFA ROMEO', 'ASTON MARTIN', 'AUDI',\n",
    "'BENTLEY', 'BMW', 'BUGATTI', 'BUICK', 'CADILLAC', 'CHEVROLET',\n",
    "'CHRYSLER', 'DODGE', 'FERRARI', 'FIAT', 'FISKER/KARMA AUTOMOTIVE',\n",
    "'FORD', 'FREIGHTLINER', 'GENESIS', 'GMC', 'HONDA', 'HYUNDAI',\n",
    "'INFINITI', 'JAGUAR', 'JEEP', 'KARMA AUTOMOTIVE', 'KIA', 'LAMBORGHINI',\n",
    "'LAND ROVER', 'LEXUS', 'LINCOLN', 'LOTUS', 'MASERATI', 'MAYBACH', \n",
    "'MAZDA', 'MCLAREN', 'MERCEDES-BENZ', 'MERCURY', 'MINI', 'MITSUBISHI',\n",
    "'NISSAN', 'PONTIAC', 'PORSCHE', 'RAM', 'ROLLS ROYCE', 'SAAB', 'SATURN',\n",
    "'SCION', 'SMART', 'SUBARU', 'SUZUKI', 'TESLA', 'TOYOTA', 'VOLKSWAGEN', 'VOLVO']"
   ]
  },
  {
   "cell_type": "code",
   "execution_count": 81,
   "id": "9722f3e0",
   "metadata": {},
   "outputs": [
    {
     "ename": "SyntaxError",
     "evalue": "invalid syntax (2051866179.py, line 2)",
     "output_type": "error",
     "traceback": [
      "\u001b[1;36m  File \u001b[1;32m\"C:\\Users\\Daniel\\AppData\\Local\\Temp\\ipykernel_16916\\2051866179.py\"\u001b[1;36m, line \u001b[1;32m2\u001b[0m\n\u001b[1;33m    df2 = cars_df[\"MAKE\"])\u001b[0m\n\u001b[1;37m                         ^\u001b[0m\n\u001b[1;31mSyntaxError\u001b[0m\u001b[1;31m:\u001b[0m invalid syntax\n"
     ]
    }
   ],
   "source": [
    "df = cars_df[\"MODEL\"]\n",
    "df2 = cars_df[\"MAKE\"])\n",
    "\n",
    "data = cars_df"
   ]
  },
  {
   "cell_type": "code",
   "execution_count": 79,
   "id": "666c1f72",
   "metadata": {},
   "outputs": [
    {
     "data": {
      "text/plain": [
       "0         911 CARRERA CARRERA S/CARRERA 4S\n",
       "1         911 CARRERA CARRERA S/CARRERA 4S\n",
       "2         911 CARRERA CARRERA S/CARRERA 4S\n",
       "3               DAKOTA CC BIGHORN/LONESTAR\n",
       "4               DAKOTA CC BIGHORN/LONESTAR\n",
       "                        ...               \n",
       "571574                          LAND ROVER\n",
       "571575                          LAND ROVER\n",
       "571576                          LAND ROVER\n",
       "571577                         LAMBORGHINI\n",
       "571578                         LAMBORGHINI\n",
       "Length: 1143158, dtype: object"
      ]
     },
     "execution_count": 79,
     "metadata": {},
     "output_type": "execute_result"
    }
   ],
   "source": [
    "df"
   ]
  },
  {
   "cell_type": "code",
   "execution_count": null,
   "id": "98ee03da",
   "metadata": {},
   "outputs": [],
   "source": []
  }
 ],
 "metadata": {
  "kernelspec": {
   "display_name": "mlenv",
   "language": "python",
   "name": "mlenv"
  },
  "language_info": {
   "codemirror_mode": {
    "name": "ipython",
    "version": 3
   },
   "file_extension": ".py",
   "mimetype": "text/x-python",
   "name": "python",
   "nbconvert_exporter": "python",
   "pygments_lexer": "ipython3",
   "version": "3.7.13"
  }
 },
 "nbformat": 4,
 "nbformat_minor": 5
}
