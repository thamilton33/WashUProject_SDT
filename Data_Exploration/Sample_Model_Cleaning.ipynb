{
 "cells": [
  {
   "cell_type": "code",
   "execution_count": 2,
   "id": "e6d2f9cb",
   "metadata": {},
   "outputs": [],
   "source": [
    "#Dependencies\n",
    "import pandas as pd\n",
    "import nltk\n",
    "import os\n",
    "import pandas as pd\n",
    "import numpy as np"
   ]
  },
  {
   "cell_type": "code",
   "execution_count": 15,
   "id": "669478f6",
   "metadata": {},
   "outputs": [
    {
     "data": {
      "text/plain": [
       "'C:\\\\Users\\\\Daniel\\\\Desktop\\\\CLASS MASTER FILE\\\\Final Project\\\\WashUProject_SDT'"
      ]
     },
     "execution_count": 15,
     "metadata": {},
     "output_type": "execute_result"
    }
   ],
   "source": [
    "os.getcwd()"
   ]
  },
  {
   "cell_type": "code",
   "execution_count": 16,
   "id": "911a71c2",
   "metadata": {},
   "outputs": [],
   "source": [
    "os.chdir(r\"C:\\\\Users\\\\Daniel\\\\Desktop\\\\CLASS MASTER FILE\\\\Final Project\\\\data\")"
   ]
  },
  {
   "cell_type": "code",
   "execution_count": 21,
   "id": "2b995def",
   "metadata": {},
   "outputs": [],
   "source": [
    "# Target data set\n",
    "#xl_file = \"./data/vehicles.xlsx\"\n",
    "\n",
    "# application\n",
    "vehicle_table = pd.read_csv(\"vehicles_new.csv\")\n",
    "driver_table = pd.read_csv(\"drivers_new.csv\")"
   ]
  },
  {
   "cell_type": "code",
   "execution_count": 22,
   "id": "19ab49e2",
   "metadata": {},
   "outputs": [
    {
     "data": {
      "text/html": [
       "<div>\n",
       "<style scoped>\n",
       "    .dataframe tbody tr th:only-of-type {\n",
       "        vertical-align: middle;\n",
       "    }\n",
       "\n",
       "    .dataframe tbody tr th {\n",
       "        vertical-align: top;\n",
       "    }\n",
       "\n",
       "    .dataframe thead th {\n",
       "        text-align: right;\n",
       "    }\n",
       "</style>\n",
       "<table border=\"1\" class=\"dataframe\">\n",
       "  <thead>\n",
       "    <tr style=\"text-align: right;\">\n",
       "      <th></th>\n",
       "      <th>VEHICLE_ID</th>\n",
       "      <th>YEAR</th>\n",
       "      <th>MAKE</th>\n",
       "      <th>MODEL</th>\n",
       "    </tr>\n",
       "  </thead>\n",
       "  <tbody>\n",
       "    <tr>\n",
       "      <th>0</th>\n",
       "      <td>1000030</td>\n",
       "      <td>2017</td>\n",
       "      <td>MERCEDES-BENZ</td>\n",
       "      <td>S CLASS MAYBACH 650</td>\n",
       "    </tr>\n",
       "    <tr>\n",
       "      <th>1</th>\n",
       "      <td>2005191</td>\n",
       "      <td>2012</td>\n",
       "      <td>PORSCHE</td>\n",
       "      <td>911 CARRERA CARRERA 4/CARRERA 2</td>\n",
       "    </tr>\n",
       "    <tr>\n",
       "      <th>2</th>\n",
       "      <td>2005195</td>\n",
       "      <td>2012</td>\n",
       "      <td>PORSCHE</td>\n",
       "      <td>911 CARRERA 4/CARRERA 2</td>\n",
       "    </tr>\n",
       "    <tr>\n",
       "      <th>3</th>\n",
       "      <td>2005211</td>\n",
       "      <td>2012</td>\n",
       "      <td>PORSCHE</td>\n",
       "      <td>911 CARRERA S/CARRERA GTS</td>\n",
       "    </tr>\n",
       "    <tr>\n",
       "      <th>4</th>\n",
       "      <td>2005213</td>\n",
       "      <td>2012</td>\n",
       "      <td>PORSCHE</td>\n",
       "      <td>911 CARRERA CARRERA S/CARRERA 4S</td>\n",
       "    </tr>\n",
       "  </tbody>\n",
       "</table>\n",
       "</div>"
      ],
      "text/plain": [
       "   VEHICLE_ID  YEAR           MAKE                             MODEL\n",
       "0     1000030  2017  MERCEDES-BENZ               S CLASS MAYBACH 650\n",
       "1     2005191  2012        PORSCHE   911 CARRERA CARRERA 4/CARRERA 2\n",
       "2     2005195  2012        PORSCHE           911 CARRERA 4/CARRERA 2\n",
       "3     2005211  2012        PORSCHE         911 CARRERA S/CARRERA GTS\n",
       "4     2005213  2012        PORSCHE  911 CARRERA CARRERA S/CARRERA 4S"
      ]
     },
     "execution_count": 22,
     "metadata": {},
     "output_type": "execute_result"
    }
   ],
   "source": [
    "# Read excel data in as a df\n",
    "# data = pd.read_excel(xl_file)\n",
    "# data.head()\n",
    "\n",
    "# application\n",
    "data = vehicle_table\n",
    "data.head()"
   ]
  },
  {
   "cell_type": "code",
   "execution_count": 23,
   "id": "c531f603",
   "metadata": {},
   "outputs": [
    {
     "name": "stdout",
     "output_type": "stream",
     "text": [
      "['MERCEDES-BENZ' 'PORSCHE' 'DODGE' 'SUBARU' 'NISSAN' 'ACURA' 'HONDA'\n",
      " 'CHRYSLER' 'FIAT' 'JEEP' 'RAM' 'FORD' 'CHEVROLET' 'PONTIAC' 'BUICK'\n",
      " 'CADILLAC' 'GMC' 'LINCOLN' 'MERCURY' 'TOYOTA' 'VOLKSWAGEN' 'WHEEGO'\n",
      " 'MAZDA' 'HYUNDAI' 'SUZUKI' 'LEXUS' 'SAAB' 'SATURN' 'KIA' 'SCION'\n",
      " 'INFINITI' 'MITSUBISHI' 'BMW' 'VPG/MOBILITY VENTURES' 'CODA'\n",
      " 'MOBILITY VENTURES' 'TESLA' 'AM GENERAL' 'GENESIS' 'VOLVO' 'JAGUAR'\n",
      " 'LAND ROVER' 'MCLAREN' 'ROLLS ROYCE' 'BENTLEY' 'LOTUS' 'ASTON MARTIN'\n",
      " 'AUDI' 'BUGATTI' 'FREIGHTLINER' 'MAYBACH' 'SMART' 'MINI'\n",
      " 'FISKER/KARMA AUTOMOTIVE' 'MASERATI' 'ALFA ROMEO' 'FERRARI' 'LAMBORGHINI'\n",
      " 'KARMA AUTOMOTIVE']\n"
     ]
    }
   ],
   "source": [
    "# See all manufacturer names\n",
    "print(data[\"MAKE\"].unique())"
   ]
  },
  {
   "cell_type": "code",
   "execution_count": 31,
   "id": "ca42bbc4",
   "metadata": {},
   "outputs": [],
   "source": [
    "# Sort names alphabetically by Manufacturer, rename columns\n",
    "df_sorted = data.sort_values(\"MAKE\")\n",
    "#df_sorted = df_sorted.rename(columns={'Model Year': 'Year', 'Manufacturer Name': 'Make'})\n",
    "\n",
    "# Create Df for target manufacturer (alphabetically, Acura is first)\n",
    "makes_array = df_sorted[\"MAKE\"].unique()"
   ]
  },
  {
   "cell_type": "code",
   "execution_count": 32,
   "id": "437e43a0",
   "metadata": {},
   "outputs": [
    {
     "data": {
      "text/plain": [
       "array(['ACURA', 'ALFA ROMEO', 'AM GENERAL', 'ASTON MARTIN', 'AUDI',\n",
       "       'BENTLEY', 'BMW', 'BUGATTI', 'BUICK', 'CADILLAC', 'CHEVROLET',\n",
       "       'CHRYSLER', 'CODA', 'DODGE', 'FERRARI', 'FIAT',\n",
       "       'FISKER/KARMA AUTOMOTIVE', 'FORD', 'FREIGHTLINER', 'GENESIS',\n",
       "       'GMC', 'HONDA', 'HYUNDAI', 'INFINITI', 'JAGUAR', 'JEEP',\n",
       "       'KARMA AUTOMOTIVE', 'KIA', 'LAMBORGHINI', 'LAND ROVER', 'LEXUS',\n",
       "       'LINCOLN', 'LOTUS', 'MASERATI', 'MAYBACH', 'MAZDA', 'MCLAREN',\n",
       "       'MERCEDES-BENZ', 'MERCURY', 'MINI', 'MITSUBISHI',\n",
       "       'MOBILITY VENTURES', 'NISSAN', 'PONTIAC', 'PORSCHE', 'RAM',\n",
       "       'ROLLS ROYCE', 'SAAB', 'SATURN', 'SCION', 'SMART', 'SUBARU',\n",
       "       'SUZUKI', 'TESLA', 'TOYOTA', 'VOLKSWAGEN', 'VOLVO',\n",
       "       'VPG/MOBILITY VENTURES', 'WHEEGO'], dtype=object)"
      ]
     },
     "execution_count": 32,
     "metadata": {},
     "output_type": "execute_result"
    }
   ],
   "source": [
    "makes_array"
   ]
  },
  {
   "cell_type": "code",
   "execution_count": null,
   "id": "96f21d08",
   "metadata": {},
   "outputs": [],
   "source": [
    "#Create a for loop that separates the data into makes and counts the number of results for each\n",
    "\n",
    "#For each make in the data\n",
    "for make in makes_array:\n",
    "    \n",
    "    "
   ]
  },
  {
   "cell_type": "code",
   "execution_count": 11,
   "id": "e048cb48",
   "metadata": {},
   "outputs": [
    {
     "data": {
      "text/html": [
       "<div>\n",
       "<style scoped>\n",
       "    .dataframe tbody tr th:only-of-type {\n",
       "        vertical-align: middle;\n",
       "    }\n",
       "\n",
       "    .dataframe tbody tr th {\n",
       "        vertical-align: top;\n",
       "    }\n",
       "\n",
       "    .dataframe thead th {\n",
       "        text-align: right;\n",
       "    }\n",
       "</style>\n",
       "<table border=\"1\" class=\"dataframe\">\n",
       "  <thead>\n",
       "    <tr style=\"text-align: right;\">\n",
       "      <th></th>\n",
       "      <th>VEHICLE_ID</th>\n",
       "      <th>YEAR</th>\n",
       "      <th>MAKE</th>\n",
       "      <th>MODEL</th>\n",
       "    </tr>\n",
       "  </thead>\n",
       "  <tbody>\n",
       "    <tr>\n",
       "      <th>55792</th>\n",
       "      <td>7503619</td>\n",
       "      <td>2021</td>\n",
       "      <td>ACURA</td>\n",
       "      <td>RDX ADVANCE PACKAGE</td>\n",
       "    </tr>\n",
       "    <tr>\n",
       "      <th>620</th>\n",
       "      <td>6000544</td>\n",
       "      <td>2013</td>\n",
       "      <td>ACURA</td>\n",
       "      <td>RDX TECHNOLOGY PACKAGE</td>\n",
       "    </tr>\n",
       "    <tr>\n",
       "      <th>621</th>\n",
       "      <td>6000545</td>\n",
       "      <td>2016</td>\n",
       "      <td>ACURA</td>\n",
       "      <td>RDX TECHNOLOGY PACKAGE</td>\n",
       "    </tr>\n",
       "    <tr>\n",
       "      <th>622</th>\n",
       "      <td>6000546</td>\n",
       "      <td>2013</td>\n",
       "      <td>ACURA</td>\n",
       "      <td>RDX TECHNOLOGY PACKAGE</td>\n",
       "    </tr>\n",
       "    <tr>\n",
       "      <th>623</th>\n",
       "      <td>6000547</td>\n",
       "      <td>2014</td>\n",
       "      <td>ACURA</td>\n",
       "      <td>RDX TECHNOLOGY PACKAGE</td>\n",
       "    </tr>\n",
       "  </tbody>\n",
       "</table>\n",
       "</div>"
      ],
      "text/plain": [
       "       VEHICLE_ID  YEAR   MAKE                   MODEL\n",
       "55792     7503619  2021  ACURA     RDX ADVANCE PACKAGE\n",
       "620       6000544  2013  ACURA  RDX TECHNOLOGY PACKAGE\n",
       "621       6000545  2016  ACURA  RDX TECHNOLOGY PACKAGE\n",
       "622       6000546  2013  ACURA  RDX TECHNOLOGY PACKAGE\n",
       "623       6000547  2014  ACURA  RDX TECHNOLOGY PACKAGE"
      ]
     },
     "execution_count": 11,
     "metadata": {},
     "output_type": "execute_result"
    }
   ],
   "source": [
    "acura_df.head()"
   ]
  },
  {
   "cell_type": "code",
   "execution_count": 12,
   "id": "a1320ff4",
   "metadata": {},
   "outputs": [
    {
     "data": {
      "text/plain": [
       "385"
      ]
     },
     "execution_count": 12,
     "metadata": {},
     "output_type": "execute_result"
    }
   ],
   "source": [
    "# Show the number of rows to refer to check our work later.\n",
    "len(acura_df)"
   ]
  },
  {
   "cell_type": "code",
   "execution_count": 14,
   "id": "c8c37180",
   "metadata": {},
   "outputs": [
    {
     "data": {
      "text/plain": [
       "array(['RDX ADVANCE PACKAGE', 'RDX TECHNOLOGY PACKAGE', 'TL',\n",
       "       'MDX TECHNOLOGY PACKAGE', 'MDX ADVANCE PACKAGE', 'TL SE',\n",
       "       'TL TECHNOLOGY PACKAGE', 'TL ADVANCE PACKAGE', 'NSX',\n",
       "       'ILX TECHNOLOGY PACKAGE', 'ILX 2.0 PREM. PACKAGE',\n",
       "       'ILX 2.4 PREM. PACKAGE', 'ILX', 'ILX SPECIAL EDITION',\n",
       "       'ILX PREM./TECH PLUS', 'ILX PREM/TECH PLUS/A-SPEC',\n",
       "       'ILX PREM. PACKAGE', 'ILX PREM./TECHNOLOGY A-SPC',\n",
       "       'TLX TECHNOLOGY PACKAGE', 'TLX V6', 'TLX V6 TECHNOLOGY PACKAGE',\n",
       "       'TLX V6 A-SPEC', 'TLX V6 ADVANCE PACKAGE', 'TLX',\n",
       "       'TLX TECHNOLOGY A-SPEC', 'TLX ADVANCE PACKAGE',\n",
       "       'MDX ADVANCE PACKAGE+RES', 'RDX', 'MDX TECHNOLOGY PACKAGE+RES',\n",
       "       'TLX TYPE S', 'ILX PREM./TECHNOLOGY', 'RLX TECHNOLOGY PACKAGE',\n",
       "       'RLX SPT ADVANCE PACKAGE', 'MDX', 'RDX ADVANCE/PMC EDITION',\n",
       "       'RDX A-SPEC', 'MDX A-SPEC', 'TLX A-SPEC', 'RLX ADVANCE PACKAGE',\n",
       "       'RLX SPT TECHNOLOGY PACKAGE', 'RDX A-SPEC ADVANCE/PMC ED.',\n",
       "       'MDX STD', 'ZDX ADVANCE PACKAGE', 'ZDX TECHNOLOGY PACKAGE',\n",
       "       'TSX BASE/TECH', 'TSX', 'RLX TECH-AUDIO', 'MDX ELITE', 'TSX V6',\n",
       "       'TSX V6 TECHNOLOGY PACKAGE', 'TSX TECHNOLOGY PACKAGE', 'RL',\n",
       "       'RL TECHNOLOGY PACKAGE', 'RL TECHNOLOGY/ADVANCE', 'TSX SE', 'RLX',\n",
       "       'ZDX', 'RLX NAVIGATION PACKAGE'], dtype=object)"
      ]
     },
     "execution_count": 14,
     "metadata": {},
     "output_type": "execute_result"
    }
   ],
   "source": [
    "# Find all unique names listed for models\n",
    "acura_df.MODEL.unique()"
   ]
  },
  {
   "cell_type": "code",
   "execution_count": 16,
   "id": "78d5229b",
   "metadata": {},
   "outputs": [
    {
     "name": "stderr",
     "output_type": "stream",
     "text": [
      "E:\\Anaconda\\envs\\mlenv\\lib\\site-packages\\ipykernel_launcher.py:2: SettingWithCopyWarning: \n",
      "A value is trying to be set on a copy of a slice from a DataFrame.\n",
      "Try using .loc[row_indexer,col_indexer] = value instead\n",
      "\n",
      "See the caveats in the documentation: https://pandas.pydata.org/pandas-docs/stable/user_guide/indexing.html#returning-a-view-versus-a-copy\n",
      "  \n"
     ]
    },
    {
     "data": {
      "text/html": [
       "<div>\n",
       "<style scoped>\n",
       "    .dataframe tbody tr th:only-of-type {\n",
       "        vertical-align: middle;\n",
       "    }\n",
       "\n",
       "    .dataframe tbody tr th {\n",
       "        vertical-align: top;\n",
       "    }\n",
       "\n",
       "    .dataframe thead th {\n",
       "        text-align: right;\n",
       "    }\n",
       "</style>\n",
       "<table border=\"1\" class=\"dataframe\">\n",
       "  <thead>\n",
       "    <tr style=\"text-align: right;\">\n",
       "      <th></th>\n",
       "      <th>VEHICLE_ID</th>\n",
       "      <th>YEAR</th>\n",
       "      <th>MAKE</th>\n",
       "      <th>MODEL</th>\n",
       "      <th>Model_tokenized</th>\n",
       "    </tr>\n",
       "  </thead>\n",
       "  <tbody>\n",
       "    <tr>\n",
       "      <th>55792</th>\n",
       "      <td>7503619</td>\n",
       "      <td>2021</td>\n",
       "      <td>ACURA</td>\n",
       "      <td>RDX ADVANCE PACKAGE</td>\n",
       "      <td>[RDX, ADVANCE, PACKAGE]</td>\n",
       "    </tr>\n",
       "    <tr>\n",
       "      <th>620</th>\n",
       "      <td>6000544</td>\n",
       "      <td>2013</td>\n",
       "      <td>ACURA</td>\n",
       "      <td>RDX TECHNOLOGY PACKAGE</td>\n",
       "      <td>[RDX, TECHNOLOGY, PACKAGE]</td>\n",
       "    </tr>\n",
       "    <tr>\n",
       "      <th>621</th>\n",
       "      <td>6000545</td>\n",
       "      <td>2016</td>\n",
       "      <td>ACURA</td>\n",
       "      <td>RDX TECHNOLOGY PACKAGE</td>\n",
       "      <td>[RDX, TECHNOLOGY, PACKAGE]</td>\n",
       "    </tr>\n",
       "    <tr>\n",
       "      <th>622</th>\n",
       "      <td>6000546</td>\n",
       "      <td>2013</td>\n",
       "      <td>ACURA</td>\n",
       "      <td>RDX TECHNOLOGY PACKAGE</td>\n",
       "      <td>[RDX, TECHNOLOGY, PACKAGE]</td>\n",
       "    </tr>\n",
       "    <tr>\n",
       "      <th>623</th>\n",
       "      <td>6000547</td>\n",
       "      <td>2014</td>\n",
       "      <td>ACURA</td>\n",
       "      <td>RDX TECHNOLOGY PACKAGE</td>\n",
       "      <td>[RDX, TECHNOLOGY, PACKAGE]</td>\n",
       "    </tr>\n",
       "  </tbody>\n",
       "</table>\n",
       "</div>"
      ],
      "text/plain": [
       "       VEHICLE_ID  YEAR   MAKE                   MODEL  \\\n",
       "55792     7503619  2021  ACURA     RDX ADVANCE PACKAGE   \n",
       "620       6000544  2013  ACURA  RDX TECHNOLOGY PACKAGE   \n",
       "621       6000545  2016  ACURA  RDX TECHNOLOGY PACKAGE   \n",
       "622       6000546  2013  ACURA  RDX TECHNOLOGY PACKAGE   \n",
       "623       6000547  2014  ACURA  RDX TECHNOLOGY PACKAGE   \n",
       "\n",
       "                  Model_tokenized  \n",
       "55792     [RDX, ADVANCE, PACKAGE]  \n",
       "620    [RDX, TECHNOLOGY, PACKAGE]  \n",
       "621    [RDX, TECHNOLOGY, PACKAGE]  \n",
       "622    [RDX, TECHNOLOGY, PACKAGE]  \n",
       "623    [RDX, TECHNOLOGY, PACKAGE]  "
      ]
     },
     "execution_count": 16,
     "metadata": {},
     "output_type": "execute_result"
    }
   ],
   "source": [
    "# Split the model names up into single-word tokens and add them to a new column\n",
    "acura_df['Model_tokenized'] = acura_df.apply(lambda row: nltk.word_tokenize(row['MODEL']), axis=1)\n",
    "acura_df.head()"
   ]
  },
  {
   "cell_type": "code",
   "execution_count": 17,
   "id": "9b542d0b",
   "metadata": {},
   "outputs": [
    {
     "data": {
      "text/plain": [
       "array(['RDX', 'ADVANCE', 'PACKAGE', 'TECHNOLOGY', 'TL', 'MDX', 'SE',\n",
       "       'NSX', 'ILX', '2.0', 'PREM', '.', '2.4', 'SPECIAL', 'EDITION',\n",
       "       'PREM./TECH', 'PLUS', 'PREM/TECH', 'PLUS/A-SPEC',\n",
       "       'PREM./TECHNOLOGY', 'A-SPC', 'TLX', 'V6', 'A-SPEC', 'PACKAGE+RES',\n",
       "       'TYPE', 'S', 'RLX', 'SPT', 'ADVANCE/PMC', 'ED', 'STD', 'ZDX',\n",
       "       'TSX', 'BASE/TECH', 'TECH-AUDIO', 'ELITE', 'RL',\n",
       "       'TECHNOLOGY/ADVANCE', 'NAVIGATION'], dtype=object)"
      ]
     },
     "execution_count": 17,
     "metadata": {},
     "output_type": "execute_result"
    }
   ],
   "source": [
    "# list \n",
    "acura_df.Model_tokenized.explode().unique()"
   ]
  },
  {
   "cell_type": "code",
   "execution_count": 18,
   "id": "f7cb5f78",
   "metadata": {},
   "outputs": [],
   "source": [
    "#Make a list of model names without trim packages\n",
    "acura_models = ['ILX', 'MDX', 'NSX', 'RDX', 'RL', 'RLX', 'TL', 'TLX', 'TSX', 'ZDX']\n",
    "tokenized_models = acura_df[\"Model_tokenized\"] \n",
    "clean_models = []\n",
    "\n",
    "# 1.) For each dirty tokenized model name in the array\n",
    "for item in tokenized_models:\n",
    "    \n",
    "    # 2.) Iterate through the list of model names  \n",
    "    for model in acura_models:\n",
    "        \n",
    "        # 3.) If the model name is present, add it to an ordered list of clean model names.\n",
    "        if model in item:\n",
    "            clean_models.append(model)\n"
   ]
  },
  {
   "cell_type": "code",
   "execution_count": 19,
   "id": "05b73b84",
   "metadata": {},
   "outputs": [
    {
     "data": {
      "text/plain": [
       "385"
      ]
     },
     "execution_count": 19,
     "metadata": {},
     "output_type": "execute_result"
    }
   ],
   "source": [
    "# Check the length of the array to make sure it matches the orig. length of the Df\n",
    "len(clean_models)"
   ]
  },
  {
   "cell_type": "code",
   "execution_count": 20,
   "id": "6681d124",
   "metadata": {},
   "outputs": [
    {
     "name": "stderr",
     "output_type": "stream",
     "text": [
      "E:\\Anaconda\\envs\\mlenv\\lib\\site-packages\\ipykernel_launcher.py:2: SettingWithCopyWarning: \n",
      "A value is trying to be set on a copy of a slice from a DataFrame.\n",
      "Try using .loc[row_indexer,col_indexer] = value instead\n",
      "\n",
      "See the caveats in the documentation: https://pandas.pydata.org/pandas-docs/stable/user_guide/indexing.html#returning-a-view-versus-a-copy\n",
      "  \n"
     ]
    }
   ],
   "source": [
    "# Set the dirty model name equal to the clean name at the corresponding index.\n",
    "acura_df['MODEL'] = clean_models"
   ]
  },
  {
   "cell_type": "code",
   "execution_count": 21,
   "id": "3406aa3e",
   "metadata": {},
   "outputs": [
    {
     "data": {
      "text/html": [
       "<div>\n",
       "<style scoped>\n",
       "    .dataframe tbody tr th:only-of-type {\n",
       "        vertical-align: middle;\n",
       "    }\n",
       "\n",
       "    .dataframe tbody tr th {\n",
       "        vertical-align: top;\n",
       "    }\n",
       "\n",
       "    .dataframe thead th {\n",
       "        text-align: right;\n",
       "    }\n",
       "</style>\n",
       "<table border=\"1\" class=\"dataframe\">\n",
       "  <thead>\n",
       "    <tr style=\"text-align: right;\">\n",
       "      <th></th>\n",
       "      <th>VEHICLE_ID</th>\n",
       "      <th>YEAR</th>\n",
       "      <th>MAKE</th>\n",
       "      <th>MODEL</th>\n",
       "    </tr>\n",
       "  </thead>\n",
       "  <tbody>\n",
       "    <tr>\n",
       "      <th>55792</th>\n",
       "      <td>7503619</td>\n",
       "      <td>2021</td>\n",
       "      <td>ACURA</td>\n",
       "      <td>RDX</td>\n",
       "    </tr>\n",
       "    <tr>\n",
       "      <th>620</th>\n",
       "      <td>6000544</td>\n",
       "      <td>2013</td>\n",
       "      <td>ACURA</td>\n",
       "      <td>RDX</td>\n",
       "    </tr>\n",
       "    <tr>\n",
       "      <th>621</th>\n",
       "      <td>6000545</td>\n",
       "      <td>2016</td>\n",
       "      <td>ACURA</td>\n",
       "      <td>RDX</td>\n",
       "    </tr>\n",
       "    <tr>\n",
       "      <th>622</th>\n",
       "      <td>6000546</td>\n",
       "      <td>2013</td>\n",
       "      <td>ACURA</td>\n",
       "      <td>RDX</td>\n",
       "    </tr>\n",
       "    <tr>\n",
       "      <th>623</th>\n",
       "      <td>6000547</td>\n",
       "      <td>2014</td>\n",
       "      <td>ACURA</td>\n",
       "      <td>RDX</td>\n",
       "    </tr>\n",
       "    <tr>\n",
       "      <th>...</th>\n",
       "      <td>...</td>\n",
       "      <td>...</td>\n",
       "      <td>...</td>\n",
       "      <td>...</td>\n",
       "    </tr>\n",
       "    <tr>\n",
       "      <th>24505</th>\n",
       "      <td>7017070</td>\n",
       "      <td>2014</td>\n",
       "      <td>ACURA</td>\n",
       "      <td>MDX</td>\n",
       "    </tr>\n",
       "    <tr>\n",
       "      <th>24486</th>\n",
       "      <td>7016990</td>\n",
       "      <td>2012</td>\n",
       "      <td>ACURA</td>\n",
       "      <td>ZDX</td>\n",
       "    </tr>\n",
       "    <tr>\n",
       "      <th>24510</th>\n",
       "      <td>7017075</td>\n",
       "      <td>2014</td>\n",
       "      <td>ACURA</td>\n",
       "      <td>MDX</td>\n",
       "    </tr>\n",
       "    <tr>\n",
       "      <th>24484</th>\n",
       "      <td>7016988</td>\n",
       "      <td>2010</td>\n",
       "      <td>ACURA</td>\n",
       "      <td>ZDX</td>\n",
       "    </tr>\n",
       "    <tr>\n",
       "      <th>24307</th>\n",
       "      <td>7015306</td>\n",
       "      <td>2013</td>\n",
       "      <td>ACURA</td>\n",
       "      <td>MDX</td>\n",
       "    </tr>\n",
       "  </tbody>\n",
       "</table>\n",
       "<p>385 rows × 4 columns</p>\n",
       "</div>"
      ],
      "text/plain": [
       "       VEHICLE_ID  YEAR   MAKE MODEL\n",
       "55792     7503619  2021  ACURA   RDX\n",
       "620       6000544  2013  ACURA   RDX\n",
       "621       6000545  2016  ACURA   RDX\n",
       "622       6000546  2013  ACURA   RDX\n",
       "623       6000547  2014  ACURA   RDX\n",
       "...           ...   ...    ...   ...\n",
       "24505     7017070  2014  ACURA   MDX\n",
       "24486     7016990  2012  ACURA   ZDX\n",
       "24510     7017075  2014  ACURA   MDX\n",
       "24484     7016988  2010  ACURA   ZDX\n",
       "24307     7015306  2013  ACURA   MDX\n",
       "\n",
       "[385 rows x 4 columns]"
      ]
     },
     "execution_count": 21,
     "metadata": {},
     "output_type": "execute_result"
    }
   ],
   "source": [
    "# Drop Tokenized row\n",
    "acura_df.drop([\"Model_tokenized\"], axis=1)"
   ]
  },
  {
   "cell_type": "code",
   "execution_count": 25,
   "id": "8a19b3b5",
   "metadata": {},
   "outputs": [],
   "source": [
    "# Save the clean data as a .csv file\n",
    "os.makedirs('WashUProject_SDT/data/clean_vehicle_data', exist_ok=True)\n",
    "acura_df.to_csv('data/clean_vehicle_data/driver_data.csv', index=False)"
   ]
  },
  {
   "cell_type": "code",
   "execution_count": null,
   "id": "5216784f",
   "metadata": {},
   "outputs": [],
   "source": []
  }
 ],
 "metadata": {
  "kernelspec": {
   "display_name": "mlenv",
   "language": "python",
   "name": "mlenv"
  },
  "language_info": {
   "codemirror_mode": {
    "name": "ipython",
    "version": 3
   },
   "file_extension": ".py",
   "mimetype": "text/x-python",
   "name": "python",
   "nbconvert_exporter": "python",
   "pygments_lexer": "ipython3",
   "version": "3.7.13"
  }
 },
 "nbformat": 4,
 "nbformat_minor": 5
}
