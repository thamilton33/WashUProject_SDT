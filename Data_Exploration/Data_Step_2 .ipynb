{
  "cells": [
    {
      "cell_type": "code",
      "execution_count": 1,
      "id": "98232b3d",
      "metadata": {
        "colab": {
          "base_uri": "https://localhost:8080/"
        },
        "id": "98232b3d",
        "outputId": "3d0ec213-c87d-48e1-b8c3-a4060d3ca829"
      },
      "outputs": [
        {
          "output_type": "stream",
          "name": "stdout",
          "text": [
            "\r0% [Working]\r            \rHit:1 https://cloud.r-project.org/bin/linux/ubuntu bionic-cran40/ InRelease\n",
            "Get:2 http://security.ubuntu.com/ubuntu bionic-security InRelease [88.7 kB]\n",
            "Ign:3 https://developer.download.nvidia.com/compute/machine-learning/repos/ubuntu1804/x86_64  InRelease\n",
            "Hit:4 https://developer.download.nvidia.com/compute/cuda/repos/ubuntu1804/x86_64  InRelease\n",
            "Hit:5 http://archive.ubuntu.com/ubuntu bionic InRelease\n",
            "Hit:6 https://developer.download.nvidia.com/compute/machine-learning/repos/ubuntu1804/x86_64  Release\n",
            "Hit:7 http://ppa.launchpad.net/c2d4u.team/c2d4u4.0+/ubuntu bionic InRelease\n",
            "Get:8 http://archive.ubuntu.com/ubuntu bionic-updates InRelease [88.7 kB]\n",
            "Hit:9 http://ppa.launchpad.net/cran/libgit2/ubuntu bionic InRelease\n",
            "Get:10 http://archive.ubuntu.com/ubuntu bionic-backports InRelease [74.6 kB]\n",
            "Hit:11 http://ppa.launchpad.net/deadsnakes/ppa/ubuntu bionic InRelease\n",
            "Hit:12 http://ppa.launchpad.net/graphics-drivers/ppa/ubuntu bionic InRelease\n",
            "Fetched 252 kB in 5s (47.9 kB/s)\n",
            "Reading package lists... Done\n"
          ]
        }
      ],
      "source": [
        "import os\n",
        "# Find the latest version of spark 3.0 from http://www.apache.org/dist/spark/ and enter as the spark version\n",
        "# For example:\n",
        "# spark_version = 'spark-3.3.0'\n",
        "spark_version = 'spark-3.2.2'\n",
        "os.environ['SPARK_VERSION']=spark_version\n",
        "\n",
        "# Install Spark and Java\n",
        "!apt-get update\n",
        "!apt-get install openjdk-11-jdk-headless -qq > /dev/null\n",
        "!wget -q http://www.apache.org/dist/spark/$SPARK_VERSION/$SPARK_VERSION-bin-hadoop2.7.tgz\n",
        "!tar xf $SPARK_VERSION-bin-hadoop2.7.tgz\n",
        "!pip install -q findspark\n",
        "\n",
        "# Set Environment Variables\n",
        "import os\n",
        "os.environ[\"JAVA_HOME\"] = \"/usr/lib/jvm/java-11-openjdk-amd64\"\n",
        "os.environ[\"SPARK_HOME\"] = f\"/content/{spark_version}-bin-hadoop2.7\"\n",
        "\n",
        "# Start a SparkSession\n",
        "import findspark\n",
        "findspark.init()"
      ]
    },
    {
      "cell_type": "code",
      "source": [
        "# Download the Postgres driver that will allow Spark to interact with Postgres.\n",
        "!wget https://jdbc.postgresql.org/download/postgresql-42.2.16.jar"
      ],
      "metadata": {
        "colab": {
          "base_uri": "https://localhost:8080/"
        },
        "id": "Q14l0ACTjSls",
        "outputId": "e7dd83b4-cea0-4f2c-ea79-2db459cb07ee"
      },
      "id": "Q14l0ACTjSls",
      "execution_count": 2,
      "outputs": [
        {
          "output_type": "stream",
          "name": "stdout",
          "text": [
            "--2022-08-11 00:14:34--  https://jdbc.postgresql.org/download/postgresql-42.2.16.jar\n",
            "Resolving jdbc.postgresql.org (jdbc.postgresql.org)... 72.32.157.228, 2001:4800:3e1:1::228\n",
            "Connecting to jdbc.postgresql.org (jdbc.postgresql.org)|72.32.157.228|:443... connected.\n",
            "HTTP request sent, awaiting response... 200 OK\n",
            "Length: 1002883 (979K) [application/java-archive]\n",
            "Saving to: ‘postgresql-42.2.16.jar.1’\n",
            "\n",
            "postgresql-42.2.16. 100%[===================>] 979.38K  --.-KB/s    in 0.08s   \n",
            "\n",
            "2022-08-11 00:14:34 (11.4 MB/s) - ‘postgresql-42.2.16.jar.1’ saved [1002883/1002883]\n",
            "\n"
          ]
        }
      ]
    },
    {
      "cell_type": "code",
      "source": [
        "from pyspark.sql import SparkSession\n",
        "spark = SparkSession.builder.appName(\"Final-Challenge\").config(\"spark.driver.extraClassPath\",\"/content/postgresql-42.2.16.jar\").getOrCreate()"
      ],
      "metadata": {
        "id": "wOum3_zvjhFJ"
      },
      "id": "wOum3_zvjhFJ",
      "execution_count": 3,
      "outputs": []
    },
    {
      "cell_type": "code",
      "execution_count": 4,
      "id": "c8a84e15",
      "metadata": {
        "id": "c8a84e15"
      },
      "outputs": [],
      "source": [
        "# Read in data from S3 Buckets\n",
        "from pyspark import SparkFiles\n",
        "url =\"https://cars-project.s3.amazonaws.com/data.csv\"\n",
        "spark.sparkContext.addFile(url)\n",
        "user_data_df = spark.read.csv(SparkFiles.get(\"data.csv\"), sep=\",\", header=True, inferSchema=True)\n"
      ]
    },
    {
      "cell_type": "code",
      "execution_count": 5,
      "id": "1a9236ae",
      "metadata": {
        "colab": {
          "base_uri": "https://localhost:8080/"
        },
        "id": "1a9236ae",
        "outputId": "4c9f1abc-c277-460b-bbd7-a8cd5d7aae71"
      },
      "outputs": [
        {
          "output_type": "stream",
          "name": "stdout",
          "text": [
            "+---+----------+----+-------+--------------------+--------+---------+------+------------+---+\n",
            "|_c0|VEHICLE_ID|YEAR|   MAKE|               MODEL|HasMatch|DRIVER_ID|GENDER|CREDIT_SCORE|AGE|\n",
            "+---+----------+----+-------+--------------------+--------+---------+------+------------+---+\n",
            "|  0|   2005295|2012|PORSCHE|911 CARRERA CARRE...|    true|   731628|     1|         847| 55|\n",
            "|  1|   2005295|2012|PORSCHE|911 CARRERA CARRE...|    true|   731634|     2|         847| 55|\n",
            "|  2|   2005295|2012|PORSCHE|911 CARRERA CARRE...|    true|   731640|     2|         847| 21|\n",
            "|  3|   4000020|2011|  DODGE|DAKOTA CC BIGHORN...|    true|    60076|     1|         866| 77|\n",
            "|  4|   4000020|2011|  DODGE|DAKOTA CC BIGHORN...|    true|    60078|     2|         866| 76|\n",
            "|  5|   4000020|2011|  DODGE|DAKOTA CC BIGHORN...|    true|   360037|     1|         768| 55|\n",
            "|  6|   4000020|2011|  DODGE|DAKOTA CC BIGHORN...|    true|   360066|     2|         768| 52|\n",
            "|  7|   4000092|2018| SUBARU|    IMPREZA 2.0I VDC|    true|   654912|     2|         710| 35|\n",
            "|  8|   4000092|2018| SUBARU|    IMPREZA 2.0I VDC|    true|   654920|     1|         710| 38|\n",
            "|  9|   4000094|2017| SUBARU|    IMPREZA 2.0I VDC|    true|   997963|     1|         666| 29|\n",
            "| 10|   4000101|2017| SUBARU|IMPREZA W/ EYESIG...|    true|  1034595|     2|         824| 22|\n",
            "| 11|   4000103|2017| SUBARU|IMPREZA 2.0I SPT VDC|    true|   178274|     1|         710| 25|\n",
            "| 12|   4000103|2017| SUBARU|IMPREZA 2.0I SPT VDC|    true|   437903|     1|         847| 25|\n",
            "| 13|   4000103|2017| SUBARU|IMPREZA 2.0I SPT VDC|    true|   437917|     2|         847| 23|\n",
            "| 14|   4000103|2017| SUBARU|IMPREZA 2.0I SPT VDC|    true|   851111|     2|         666| 29|\n",
            "| 15|   4000111|2017| SUBARU|IMPREZA W/ EYESIG...|    true|   972602|     2|         710| 32|\n",
            "| 16|   4000111|2017| SUBARU|IMPREZA W/ EYESIG...|    true|   972604|     1|         710| 37|\n",
            "| 17|   4000111|2017| SUBARU|IMPREZA W/ EYESIG...|    true|   985163|     1|         824| 56|\n",
            "| 18|   4000111|2017| SUBARU|IMPREZA W/ EYESIG...|    true|   985166|     1|         824| 53|\n",
            "| 19|   4000131|2018| SUBARU|IMPREZA 2.0I PREM...|    true|   984186|     1|         824| 26|\n",
            "+---+----------+----+-------+--------------------+--------+---------+------+------------+---+\n",
            "only showing top 20 rows\n",
            "\n"
          ]
        }
      ],
      "source": [
        "# Show DataFrame\n",
        "user_data_df.show()"
      ]
    },
    {
      "cell_type": "code",
      "execution_count": 6,
      "id": "ee1525cc",
      "metadata": {
        "id": "ee1525cc"
      },
      "outputs": [],
      "source": [
        "# Drop NA values\n",
        "dropna_df = user_data_df.dropna()"
      ]
    },
    {
      "cell_type": "code",
      "execution_count": 7,
      "id": "6810a02f",
      "metadata": {
        "colab": {
          "base_uri": "https://localhost:8080/"
        },
        "id": "6810a02f",
        "outputId": "a9603b52-6ca8-4acc-9849-2f7496301bde"
      },
      "outputs": [
        {
          "output_type": "stream",
          "name": "stdout",
          "text": [
            "+----------+----+-------+--------------------+------+------------+---+\n",
            "|VEHICLE_ID|YEAR|   MAKE|               MODEL|GENDER|CREDIT_SCORE|AGE|\n",
            "+----------+----+-------+--------------------+------+------------+---+\n",
            "|   2005295|2012|PORSCHE|911 CARRERA CARRE...|     1|         847| 55|\n",
            "|   2005295|2012|PORSCHE|911 CARRERA CARRE...|     2|         847| 55|\n",
            "|   2005295|2012|PORSCHE|911 CARRERA CARRE...|     2|         847| 21|\n",
            "|   4000020|2011|  DODGE|DAKOTA CC BIGHORN...|     1|         866| 77|\n",
            "|   4000020|2011|  DODGE|DAKOTA CC BIGHORN...|     2|         866| 76|\n",
            "|   4000020|2011|  DODGE|DAKOTA CC BIGHORN...|     1|         768| 55|\n",
            "|   4000020|2011|  DODGE|DAKOTA CC BIGHORN...|     2|         768| 52|\n",
            "|   4000092|2018| SUBARU|    IMPREZA 2.0I VDC|     2|         710| 35|\n",
            "|   4000092|2018| SUBARU|    IMPREZA 2.0I VDC|     1|         710| 38|\n",
            "|   4000094|2017| SUBARU|    IMPREZA 2.0I VDC|     1|         666| 29|\n",
            "|   4000101|2017| SUBARU|IMPREZA W/ EYESIG...|     2|         824| 22|\n",
            "|   4000103|2017| SUBARU|IMPREZA 2.0I SPT VDC|     1|         710| 25|\n",
            "|   4000103|2017| SUBARU|IMPREZA 2.0I SPT VDC|     1|         847| 25|\n",
            "|   4000103|2017| SUBARU|IMPREZA 2.0I SPT VDC|     2|         847| 23|\n",
            "|   4000103|2017| SUBARU|IMPREZA 2.0I SPT VDC|     2|         666| 29|\n",
            "|   4000111|2017| SUBARU|IMPREZA W/ EYESIG...|     2|         710| 32|\n",
            "|   4000111|2017| SUBARU|IMPREZA W/ EYESIG...|     1|         710| 37|\n",
            "|   4000111|2017| SUBARU|IMPREZA W/ EYESIG...|     1|         824| 56|\n",
            "|   4000111|2017| SUBARU|IMPREZA W/ EYESIG...|     1|         824| 53|\n",
            "|   4000131|2018| SUBARU|IMPREZA 2.0I PREM...|     1|         824| 26|\n",
            "+----------+----+-------+--------------------+------+------------+---+\n",
            "only showing top 20 rows\n",
            "\n"
          ]
        }
      ],
      "source": [
        "# Import library to access columns\n",
        "from pyspark.sql.functions import col\n",
        "\n",
        "# Drop columns that dont have car->driver matches\n",
        "cleaned_df = dropna_df.filter(col(\"HasMatch\") == True)\n",
        "cleaned_df = cleaned_df.select([\"VEHICLE_ID\",\"YEAR\",\"MAKE\",\"MODEL\",\"GENDER\",\"CREDIT_SCORE\",\"AGE\"])\n",
        "cleaned_df.drop_duplicates()\n",
        "cleaned_df.show()"
      ]
    },
    {
      "cell_type": "code",
      "source": [
        "\n",
        "# Create the cars DataFrame. \n",
        "# Used to populate js.dropdown selection lists\n",
        "# [\"VEHICLE_ID\",\"YEAR\",\"MAKE\", \"MODEL\"\"HasMatch\",\"DRIVER_ID\",\"GENDER\",\"CREDIT_SCORE\",\"AGE\"]\n",
        "cars_df = cleaned_df.select([\"VEHICLE_ID\",\"YEAR\",\"MAKE\",\"MODEL\"])\n",
        "cars_df.show()"
      ],
      "metadata": {
        "colab": {
          "base_uri": "https://localhost:8080/"
        },
        "id": "TjZuKwqknQTG",
        "outputId": "4a21d4ce-68f3-4c9a-a957-286cb464e08b"
      },
      "id": "TjZuKwqknQTG",
      "execution_count": 8,
      "outputs": [
        {
          "output_type": "stream",
          "name": "stdout",
          "text": [
            "+----------+----+-------+--------------------+\n",
            "|VEHICLE_ID|YEAR|   MAKE|               MODEL|\n",
            "+----------+----+-------+--------------------+\n",
            "|   2005295|2012|PORSCHE|911 CARRERA CARRE...|\n",
            "|   2005295|2012|PORSCHE|911 CARRERA CARRE...|\n",
            "|   2005295|2012|PORSCHE|911 CARRERA CARRE...|\n",
            "|   4000020|2011|  DODGE|DAKOTA CC BIGHORN...|\n",
            "|   4000020|2011|  DODGE|DAKOTA CC BIGHORN...|\n",
            "|   4000020|2011|  DODGE|DAKOTA CC BIGHORN...|\n",
            "|   4000020|2011|  DODGE|DAKOTA CC BIGHORN...|\n",
            "|   4000092|2018| SUBARU|    IMPREZA 2.0I VDC|\n",
            "|   4000092|2018| SUBARU|    IMPREZA 2.0I VDC|\n",
            "|   4000094|2017| SUBARU|    IMPREZA 2.0I VDC|\n",
            "|   4000101|2017| SUBARU|IMPREZA W/ EYESIG...|\n",
            "|   4000103|2017| SUBARU|IMPREZA 2.0I SPT VDC|\n",
            "|   4000103|2017| SUBARU|IMPREZA 2.0I SPT VDC|\n",
            "|   4000103|2017| SUBARU|IMPREZA 2.0I SPT VDC|\n",
            "|   4000103|2017| SUBARU|IMPREZA 2.0I SPT VDC|\n",
            "|   4000111|2017| SUBARU|IMPREZA W/ EYESIG...|\n",
            "|   4000111|2017| SUBARU|IMPREZA W/ EYESIG...|\n",
            "|   4000111|2017| SUBARU|IMPREZA W/ EYESIG...|\n",
            "|   4000111|2017| SUBARU|IMPREZA W/ EYESIG...|\n",
            "|   4000131|2018| SUBARU|IMPREZA 2.0I PREM...|\n",
            "+----------+----+-------+--------------------+\n",
            "only showing top 20 rows\n",
            "\n"
          ]
        }
      ]
    },
    {
      "cell_type": "code",
      "source": [
        "# Create the owner_demographic DataFrame. Used to \n",
        "# populate js.model_owner_demographic visual panel\n",
        "# [\"VEHICLE_ID\",\"YEAR\",\"MAKE\", \"MODEL\"\"HasMatch\",\"DRIVER_ID\",\"GENDER\",\"CREDIT_SCORE\",\"AGE\"]\n",
        "\n",
        "owner_demographic = cleaned_df.groupby([\"VEHICLE_ID\"])\n",
        "\n",
        "from functools import reduce\n",
        "from pyspark.sql import DataFrame\n",
        "\n",
        "MALE_df = cleaned_df.filter(col(\"GENDER\") < 2)\n",
        "MALE_df = MALE_df.groupby(\"VEHICLE_ID\").agg({\"GENDER\":\"count\"}).withColumnRenamed(\"count(GENDER)\", \"MALE\")\n",
        "\n",
        "\n",
        "FEMALE_df = cleaned_df.filter(col(\"GENDER\") > 1)\n",
        "FEMALE_df = FEMALE_df.groupby(\"VEHICLE_ID\").agg({\"GENDER\":\"count\"}).withColumnRenamed(\"count(GENDER)\", \"FEMALE\")\n",
        "\n",
        "age_df = cleaned_df.groupby(\"VEHICLE_ID\").agg({\"AGE\":\"avg\"}).withColumnRenamed(\"avg(AGE)\", \"AGE\")\n",
        "\n",
        "credit_df = cleaned_df.groupby(\"VEHICLE_ID\").agg({\"CREDIT_SCORE\":\"avg\"}).withColumnRenamed(\"avg(CREDIT_SCORE)\", \"CREDIT_SCORE\")\n",
        "\n",
        "MALE_df.drop_duplicates()\n",
        "FEMALE_df.drop_duplicates()\n",
        "age_df.drop_duplicates()\n",
        "credit_df.drop_duplicates()\n",
        "\n",
        "# Using Join expression create merged dataframe\n",
        "owner_demographic_df = credit_df.join(MALE_df,[\"VEHICLE_ID\"])\\\n",
        "                                .join(FEMALE_df,[\"VEHICLE_ID\"])\\\n",
        "                                .join(age_df,[\"VEHICLE_ID\"])\n",
        "\n",
        "owner_demographic_df.drop_duplicates()\n",
        "owner_demographic_df.show()"
      ],
      "metadata": {
        "colab": {
          "base_uri": "https://localhost:8080/"
        },
        "id": "d94NH5rSsXWM",
        "outputId": "7384bd3c-0e03-4215-9134-0644af1287a0"
      },
      "id": "d94NH5rSsXWM",
      "execution_count": 10,
      "outputs": [
        {
          "output_type": "stream",
          "name": "stdout",
          "text": [
            "+----------+-----------------+----+------+------------------+\n",
            "|VEHICLE_ID|     CREDIT_SCORE|MALE|FEMALE|               AGE|\n",
            "+----------+-----------------+----+------+------------------+\n",
            "|   4004650|793.6101694915254|  26|    33| 45.05084745762712|\n",
            "|   4010313|            742.5|   2|     8|              47.7|\n",
            "|   4031576| 778.952380952381|  21|    42| 53.38095238095238|\n",
            "|   4049807|            750.0|   5|    10|              35.6|\n",
            "|   6001065|785.2021857923497|  85|    98|35.759562841530055|\n",
            "|   6012112|            694.0|   1|     2|48.333333333333336|\n",
            "|   6062885|739.8181818181819|   8|     3|              33.0|\n",
            "|   6065135|            692.4|   1|     4|              33.8|\n",
            "|   6088419|            833.2|   4|     1|              32.4|\n",
            "|   6090817|            666.0|   1|     1|              40.0|\n",
            "|   6119363|            792.0|   5|     8| 48.61538461538461|\n",
            "|   6142458|753.4516129032259|  17|    14|48.935483870967744|\n",
            "|   6170003|789.2222222222222|   6|     3|36.888888888888886|\n",
            "|   6212102|            772.0|   1|     1|              37.0|\n",
            "|   6222227|            687.5|   2|     6|             38.75|\n",
            "|   6239711|         708.8125|   6|    10|           47.6875|\n",
            "|   6253897|            666.0|   1|     1|              35.5|\n",
            "|   6341016|719.9449541284404|  60|    49| 39.27522935779817|\n",
            "|   6341518|            710.0|   1|     1|              38.0|\n",
            "|   6350400|752.4666666666667|  24|    51| 40.61333333333334|\n",
            "+----------+-----------------+----+------+------------------+\n",
            "only showing top 20 rows\n",
            "\n"
          ]
        }
      ]
    },
    {
      "cell_type": "code",
      "source": [
        "# Create dataset for the bubble chart. Uses V_ID to associate \n",
        "# owners given from the user via dropdown selector to a model. \n",
        "\n",
        "# Create the cars DataFrame. [\"VEHICLE_ID\",\"YEAR\",\"MAKE\", \"MODEL\"\"HasMatch\",\"DRIVER_ID\",\"GENDER\",\"CREDIT_SCORE\",\"AGE\"]\n",
        "bubble_df = cleaned_df.select([\"VEHICLE_ID\",\"GENDER\",\"CREDIT_SCORE\",\"AGE\"])\n",
        "bubble_df.show()"
      ],
      "metadata": {
        "colab": {
          "base_uri": "https://localhost:8080/"
        },
        "id": "-OJifgyNqdqw",
        "outputId": "3c913717-f071-40a5-f836-1cbedfd56253"
      },
      "id": "-OJifgyNqdqw",
      "execution_count": 11,
      "outputs": [
        {
          "output_type": "stream",
          "name": "stdout",
          "text": [
            "+----------+------+------------+---+\n",
            "|VEHICLE_ID|GENDER|CREDIT_SCORE|AGE|\n",
            "+----------+------+------------+---+\n",
            "|   2005295|     1|         847| 55|\n",
            "|   2005295|     2|         847| 55|\n",
            "|   2005295|     2|         847| 21|\n",
            "|   4000020|     1|         866| 77|\n",
            "|   4000020|     2|         866| 76|\n",
            "|   4000020|     1|         768| 55|\n",
            "|   4000020|     2|         768| 52|\n",
            "|   4000092|     2|         710| 35|\n",
            "|   4000092|     1|         710| 38|\n",
            "|   4000094|     1|         666| 29|\n",
            "|   4000101|     2|         824| 22|\n",
            "|   4000103|     1|         710| 25|\n",
            "|   4000103|     1|         847| 25|\n",
            "|   4000103|     2|         847| 23|\n",
            "|   4000103|     2|         666| 29|\n",
            "|   4000111|     2|         710| 32|\n",
            "|   4000111|     1|         710| 37|\n",
            "|   4000111|     1|         824| 56|\n",
            "|   4000111|     1|         824| 53|\n",
            "|   4000131|     1|         824| 26|\n",
            "+----------+------+------------+---+\n",
            "only showing top 20 rows\n",
            "\n"
          ]
        }
      ]
    },
    {
      "cell_type": "code",
      "source": [
        "# Configure settings for RDS\n",
        "mode = \"append\"\n",
        "jdbc_url=\"jdbc:postgresql://database-1.ccwu5aoavni4.us-east-1.rds.amazonaws.com:5432/postgres\"\n",
        "config = {\"user\":\"postgres\", \n",
        "          \"password\": \"Dcf3437848\", \n",
        "          \"driver\":\"org.postgresql.Driver\"}"
      ],
      "metadata": {
        "id": "ugyjStldFozY"
      },
      "id": "ugyjStldFozY",
      "execution_count": 12,
      "outputs": []
    },
    {
      "cell_type": "code",
      "source": [
        "# Write review_id_df to table in RDS\n",
        "cleaned_df.write.jdbc(url=jdbc_url, table='clean_data', mode=mode, properties=config)"
      ],
      "metadata": {
        "id": "ynreXnKGMwo6"
      },
      "id": "ynreXnKGMwo6",
      "execution_count": 13,
      "outputs": []
    },
    {
      "cell_type": "code",
      "source": [
        "# Write review_id_df to table in RDS\n",
        "cars_df.write.jdbc(url=jdbc_url, table='vehicle_data', mode=mode, properties=config)"
      ],
      "metadata": {
        "id": "WUn190jJNUHl"
      },
      "id": "WUn190jJNUHl",
      "execution_count": 14,
      "outputs": []
    },
    {
      "cell_type": "code",
      "source": [
        "# Write review_id_df to table in RDS\n",
        "owner_demographic_df.write.jdbc(url=jdbc_url, table='owner_demographic', mode=mode, properties=config)"
      ],
      "metadata": {
        "id": "8TyfkqRfNUMU"
      },
      "id": "8TyfkqRfNUMU",
      "execution_count": 15,
      "outputs": []
    },
    {
      "cell_type": "code",
      "source": [
        "# Write review_id_df to table in RDS\n",
        "bubble_df.write.jdbc(url=jdbc_url, table='bubble_data', mode=mode, properties=config)"
      ],
      "metadata": {
        "id": "y9BU8RktNU0q"
      },
      "id": "y9BU8RktNU0q",
      "execution_count": 16,
      "outputs": []
    },
    {
      "cell_type": "code",
      "source": [
        "# cleaned_df.toPandas().to_csv('clean_data.csv')\n",
        "# files.download('clean_data.csv')"
      ],
      "metadata": {
        "id": "MZIMZJTPbNMr"
      },
      "id": "MZIMZJTPbNMr",
      "execution_count": null,
      "outputs": []
    },
    {
      "cell_type": "code",
      "source": [
        "from google.colab import files\n",
        "\n",
        "import pandas \n",
        "#cleaned_df.toPandas().to_csv('clean_data.csv') \n",
        "#cars_df.toPandas().to_csv('vehicle_data.csv')\n",
        "owner_demographic_df.toPandas().to_csv('owner_demographic_data.csv')\n",
        "bubble_df.toPandas().to_csv('bubble_data.csv')\n",
        "files.download('vehicle_data.csv')\n",
        "files.download('owner_demographic_data.csv')\n",
        "files.download('bubble_data.csv')"
      ],
      "metadata": {
        "colab": {
          "base_uri": "https://localhost:8080/",
          "height": 17
        },
        "id": "xrn0ACrMWX1g",
        "outputId": "9c7219a3-120f-49e8-af34-705c5cc4572d"
      },
      "id": "xrn0ACrMWX1g",
      "execution_count": 36,
      "outputs": [
        {
          "output_type": "display_data",
          "data": {
            "text/plain": [
              "<IPython.core.display.Javascript object>"
            ],
            "application/javascript": [
              "\n",
              "    async function download(id, filename, size) {\n",
              "      if (!google.colab.kernel.accessAllowed) {\n",
              "        return;\n",
              "      }\n",
              "      const div = document.createElement('div');\n",
              "      const label = document.createElement('label');\n",
              "      label.textContent = `Downloading \"${filename}\": `;\n",
              "      div.appendChild(label);\n",
              "      const progress = document.createElement('progress');\n",
              "      progress.max = size;\n",
              "      div.appendChild(progress);\n",
              "      document.body.appendChild(div);\n",
              "\n",
              "      const buffers = [];\n",
              "      let downloaded = 0;\n",
              "\n",
              "      const channel = await google.colab.kernel.comms.open(id);\n",
              "      // Send a message to notify the kernel that we're ready.\n",
              "      channel.send({})\n",
              "\n",
              "      for await (const message of channel.messages) {\n",
              "        // Send a message to notify the kernel that we're ready.\n",
              "        channel.send({})\n",
              "        if (message.buffers) {\n",
              "          for (const buffer of message.buffers) {\n",
              "            buffers.push(buffer);\n",
              "            downloaded += buffer.byteLength;\n",
              "            progress.value = downloaded;\n",
              "          }\n",
              "        }\n",
              "      }\n",
              "      const blob = new Blob(buffers, {type: 'application/binary'});\n",
              "      const a = document.createElement('a');\n",
              "      a.href = window.URL.createObjectURL(blob);\n",
              "      a.download = filename;\n",
              "      div.appendChild(a);\n",
              "      a.click();\n",
              "      div.remove();\n",
              "    }\n",
              "  "
            ]
          },
          "metadata": {}
        },
        {
          "output_type": "display_data",
          "data": {
            "text/plain": [
              "<IPython.core.display.Javascript object>"
            ],
            "application/javascript": [
              "download(\"download_3210856b-84d2-4df3-8d1e-44a7cf413b48\", \"vehicle_data.csv\", 23174154)"
            ]
          },
          "metadata": {}
        },
        {
          "output_type": "display_data",
          "data": {
            "text/plain": [
              "<IPython.core.display.Javascript object>"
            ],
            "application/javascript": [
              "\n",
              "    async function download(id, filename, size) {\n",
              "      if (!google.colab.kernel.accessAllowed) {\n",
              "        return;\n",
              "      }\n",
              "      const div = document.createElement('div');\n",
              "      const label = document.createElement('label');\n",
              "      label.textContent = `Downloading \"${filename}\": `;\n",
              "      div.appendChild(label);\n",
              "      const progress = document.createElement('progress');\n",
              "      progress.max = size;\n",
              "      div.appendChild(progress);\n",
              "      document.body.appendChild(div);\n",
              "\n",
              "      const buffers = [];\n",
              "      let downloaded = 0;\n",
              "\n",
              "      const channel = await google.colab.kernel.comms.open(id);\n",
              "      // Send a message to notify the kernel that we're ready.\n",
              "      channel.send({})\n",
              "\n",
              "      for await (const message of channel.messages) {\n",
              "        // Send a message to notify the kernel that we're ready.\n",
              "        channel.send({})\n",
              "        if (message.buffers) {\n",
              "          for (const buffer of message.buffers) {\n",
              "            buffers.push(buffer);\n",
              "            downloaded += buffer.byteLength;\n",
              "            progress.value = downloaded;\n",
              "          }\n",
              "        }\n",
              "      }\n",
              "      const blob = new Blob(buffers, {type: 'application/binary'});\n",
              "      const a = document.createElement('a');\n",
              "      a.href = window.URL.createObjectURL(blob);\n",
              "      a.download = filename;\n",
              "      div.appendChild(a);\n",
              "      a.click();\n",
              "      div.remove();\n",
              "    }\n",
              "  "
            ]
          },
          "metadata": {}
        },
        {
          "output_type": "display_data",
          "data": {
            "text/plain": [
              "<IPython.core.display.Javascript object>"
            ],
            "application/javascript": [
              "download(\"download_0e4c18b9-be56-494b-863b-b129716ee163\", \"owner_demographic_data.csv\", 925775)"
            ]
          },
          "metadata": {}
        },
        {
          "output_type": "display_data",
          "data": {
            "text/plain": [
              "<IPython.core.display.Javascript object>"
            ],
            "application/javascript": [
              "\n",
              "    async function download(id, filename, size) {\n",
              "      if (!google.colab.kernel.accessAllowed) {\n",
              "        return;\n",
              "      }\n",
              "      const div = document.createElement('div');\n",
              "      const label = document.createElement('label');\n",
              "      label.textContent = `Downloading \"${filename}\": `;\n",
              "      div.appendChild(label);\n",
              "      const progress = document.createElement('progress');\n",
              "      progress.max = size;\n",
              "      div.appendChild(progress);\n",
              "      document.body.appendChild(div);\n",
              "\n",
              "      const buffers = [];\n",
              "      let downloaded = 0;\n",
              "\n",
              "      const channel = await google.colab.kernel.comms.open(id);\n",
              "      // Send a message to notify the kernel that we're ready.\n",
              "      channel.send({})\n",
              "\n",
              "      for await (const message of channel.messages) {\n",
              "        // Send a message to notify the kernel that we're ready.\n",
              "        channel.send({})\n",
              "        if (message.buffers) {\n",
              "          for (const buffer of message.buffers) {\n",
              "            buffers.push(buffer);\n",
              "            downloaded += buffer.byteLength;\n",
              "            progress.value = downloaded;\n",
              "          }\n",
              "        }\n",
              "      }\n",
              "      const blob = new Blob(buffers, {type: 'application/binary'});\n",
              "      const a = document.createElement('a');\n",
              "      a.href = window.URL.createObjectURL(blob);\n",
              "      a.download = filename;\n",
              "      div.appendChild(a);\n",
              "      a.click();\n",
              "      div.remove();\n",
              "    }\n",
              "  "
            ]
          },
          "metadata": {}
        },
        {
          "output_type": "display_data",
          "data": {
            "text/plain": [
              "<IPython.core.display.Javascript object>"
            ],
            "application/javascript": [
              "download(\"download_03f323a0-ab26-4a80-85ef-acdf74887d11\", \"bubble_data.csv\", 13606060)"
            ]
          },
          "metadata": {}
        }
      ]
    }
  ],
  "metadata": {
    "kernelspec": {
      "display_name": "pythondata",
      "language": "python",
      "name": "pythondata"
    },
    "language_info": {
      "codemirror_mode": {
        "name": "ipython",
        "version": 3
      },
      "file_extension": ".py",
      "mimetype": "text/x-python",
      "name": "python",
      "nbconvert_exporter": "python",
      "pygments_lexer": "ipython3",
      "version": "3.7.11"
    },
    "colab": {
      "name": "Data_Step_2.ipynb",
      "provenance": []
    }
  },
  "nbformat": 4,
  "nbformat_minor": 5
}