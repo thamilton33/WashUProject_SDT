{
 "cells": [
  {
   "cell_type": "markdown",
   "metadata": {
    "id": "-Ujq86yeufsl"
   },
   "source": [
    "**PROJECT 1: CONFIGURE GOOGLE AS HOST**\n",
    "\n",
    "Cloud-based notebooks provide a remote workspace with stronger resources than our local laptop might allow. Cloud notebooks permit us to share our work with others, such as coworkers, similar to GitHub.\n",
    "The Colab, which are Google-hosted notebooks. Some setup is required, so we'll start there before getting back to the basics of PySpark."
   ]
  },
  {
   "cell_type": "code",
   "execution_count": 2,
   "metadata": {
    "id": "q15Divjly9s4"
   },
   "outputs": [],
   "source": [
    "import pandas as pd\n",
    "drivers_df = pd.read_csv(\"cleaned_data/drivers_sample.csv\")"
   ]
  },
  {
   "cell_type": "code",
   "execution_count": 3,
   "metadata": {
    "colab": {
     "base_uri": "https://localhost:8080/",
     "height": 206
    },
    "id": "-_TEpnAXzEfn",
    "outputId": "9f1fb508-38da-4884-890a-a4453be8bcb0"
   },
   "outputs": [
    {
     "data": {
      "text/html": [
       "<div>\n",
       "<style scoped>\n",
       "    .dataframe tbody tr th:only-of-type {\n",
       "        vertical-align: middle;\n",
       "    }\n",
       "\n",
       "    .dataframe tbody tr th {\n",
       "        vertical-align: top;\n",
       "    }\n",
       "\n",
       "    .dataframe thead th {\n",
       "        text-align: right;\n",
       "    }\n",
       "</style>\n",
       "<table border=\"1\" class=\"dataframe\">\n",
       "  <thead>\n",
       "    <tr style=\"text-align: right;\">\n",
       "      <th></th>\n",
       "      <th>DRIVER_ID</th>\n",
       "      <th>GENDER</th>\n",
       "      <th>CREDIT_SCORE</th>\n",
       "      <th>AGE</th>\n",
       "      <th>VEHICLE_ID</th>\n",
       "    </tr>\n",
       "  </thead>\n",
       "  <tbody>\n",
       "    <tr>\n",
       "      <th>0</th>\n",
       "      <td>1</td>\n",
       "      <td>2.0</td>\n",
       "      <td>824</td>\n",
       "      <td>27.0</td>\n",
       "      <td>7420963</td>\n",
       "    </tr>\n",
       "    <tr>\n",
       "      <th>1</th>\n",
       "      <td>2</td>\n",
       "      <td>1.0</td>\n",
       "      <td>824</td>\n",
       "      <td>28.0</td>\n",
       "      <td>7420963</td>\n",
       "    </tr>\n",
       "    <tr>\n",
       "      <th>2</th>\n",
       "      <td>3</td>\n",
       "      <td>2.0</td>\n",
       "      <td>666</td>\n",
       "      <td>51.0</td>\n",
       "      <td>7396448</td>\n",
       "    </tr>\n",
       "    <tr>\n",
       "      <th>3</th>\n",
       "      <td>4</td>\n",
       "      <td>2.0</td>\n",
       "      <td>666</td>\n",
       "      <td>34.0</td>\n",
       "      <td>6208988</td>\n",
       "    </tr>\n",
       "    <tr>\n",
       "      <th>4</th>\n",
       "      <td>5</td>\n",
       "      <td>2.0</td>\n",
       "      <td>824</td>\n",
       "      <td>88.0</td>\n",
       "      <td>6078430</td>\n",
       "    </tr>\n",
       "  </tbody>\n",
       "</table>\n",
       "</div>"
      ],
      "text/plain": [
       "   DRIVER_ID  GENDER  CREDIT_SCORE   AGE  VEHICLE_ID\n",
       "0          1     2.0           824  27.0     7420963\n",
       "1          2     1.0           824  28.0     7420963\n",
       "2          3     2.0           666  51.0     7396448\n",
       "3          4     2.0           666  34.0     6208988\n",
       "4          5     2.0           824  88.0     6078430"
      ]
     },
     "execution_count": 3,
     "metadata": {},
     "output_type": "execute_result"
    }
   ],
   "source": [
    "drivers_df.head()"
   ]
  },
  {
   "cell_type": "code",
   "execution_count": 4,
   "metadata": {
    "colab": {
     "base_uri": "https://localhost:8080/"
    },
    "id": "lbAhoXf6BVEx",
    "outputId": "35600575-500b-46b3-b6ed-f10627b785a1"
   },
   "outputs": [
    {
     "data": {
      "text/plain": [
       "DRIVER_ID         int64\n",
       "GENDER          float64\n",
       "CREDIT_SCORE      int64\n",
       "AGE             float64\n",
       "VEHICLE_ID        int64\n",
       "dtype: object"
      ]
     },
     "execution_count": 4,
     "metadata": {},
     "output_type": "execute_result"
    }
   ],
   "source": [
    "drivers_df.dtypes"
   ]
  },
  {
   "cell_type": "code",
   "execution_count": null,
   "metadata": {
    "colab": {
     "base_uri": "https://localhost:8080/"
    },
    "id": "k-dWl8d5B0Tw",
    "outputId": "15f0b7db-02b3-4078-cc80-4604bb704bdd"
   },
   "outputs": [],
   "source": [
    "drivers_df = drivers_df[drivers_df['BIRTHDATE'].notnull()]\n",
    "drivers_df.isna().sum()"
   ]
  },
  {
   "cell_type": "code",
   "execution_count": 27,
   "metadata": {
    "colab": {
     "base_uri": "https://localhost:8080/"
    },
    "id": "kvfRvqi791Io",
    "outputId": "6bd578ca-e194-4428-928b-5e6c9ab165df"
   },
   "outputs": [
    {
     "data": {
      "text/plain": [
       "DRIVERID     0\n",
       "GENDER       0\n",
       "BIRTHDATE    0\n",
       "CREDSCORE    0\n",
       "HLDIID       0\n",
       "dtype: int64"
      ]
     },
     "execution_count": 27,
     "metadata": {},
     "output_type": "execute_result"
    }
   ],
   "source": [
    "drivers_df = drivers_df[drivers_df['GENDER'].notnull()]\n",
    "drivers_df.isna().sum()"
   ]
  },
  {
   "cell_type": "code",
   "execution_count": 28,
   "metadata": {
    "colab": {
     "base_uri": "https://localhost:8080/",
     "height": 206
    },
    "id": "i_Nqt2jNEi3P",
    "outputId": "29d12521-2c59-402d-ff8e-ad6a42ec8602"
   },
   "outputs": [
    {
     "data": {
      "text/html": [
       "<div>\n",
       "<style scoped>\n",
       "    .dataframe tbody tr th:only-of-type {\n",
       "        vertical-align: middle;\n",
       "    }\n",
       "\n",
       "    .dataframe tbody tr th {\n",
       "        vertical-align: top;\n",
       "    }\n",
       "\n",
       "    .dataframe thead th {\n",
       "        text-align: right;\n",
       "    }\n",
       "</style>\n",
       "<table border=\"1\" class=\"dataframe\">\n",
       "  <thead>\n",
       "    <tr style=\"text-align: right;\">\n",
       "      <th></th>\n",
       "      <th>DRIVERID</th>\n",
       "      <th>GENDER</th>\n",
       "      <th>BIRTHDATE</th>\n",
       "      <th>CREDSCORE</th>\n",
       "      <th>HLDIID</th>\n",
       "    </tr>\n",
       "  </thead>\n",
       "  <tbody>\n",
       "    <tr>\n",
       "      <th>1048547</th>\n",
       "      <td>113401787</td>\n",
       "      <td>M</td>\n",
       "      <td>1960-09-09</td>\n",
       "      <td>542</td>\n",
       "      <td>7191251</td>\n",
       "    </tr>\n",
       "    <tr>\n",
       "      <th>1048548</th>\n",
       "      <td>113401788</td>\n",
       "      <td>F</td>\n",
       "      <td>1992-12-10</td>\n",
       "      <td>542</td>\n",
       "      <td>7191251</td>\n",
       "    </tr>\n",
       "    <tr>\n",
       "      <th>1048549</th>\n",
       "      <td>113401804</td>\n",
       "      <td>F</td>\n",
       "      <td>1978-08-05</td>\n",
       "      <td>710</td>\n",
       "      <td>6715449</td>\n",
       "    </tr>\n",
       "    <tr>\n",
       "      <th>1048550</th>\n",
       "      <td>113401816</td>\n",
       "      <td>M</td>\n",
       "      <td>1977-05-11</td>\n",
       "      <td>418</td>\n",
       "      <td>6075136</td>\n",
       "    </tr>\n",
       "    <tr>\n",
       "      <th>1048551</th>\n",
       "      <td>113401834</td>\n",
       "      <td>M</td>\n",
       "      <td>1958-10-09</td>\n",
       "      <td>847</td>\n",
       "      <td>6363542</td>\n",
       "    </tr>\n",
       "  </tbody>\n",
       "</table>\n",
       "</div>"
      ],
      "text/plain": [
       "          DRIVERID GENDER  BIRTHDATE CREDSCORE   HLDIID\n",
       "1048547  113401787      M 1960-09-09       542  7191251\n",
       "1048548  113401788      F 1992-12-10       542  7191251\n",
       "1048549  113401804      F 1978-08-05       710  6715449\n",
       "1048550  113401816      M 1977-05-11       418  6075136\n",
       "1048551  113401834      M 1958-10-09       847  6363542"
      ]
     },
     "execution_count": 28,
     "metadata": {},
     "output_type": "execute_result"
    }
   ],
   "source": [
    "drivers_df['BIRTHDATE'] = pd.to_datetime(drivers_df['BIRTHDATE'], format='%m/%d/%Y')\n",
    "drivers_df.tail()"
   ]
  },
  {
   "cell_type": "code",
   "execution_count": 29,
   "metadata": {
    "colab": {
     "base_uri": "https://localhost:8080/",
     "height": 206
    },
    "id": "LNDRl4VKG1e5",
    "outputId": "9f41d118-04ac-4f82-86d7-50ee98695b0a"
   },
   "outputs": [
    {
     "data": {
      "text/html": [
       "<div>\n",
       "<style scoped>\n",
       "    .dataframe tbody tr th:only-of-type {\n",
       "        vertical-align: middle;\n",
       "    }\n",
       "\n",
       "    .dataframe tbody tr th {\n",
       "        vertical-align: top;\n",
       "    }\n",
       "\n",
       "    .dataframe thead th {\n",
       "        text-align: right;\n",
       "    }\n",
       "</style>\n",
       "<table border=\"1\" class=\"dataframe\">\n",
       "  <thead>\n",
       "    <tr style=\"text-align: right;\">\n",
       "      <th></th>\n",
       "      <th>DRIVERID</th>\n",
       "      <th>GENDER</th>\n",
       "      <th>BIRTHDATE</th>\n",
       "      <th>CREDSCORE</th>\n",
       "      <th>HLDIID</th>\n",
       "    </tr>\n",
       "  </thead>\n",
       "  <tbody>\n",
       "    <tr>\n",
       "      <th>0</th>\n",
       "      <td>104132812</td>\n",
       "      <td>F</td>\n",
       "      <td>1990-07-01</td>\n",
       "      <td>824</td>\n",
       "      <td>7399455</td>\n",
       "    </tr>\n",
       "    <tr>\n",
       "      <th>1</th>\n",
       "      <td>104132854</td>\n",
       "      <td>F</td>\n",
       "      <td>1933-11-06</td>\n",
       "      <td>824</td>\n",
       "      <td>6078430</td>\n",
       "    </tr>\n",
       "    <tr>\n",
       "      <th>2</th>\n",
       "      <td>104132876</td>\n",
       "      <td>F</td>\n",
       "      <td>1987-12-14</td>\n",
       "      <td>750</td>\n",
       "      <td>6212210</td>\n",
       "    </tr>\n",
       "    <tr>\n",
       "      <th>3</th>\n",
       "      <td>104132895</td>\n",
       "      <td>F</td>\n",
       "      <td>1999-10-22</td>\n",
       "      <td>750</td>\n",
       "      <td>7416184</td>\n",
       "    </tr>\n",
       "    <tr>\n",
       "      <th>4</th>\n",
       "      <td>104132907</td>\n",
       "      <td>F</td>\n",
       "      <td>1933-11-06</td>\n",
       "      <td>824</td>\n",
       "      <td>6078430</td>\n",
       "    </tr>\n",
       "  </tbody>\n",
       "</table>\n",
       "</div>"
      ],
      "text/plain": [
       "    DRIVERID GENDER  BIRTHDATE CREDSCORE   HLDIID\n",
       "0  104132812      F 1990-07-01       824  7399455\n",
       "1  104132854      F 1933-11-06       824  6078430\n",
       "2  104132876      F 1987-12-14       750  6212210\n",
       "3  104132895      F 1999-10-22       750  7416184\n",
       "4  104132907      F 1933-11-06       824  6078430"
      ]
     },
     "execution_count": 29,
     "metadata": {},
     "output_type": "execute_result"
    }
   ],
   "source": [
    "now = pd.Timestamp('now')\n",
    "drivers_df['BIRTHDATE'] = drivers_df['BIRTHDATE'].where(drivers_df['BIRTHDATE'] < now)\n",
    "drivers_df.head()"
   ]
  },
  {
   "cell_type": "code",
   "execution_count": 30,
   "metadata": {
    "colab": {
     "base_uri": "https://localhost:8080/"
    },
    "id": "gs1mSVESHHnv",
    "outputId": "0da19cb5-13b3-4b63-ce61-33818da63e28"
   },
   "outputs": [
    {
     "data": {
      "text/plain": [
       "Timestamp('1930-01-01 00:00:00')"
      ]
     },
     "execution_count": 30,
     "metadata": {},
     "output_type": "execute_result"
    }
   ],
   "source": [
    "then_started = pd.Timestamp(1930,1,1)\n",
    "then_started"
   ]
  },
  {
   "cell_type": "code",
   "execution_count": 31,
   "metadata": {
    "colab": {
     "base_uri": "https://localhost:8080/",
     "height": 206
    },
    "id": "elHM51jZHemJ",
    "outputId": "039c4aa2-ebe7-4106-d25b-1612a3155dd9"
   },
   "outputs": [
    {
     "data": {
      "text/html": [
       "<div>\n",
       "<style scoped>\n",
       "    .dataframe tbody tr th:only-of-type {\n",
       "        vertical-align: middle;\n",
       "    }\n",
       "\n",
       "    .dataframe tbody tr th {\n",
       "        vertical-align: top;\n",
       "    }\n",
       "\n",
       "    .dataframe thead th {\n",
       "        text-align: right;\n",
       "    }\n",
       "</style>\n",
       "<table border=\"1\" class=\"dataframe\">\n",
       "  <thead>\n",
       "    <tr style=\"text-align: right;\">\n",
       "      <th></th>\n",
       "      <th>DRIVERID</th>\n",
       "      <th>GENDER</th>\n",
       "      <th>BIRTHDATE</th>\n",
       "      <th>CREDSCORE</th>\n",
       "      <th>HLDIID</th>\n",
       "    </tr>\n",
       "  </thead>\n",
       "  <tbody>\n",
       "    <tr>\n",
       "      <th>0</th>\n",
       "      <td>104132812</td>\n",
       "      <td>F</td>\n",
       "      <td>1990-07-01</td>\n",
       "      <td>824</td>\n",
       "      <td>7399455</td>\n",
       "    </tr>\n",
       "    <tr>\n",
       "      <th>1</th>\n",
       "      <td>104132854</td>\n",
       "      <td>F</td>\n",
       "      <td>1933-11-06</td>\n",
       "      <td>824</td>\n",
       "      <td>6078430</td>\n",
       "    </tr>\n",
       "    <tr>\n",
       "      <th>2</th>\n",
       "      <td>104132876</td>\n",
       "      <td>F</td>\n",
       "      <td>1987-12-14</td>\n",
       "      <td>750</td>\n",
       "      <td>6212210</td>\n",
       "    </tr>\n",
       "    <tr>\n",
       "      <th>3</th>\n",
       "      <td>104132895</td>\n",
       "      <td>F</td>\n",
       "      <td>1999-10-22</td>\n",
       "      <td>750</td>\n",
       "      <td>7416184</td>\n",
       "    </tr>\n",
       "    <tr>\n",
       "      <th>4</th>\n",
       "      <td>104132907</td>\n",
       "      <td>F</td>\n",
       "      <td>1933-11-06</td>\n",
       "      <td>824</td>\n",
       "      <td>6078430</td>\n",
       "    </tr>\n",
       "  </tbody>\n",
       "</table>\n",
       "</div>"
      ],
      "text/plain": [
       "    DRIVERID GENDER  BIRTHDATE CREDSCORE   HLDIID\n",
       "0  104132812      F 1990-07-01       824  7399455\n",
       "1  104132854      F 1933-11-06       824  6078430\n",
       "2  104132876      F 1987-12-14       750  6212210\n",
       "3  104132895      F 1999-10-22       750  7416184\n",
       "4  104132907      F 1933-11-06       824  6078430"
      ]
     },
     "execution_count": 31,
     "metadata": {},
     "output_type": "execute_result"
    }
   ],
   "source": [
    "drivers_df['BIRTHDATE'] = drivers_df['BIRTHDATE'].where(drivers_df['BIRTHDATE'] > then_started)\n",
    "drivers_df.head()"
   ]
  },
  {
   "cell_type": "code",
   "execution_count": 32,
   "metadata": {
    "id": "EZnEGvC-EZ_g"
   },
   "outputs": [],
   "source": [
    "# Covert Bith Date field to Age\n",
    "import numpy as np\n",
    "now = pd.Timestamp('now')\n",
    "\n",
    "drivers_df['AGE'] = drivers_df['BIRTHDATE'].apply(lambda x: now.year - x.year - ((now.month, now.day) < (x.month, x.day)))"
   ]
  },
  {
   "cell_type": "code",
   "execution_count": 33,
   "metadata": {
    "colab": {
     "base_uri": "https://localhost:8080/",
     "height": 206
    },
    "id": "mpgYizolJGiZ",
    "outputId": "772a7741-1020-467c-be55-5874aa827966"
   },
   "outputs": [
    {
     "data": {
      "text/html": [
       "<div>\n",
       "<style scoped>\n",
       "    .dataframe tbody tr th:only-of-type {\n",
       "        vertical-align: middle;\n",
       "    }\n",
       "\n",
       "    .dataframe tbody tr th {\n",
       "        vertical-align: top;\n",
       "    }\n",
       "\n",
       "    .dataframe thead th {\n",
       "        text-align: right;\n",
       "    }\n",
       "</style>\n",
       "<table border=\"1\" class=\"dataframe\">\n",
       "  <thead>\n",
       "    <tr style=\"text-align: right;\">\n",
       "      <th></th>\n",
       "      <th>DRIVERID</th>\n",
       "      <th>GENDER</th>\n",
       "      <th>BIRTHDATE</th>\n",
       "      <th>CREDSCORE</th>\n",
       "      <th>HLDIID</th>\n",
       "      <th>AGE</th>\n",
       "    </tr>\n",
       "  </thead>\n",
       "  <tbody>\n",
       "    <tr>\n",
       "      <th>0</th>\n",
       "      <td>104132812</td>\n",
       "      <td>F</td>\n",
       "      <td>1990-07-01</td>\n",
       "      <td>824</td>\n",
       "      <td>7399455</td>\n",
       "      <td>32.0</td>\n",
       "    </tr>\n",
       "    <tr>\n",
       "      <th>1</th>\n",
       "      <td>104132854</td>\n",
       "      <td>F</td>\n",
       "      <td>1933-11-06</td>\n",
       "      <td>824</td>\n",
       "      <td>6078430</td>\n",
       "      <td>88.0</td>\n",
       "    </tr>\n",
       "    <tr>\n",
       "      <th>2</th>\n",
       "      <td>104132876</td>\n",
       "      <td>F</td>\n",
       "      <td>1987-12-14</td>\n",
       "      <td>750</td>\n",
       "      <td>6212210</td>\n",
       "      <td>34.0</td>\n",
       "    </tr>\n",
       "    <tr>\n",
       "      <th>3</th>\n",
       "      <td>104132895</td>\n",
       "      <td>F</td>\n",
       "      <td>1999-10-22</td>\n",
       "      <td>750</td>\n",
       "      <td>7416184</td>\n",
       "      <td>22.0</td>\n",
       "    </tr>\n",
       "    <tr>\n",
       "      <th>4</th>\n",
       "      <td>104132907</td>\n",
       "      <td>F</td>\n",
       "      <td>1933-11-06</td>\n",
       "      <td>824</td>\n",
       "      <td>6078430</td>\n",
       "      <td>88.0</td>\n",
       "    </tr>\n",
       "  </tbody>\n",
       "</table>\n",
       "</div>"
      ],
      "text/plain": [
       "    DRIVERID GENDER  BIRTHDATE CREDSCORE   HLDIID   AGE\n",
       "0  104132812      F 1990-07-01       824  7399455  32.0\n",
       "1  104132854      F 1933-11-06       824  6078430  88.0\n",
       "2  104132876      F 1987-12-14       750  6212210  34.0\n",
       "3  104132895      F 1999-10-22       750  7416184  22.0\n",
       "4  104132907      F 1933-11-06       824  6078430  88.0"
      ]
     },
     "execution_count": 33,
     "metadata": {},
     "output_type": "execute_result"
    }
   ],
   "source": [
    "drivers_df.head()"
   ]
  },
  {
   "cell_type": "code",
   "execution_count": 34,
   "metadata": {
    "colab": {
     "base_uri": "https://localhost:8080/",
     "height": 206
    },
    "id": "AqXchwJ5JRs-",
    "outputId": "695990b9-fb41-4597-bba5-9af6507c4a24"
   },
   "outputs": [
    {
     "data": {
      "text/html": [
       "<div>\n",
       "<style scoped>\n",
       "    .dataframe tbody tr th:only-of-type {\n",
       "        vertical-align: middle;\n",
       "    }\n",
       "\n",
       "    .dataframe tbody tr th {\n",
       "        vertical-align: top;\n",
       "    }\n",
       "\n",
       "    .dataframe thead th {\n",
       "        text-align: right;\n",
       "    }\n",
       "</style>\n",
       "<table border=\"1\" class=\"dataframe\">\n",
       "  <thead>\n",
       "    <tr style=\"text-align: right;\">\n",
       "      <th></th>\n",
       "      <th>DRIVERID</th>\n",
       "      <th>GENDER</th>\n",
       "      <th>CREDSCORE</th>\n",
       "      <th>HLDIID</th>\n",
       "      <th>AGE</th>\n",
       "    </tr>\n",
       "  </thead>\n",
       "  <tbody>\n",
       "    <tr>\n",
       "      <th>0</th>\n",
       "      <td>104132812</td>\n",
       "      <td>F</td>\n",
       "      <td>824</td>\n",
       "      <td>7399455</td>\n",
       "      <td>32.0</td>\n",
       "    </tr>\n",
       "    <tr>\n",
       "      <th>1</th>\n",
       "      <td>104132854</td>\n",
       "      <td>F</td>\n",
       "      <td>824</td>\n",
       "      <td>6078430</td>\n",
       "      <td>88.0</td>\n",
       "    </tr>\n",
       "    <tr>\n",
       "      <th>2</th>\n",
       "      <td>104132876</td>\n",
       "      <td>F</td>\n",
       "      <td>750</td>\n",
       "      <td>6212210</td>\n",
       "      <td>34.0</td>\n",
       "    </tr>\n",
       "    <tr>\n",
       "      <th>3</th>\n",
       "      <td>104132895</td>\n",
       "      <td>F</td>\n",
       "      <td>750</td>\n",
       "      <td>7416184</td>\n",
       "      <td>22.0</td>\n",
       "    </tr>\n",
       "    <tr>\n",
       "      <th>4</th>\n",
       "      <td>104132907</td>\n",
       "      <td>F</td>\n",
       "      <td>824</td>\n",
       "      <td>6078430</td>\n",
       "      <td>88.0</td>\n",
       "    </tr>\n",
       "  </tbody>\n",
       "</table>\n",
       "</div>"
      ],
      "text/plain": [
       "    DRIVERID GENDER CREDSCORE   HLDIID   AGE\n",
       "0  104132812      F       824  7399455  32.0\n",
       "1  104132854      F       824  6078430  88.0\n",
       "2  104132876      F       750  6212210  34.0\n",
       "3  104132895      F       750  7416184  22.0\n",
       "4  104132907      F       824  6078430  88.0"
      ]
     },
     "execution_count": 34,
     "metadata": {},
     "output_type": "execute_result"
    }
   ],
   "source": [
    "# Once Birth date is merged to the Data Frame, remove the Birth Date column\n",
    "drivers_df.drop('BIRTHDATE', axis=1, inplace=True)\n",
    "drivers_df.head()"
   ]
  },
  {
   "cell_type": "code",
   "execution_count": 35,
   "metadata": {
    "colab": {
     "base_uri": "https://localhost:8080/"
    },
    "id": "eSEhiwd-1EjY",
    "outputId": "09567562-2236-4924-9227-2c6fe101d11e"
   },
   "outputs": [
    {
     "name": "stdout",
     "output_type": "stream",
     "text": [
      "<class 'pandas.core.frame.DataFrame'>\n",
      "Int64Index: 985912 entries, 0 to 1048551\n",
      "Data columns (total 5 columns):\n",
      " #   Column     Non-Null Count   Dtype  \n",
      "---  ------     --------------   -----  \n",
      " 0   DRIVERID   985912 non-null  int64  \n",
      " 1   GENDER     985912 non-null  object \n",
      " 2   CREDSCORE  985912 non-null  object \n",
      " 3   HLDIID     985912 non-null  int64  \n",
      " 4   AGE        985213 non-null  float64\n",
      "dtypes: float64(1), int64(2), object(2)\n",
      "memory usage: 45.1+ MB\n"
     ]
    }
   ],
   "source": [
    "# Drop credit score is not number - default credit ratings\n",
    "drivers_df = drivers_df[pd.to_numeric(drivers_df['CREDSCORE'],errors='coerce').notna()]\n",
    "drivers_df = drivers_df.dropna(subset=['CREDSCORE'])\n",
    "drivers_df.info()"
   ]
  },
  {
   "cell_type": "code",
   "execution_count": 38,
   "metadata": {
    "colab": {
     "base_uri": "https://localhost:8080/"
    },
    "id": "uepqukN-29Xp",
    "outputId": "bf3907ae-8b16-44d4-8745-05209ff179ba"
   },
   "outputs": [
    {
     "name": "stdout",
     "output_type": "stream",
     "text": [
      "<class 'pandas.core.frame.DataFrame'>\n",
      "Int64Index: 985912 entries, 0 to 1048551\n",
      "Data columns (total 5 columns):\n",
      " #   Column     Non-Null Count   Dtype  \n",
      "---  ------     --------------   -----  \n",
      " 0   DRIVERID   985912 non-null  int64  \n",
      " 1   GENDER     985912 non-null  object \n",
      " 2   CREDSCORE  985912 non-null  float64\n",
      " 3   HLDIID     985912 non-null  int64  \n",
      " 4   AGE        985213 non-null  float64\n",
      "dtypes: float64(2), int64(2), object(1)\n",
      "memory usage: 45.1+ MB\n"
     ]
    }
   ],
   "source": [
    "drivers_df['CREDSCORE'] = drivers_df['CREDSCORE'].astype(float)\n",
    "drivers_df.info()"
   ]
  },
  {
   "cell_type": "code",
   "execution_count": 39,
   "metadata": {
    "id": "RQF7NQ9mKZfH"
   },
   "outputs": [],
   "source": [
    "# GENDER operation X is binary_gender nan is unknown input fill with 0\n",
    "drivers_df['GENDER'] = drivers_df['GENDER'].fillna(0)\n",
    "new_data = {   \n",
    "    'M':1,\n",
    "    'F':2,\n",
    "    'X':3\n",
    "}\n",
    "# Change Genders Numeric values\n",
    "drivers_df['GENDER'] = drivers_df['GENDER'].map(new_data)"
   ]
  },
  {
   "cell_type": "code",
   "execution_count": 40,
   "metadata": {
    "colab": {
     "base_uri": "https://localhost:8080/"
    },
    "id": "vhDXFcg3Ke9_",
    "outputId": "57368a57-3bfb-4b85-b4ca-3c17fbc1d6fd"
   },
   "outputs": [
    {
     "data": {
      "text/plain": [
       "array([2, 1], dtype=int64)"
      ]
     },
     "execution_count": 40,
     "metadata": {},
     "output_type": "execute_result"
    }
   ],
   "source": [
    "drivers_df['GENDER'].unique()"
   ]
  },
  {
   "cell_type": "code",
   "execution_count": 41,
   "metadata": {
    "colab": {
     "base_uri": "https://localhost:8080/"
    },
    "id": "-jq0bMoe0Vop",
    "outputId": "b404d159-6214-44a9-ca8b-04217a108627"
   },
   "outputs": [
    {
     "name": "stdout",
     "output_type": "stream",
     "text": [
      "Rows     :  985213\n",
      "Columns  :  5\n",
      "\n",
      "Features : \n",
      " ['DRIVERID', 'GENDER', 'CREDSCORE', 'HLDIID', 'AGE']\n",
      "\n",
      "Missing values :   0\n",
      "\n",
      "Unique values :  \n",
      " DRIVERID     746862\n",
      "GENDER            2\n",
      "CREDSCORE       599\n",
      "HLDIID        58347\n",
      "AGE              93\n",
      "dtype: int64\n"
     ]
    }
   ],
   "source": [
    "# Check all odd that might exists\n",
    "drivers_df = drivers_df.dropna()\n",
    "print (\"Rows     : \" , drivers_df.shape[0])\n",
    "print (\"Columns  : \" , drivers_df.shape[1])\n",
    "print (\"\\nFeatures : \\n\" , drivers_df.columns.tolist())\n",
    "print (\"\\nMissing values :  \", drivers_df.isnull().sum().values.sum())\n",
    "print (\"\\nUnique values :  \\n\",drivers_df.nunique())"
   ]
  },
  {
   "cell_type": "code",
   "execution_count": 42,
   "metadata": {
    "colab": {
     "base_uri": "https://localhost:8080/",
     "height": 206
    },
    "id": "BfqIlz0UKpCv",
    "outputId": "c74ec946-3ffa-46f4-c11d-605051607011"
   },
   "outputs": [
    {
     "data": {
      "text/html": [
       "<div>\n",
       "<style scoped>\n",
       "    .dataframe tbody tr th:only-of-type {\n",
       "        vertical-align: middle;\n",
       "    }\n",
       "\n",
       "    .dataframe tbody tr th {\n",
       "        vertical-align: top;\n",
       "    }\n",
       "\n",
       "    .dataframe thead th {\n",
       "        text-align: right;\n",
       "    }\n",
       "</style>\n",
       "<table border=\"1\" class=\"dataframe\">\n",
       "  <thead>\n",
       "    <tr style=\"text-align: right;\">\n",
       "      <th></th>\n",
       "      <th>DRIVER_ID</th>\n",
       "      <th>GENDER</th>\n",
       "      <th>CREDIT_SCORE</th>\n",
       "      <th>VEHICLE_ID</th>\n",
       "      <th>AGE</th>\n",
       "    </tr>\n",
       "  </thead>\n",
       "  <tbody>\n",
       "    <tr>\n",
       "      <th>0</th>\n",
       "      <td>104132812</td>\n",
       "      <td>2</td>\n",
       "      <td>824.0</td>\n",
       "      <td>7399455</td>\n",
       "      <td>32.0</td>\n",
       "    </tr>\n",
       "    <tr>\n",
       "      <th>1</th>\n",
       "      <td>104132854</td>\n",
       "      <td>2</td>\n",
       "      <td>824.0</td>\n",
       "      <td>6078430</td>\n",
       "      <td>88.0</td>\n",
       "    </tr>\n",
       "    <tr>\n",
       "      <th>2</th>\n",
       "      <td>104132876</td>\n",
       "      <td>2</td>\n",
       "      <td>750.0</td>\n",
       "      <td>6212210</td>\n",
       "      <td>34.0</td>\n",
       "    </tr>\n",
       "    <tr>\n",
       "      <th>3</th>\n",
       "      <td>104132895</td>\n",
       "      <td>2</td>\n",
       "      <td>750.0</td>\n",
       "      <td>7416184</td>\n",
       "      <td>22.0</td>\n",
       "    </tr>\n",
       "    <tr>\n",
       "      <th>4</th>\n",
       "      <td>104132907</td>\n",
       "      <td>2</td>\n",
       "      <td>824.0</td>\n",
       "      <td>6078430</td>\n",
       "      <td>88.0</td>\n",
       "    </tr>\n",
       "  </tbody>\n",
       "</table>\n",
       "</div>"
      ],
      "text/plain": [
       "   DRIVER_ID  GENDER  CREDIT_SCORE  VEHICLE_ID   AGE\n",
       "0  104132812       2         824.0     7399455  32.0\n",
       "1  104132854       2         824.0     6078430  88.0\n",
       "2  104132876       2         750.0     6212210  34.0\n",
       "3  104132895       2         750.0     7416184  22.0\n",
       "4  104132907       2         824.0     6078430  88.0"
      ]
     },
     "execution_count": 42,
     "metadata": {},
     "output_type": "execute_result"
    }
   ],
   "source": [
    "# Rename the column Easier to read and consistent format\n",
    "drivers_df = drivers_df.rename(columns={'DRIVERID':'DRIVER_ID', 'CREDSCORE':'CREDIT_SCORE', 'HLDIID':'VEHICLE_ID'})\n",
    "drivers_df.head()"
   ]
  },
  {
   "cell_type": "code",
   "execution_count": 43,
   "metadata": {
    "colab": {
     "base_uri": "https://localhost:8080/",
     "height": 175
    },
    "id": "RU72e-jQ3IiC",
    "outputId": "fd7f1656-047d-4b32-db66-7cf6e9f6206b"
   },
   "outputs": [
    {
     "data": {
      "text/html": [
       "<div>\n",
       "<style scoped>\n",
       "    .dataframe tbody tr th:only-of-type {\n",
       "        vertical-align: middle;\n",
       "    }\n",
       "\n",
       "    .dataframe tbody tr th {\n",
       "        vertical-align: top;\n",
       "    }\n",
       "\n",
       "    .dataframe thead th {\n",
       "        text-align: right;\n",
       "    }\n",
       "</style>\n",
       "<table border=\"1\" class=\"dataframe\">\n",
       "  <thead>\n",
       "    <tr style=\"text-align: right;\">\n",
       "      <th></th>\n",
       "      <th>DRIVER_ID</th>\n",
       "      <th>GENDER</th>\n",
       "      <th>CREDIT_SCORE</th>\n",
       "      <th>VEHICLE_ID</th>\n",
       "      <th>AGE</th>\n",
       "    </tr>\n",
       "  </thead>\n",
       "  <tbody>\n",
       "    <tr>\n",
       "      <th>DRIVER_ID</th>\n",
       "      <td>1.000000</td>\n",
       "      <td>-0.010173</td>\n",
       "      <td>0.097850</td>\n",
       "      <td>0.108748</td>\n",
       "      <td>0.015577</td>\n",
       "    </tr>\n",
       "    <tr>\n",
       "      <th>GENDER</th>\n",
       "      <td>-0.010173</td>\n",
       "      <td>1.000000</td>\n",
       "      <td>-0.041136</td>\n",
       "      <td>0.035127</td>\n",
       "      <td>-0.004984</td>\n",
       "    </tr>\n",
       "    <tr>\n",
       "      <th>CREDIT_SCORE</th>\n",
       "      <td>0.097850</td>\n",
       "      <td>-0.041136</td>\n",
       "      <td>1.000000</td>\n",
       "      <td>0.212360</td>\n",
       "      <td>0.091330</td>\n",
       "    </tr>\n",
       "    <tr>\n",
       "      <th>VEHICLE_ID</th>\n",
       "      <td>0.108748</td>\n",
       "      <td>0.035127</td>\n",
       "      <td>0.212360</td>\n",
       "      <td>1.000000</td>\n",
       "      <td>0.026650</td>\n",
       "    </tr>\n",
       "    <tr>\n",
       "      <th>AGE</th>\n",
       "      <td>0.015577</td>\n",
       "      <td>-0.004984</td>\n",
       "      <td>0.091330</td>\n",
       "      <td>0.026650</td>\n",
       "      <td>1.000000</td>\n",
       "    </tr>\n",
       "  </tbody>\n",
       "</table>\n",
       "</div>"
      ],
      "text/plain": [
       "              DRIVER_ID    GENDER  CREDIT_SCORE  VEHICLE_ID       AGE\n",
       "DRIVER_ID      1.000000 -0.010173      0.097850    0.108748  0.015577\n",
       "GENDER        -0.010173  1.000000     -0.041136    0.035127 -0.004984\n",
       "CREDIT_SCORE   0.097850 -0.041136      1.000000    0.212360  0.091330\n",
       "VEHICLE_ID     0.108748  0.035127      0.212360    1.000000  0.026650\n",
       "AGE            0.015577 -0.004984      0.091330    0.026650  1.000000"
      ]
     },
     "execution_count": 43,
     "metadata": {},
     "output_type": "execute_result"
    }
   ],
   "source": [
    "# Let's check corr- high values? The realtionship with vehicle and credit score is high\n",
    "drivers_df.corr()"
   ]
  },
  {
   "cell_type": "code",
   "execution_count": 6,
   "metadata": {
    "colab": {
     "base_uri": "https://localhost:8080/",
     "height": 608
    },
    "id": "bktJv7hI0bvP",
    "outputId": "2b7b5075-0684-45e6-eeb2-8224d3638030"
   },
   "outputs": [
    {
     "name": "stderr",
     "output_type": "stream",
     "text": [
      "No artists with labels found to put in legend.  Note that artists whose label start with an underscore are ignored when legend() is called with no argument.\n"
     ]
    },
    {
     "data": {
      "image/png": "[encoded data removed]",
      "text/plain": [
       "<Figure size 720x720 with 2 Axes>"
      ]
     },
     "metadata": {
      "needs_background": "light"
     },
     "output_type": "display_data"
    }
   ],
   "source": [
    "# Let's plot corr- high values? The realtionship with vehicle and credit score is high\n",
    "import matplotlib.pyplot as plt\n",
    "def plot_corr(df, size=10):\n",
    "    corr = df.corr()\n",
    "    fig, ax = plt.subplots(figsize=(size, size))\n",
    "    ax.legend()\n",
    "    cax = ax.matshow(corr)\n",
    "    fig.colorbar(cax)\n",
    "    plt.xticks(range(len(corr.columns)), corr.columns, rotation='vertical')\n",
    "    plt.yticks(range(len(corr.columns)), corr.columns)\n",
    "\n",
    "plot_corr(drivers_df)  "
   ]
  },
  {
   "cell_type": "code",
   "execution_count": 7,
   "metadata": {
    "colab": {
     "base_uri": "https://localhost:8080/",
     "height": 632
    },
    "id": "x6eL_ea80iWH",
    "outputId": "e48bfe8e-da96-4d5e-a80c-880daf80f7a1"
   },
   "outputs": [
    {
     "data": {
      "text/plain": [
       "<AxesSubplot:ylabel='Frequency'>"
      ]
     },
     "execution_count": 7,
     "metadata": {},
     "output_type": "execute_result"
    },
    {
     "data": {
      "image/png": "[encoded data removed]",
      "text/plain": [
       "<Figure size 864x720 with 4 Axes>"
      ]
     },
     "metadata": {
      "needs_background": "light"
     },
     "output_type": "display_data"
    }
   ],
   "source": [
    "# let's take an individual categories how it is distributed\n",
    "fig, axes = plt.subplots(nrows=2, ncols=2, figsize=(12,10))\n",
    "drivers_df.plot(kind='hist', y='GENDER', bins=5, color='b', ax=axes[0][0])\n",
    "drivers_df.plot(kind='hist', y='CREDIT_SCORE', bins=100, color='r', ax=axes[0][1])\n",
    "drivers_df.plot(kind='hist', y='AGE', bins=70, color='g', ax=axes[1][0])\n",
    "drivers_df.plot(kind='hist', y='VEHICLE_ID', bins=100, color='orange', ax=axes[1][1])"
   ]
  },
  {
   "cell_type": "code",
   "execution_count": 46,
   "metadata": {
    "id": "AqL7Pz5w3nnx"
   },
   "outputs": [],
   "source": [
    "drivers_df.to_csv(\"raw_converted_data/drivers.csv\", index=False)"
   ]
  },
  {
   "cell_type": "code",
   "execution_count": null,
   "metadata": {},
   "outputs": [],
   "source": []
  }
 ],
 "metadata": {
  "colab": {
   "collapsed_sections": [],
   "name": "Project_Preprocessing1.ipynb",
   "provenance": []
  },
  "kernelspec": {
   "display_name": "mlenv",
   "language": "python",
   "name": "mlenv"
  },
  "language_info": {
   "codemirror_mode": {
    "name": "ipython",
    "version": 3
   },
   "file_extension": ".py",
   "mimetype": "text/x-python",
   "name": "python",
   "nbconvert_exporter": "python",
   "pygments_lexer": "ipython3",
   "version": "3.7.13"
  }
 },
 "nbformat": 4,
 "nbformat_minor": 1
}
