{
 "cells": [
  {
   "cell_type": "markdown",
   "id": "4e84987c",
   "metadata": {},
   "source": [
    "## Feature selection ?\n",
    "- Simple modles are easier to interpret\n",
    "- Shorter training times\n",
    "- Enhanced generalisation by reducing overfitting\n",
    "- Easier to implement\n",
    "- Reduced risk of data errors during model use\n",
    "- Variable redundancy\n",
    "- Bad learning behavior in high dimensional Space"
   ]
  },
  {
   "cell_type": "code",
   "execution_count": 1,
   "id": "a4b5f9a7",
   "metadata": {},
   "outputs": [],
   "source": [
    "# Import basic necessities\n",
    "import pandas as pd\n",
    "import os\n",
    "import numpy as np\n",
    "\n",
    "import tensorflow as tf\n",
    "from tensorflow import keras\n",
    "\n",
    "from sklearn import preprocessing\n",
    "from sklearn.preprocessing import StandardScaler\n",
    "from sklearn.model_selection import train_test_split\n",
    "\n",
    "import warnings\n",
    "warnings.filterwarnings('ignore')"
   ]
  },
  {
   "cell_type": "code",
   "execution_count": 2,
   "id": "7899e297",
   "metadata": {},
   "outputs": [
    {
     "data": {
      "text/html": [
       "<div>\n",
       "<style scoped>\n",
       "    .dataframe tbody tr th:only-of-type {\n",
       "        vertical-align: middle;\n",
       "    }\n",
       "\n",
       "    .dataframe tbody tr th {\n",
       "        vertical-align: top;\n",
       "    }\n",
       "\n",
       "    .dataframe thead th {\n",
       "        text-align: right;\n",
       "    }\n",
       "</style>\n",
       "<table border=\"1\" class=\"dataframe\">\n",
       "  <thead>\n",
       "    <tr style=\"text-align: right;\">\n",
       "      <th></th>\n",
       "      <th>DRIVER_ID</th>\n",
       "      <th>GENDER</th>\n",
       "      <th>CREDIT_SCORE</th>\n",
       "      <th>AGE</th>\n",
       "      <th>VEHICLE_ID</th>\n",
       "    </tr>\n",
       "  </thead>\n",
       "  <tbody>\n",
       "    <tr>\n",
       "      <th>0</th>\n",
       "      <td>1</td>\n",
       "      <td>2.0</td>\n",
       "      <td>824</td>\n",
       "      <td>27.0</td>\n",
       "      <td>7420963</td>\n",
       "    </tr>\n",
       "    <tr>\n",
       "      <th>1</th>\n",
       "      <td>2</td>\n",
       "      <td>1.0</td>\n",
       "      <td>824</td>\n",
       "      <td>28.0</td>\n",
       "      <td>7420963</td>\n",
       "    </tr>\n",
       "    <tr>\n",
       "      <th>2</th>\n",
       "      <td>3</td>\n",
       "      <td>2.0</td>\n",
       "      <td>666</td>\n",
       "      <td>51.0</td>\n",
       "      <td>7396448</td>\n",
       "    </tr>\n",
       "    <tr>\n",
       "      <th>3</th>\n",
       "      <td>4</td>\n",
       "      <td>2.0</td>\n",
       "      <td>666</td>\n",
       "      <td>34.0</td>\n",
       "      <td>6208988</td>\n",
       "    </tr>\n",
       "    <tr>\n",
       "      <th>4</th>\n",
       "      <td>5</td>\n",
       "      <td>2.0</td>\n",
       "      <td>824</td>\n",
       "      <td>88.0</td>\n",
       "      <td>6078430</td>\n",
       "    </tr>\n",
       "  </tbody>\n",
       "</table>\n",
       "</div>"
      ],
      "text/plain": [
       "   DRIVER_ID  GENDER  CREDIT_SCORE   AGE  VEHICLE_ID\n",
       "0          1     2.0           824  27.0     7420963\n",
       "1          2     1.0           824  28.0     7420963\n",
       "2          3     2.0           666  51.0     7396448\n",
       "3          4     2.0           666  34.0     6208988\n",
       "4          5     2.0           824  88.0     6078430"
      ]
     },
     "execution_count": 2,
     "metadata": {},
     "output_type": "execute_result"
    }
   ],
   "source": [
    "drivers_df = pd.read_csv(\"ready_db/drviers.csv\")\n",
    "drivers_df.head()"
   ]
  },
  {
   "cell_type": "code",
   "execution_count": 3,
   "id": "a532d260",
   "metadata": {},
   "outputs": [
    {
     "name": "stdout",
     "output_type": "stream",
     "text": [
      "<class 'pandas.core.frame.DataFrame'>\n",
      "Int64Index: 726 entries, 0 to 735\n",
      "Data columns (total 5 columns):\n",
      " #   Column        Non-Null Count  Dtype  \n",
      "---  ------        --------------  -----  \n",
      " 0   DRIVER_ID     726 non-null    int64  \n",
      " 1   GENDER        726 non-null    float64\n",
      " 2   CREDIT_SCORE  726 non-null    int64  \n",
      " 3   AGE           726 non-null    float64\n",
      " 4   VEHICLE_ID    726 non-null    int64  \n",
      "dtypes: float64(2), int64(3)\n",
      "memory usage: 34.0 KB\n"
     ]
    }
   ],
   "source": [
    "drivers_df = drivers_df.dropna()\n",
    "drivers_df.info()"
   ]
  },
  {
   "cell_type": "code",
   "execution_count": 4,
   "id": "4f2e34f0",
   "metadata": {},
   "outputs": [],
   "source": [
    "# Remove creadit score outcome target from fetures data\n",
    "y = drivers_df['CREDIT_SCORE']\n",
    "X = drivers_df.drop(columns='CREDIT_SCORE')"
   ]
  },
  {
   "cell_type": "code",
   "execution_count": 8,
   "id": "14f806e5",
   "metadata": {},
   "outputs": [],
   "source": [
    "from sklearn.preprocessing import MinMaxScaler\n",
    "scaler = MinMaxScaler()\n",
    "X_scaled = scaler.fit_transform(X)"
   ]
  },
  {
   "cell_type": "code",
   "execution_count": 9,
   "id": "ec77eb5a",
   "metadata": {},
   "outputs": [
    {
     "name": "stdout",
     "output_type": "stream",
     "text": [
      "Explained Variance: [0.62957741 0.21252828 0.0907765  0.06711781]\n",
      "[[ 0.02022812 -0.99889819  0.02673549 -0.03283978]\n",
      " [ 0.99244598  0.02456926  0.02190943 -0.11818337]\n",
      " [-0.01652614  0.02469284  0.99823537  0.05141295]\n",
      " [-0.11986948  0.03144884  0.04828386 -0.99111601]]\n"
     ]
    }
   ],
   "source": [
    "# The PCA algorithem is going to standardize the input data frame, calculate teh covariance matrix of the features\n",
    "# eigenvector - covariance matrix of the features can be avaraged by generating another vector (pointer)\n",
    "# distance form one point to another (pointer length) eigenvalues\n",
    "# PCA shows : What number of principal components we need.\n",
    "from sklearn.decomposition import PCA\n",
    "pca = PCA(n_components=0.95)\n",
    "fit = pca.fit(X_scaled)\n",
    "print(f\"Explained Variance: {fit.explained_variance_ratio_}\")\n",
    "print(fit.components_)"
   ]
  },
  {
   "cell_type": "code",
   "execution_count": 10,
   "id": "a5c16b8f",
   "metadata": {},
   "outputs": [
    {
     "name": "stdout",
     "output_type": "stream",
     "text": [
      "[0.40072068 0.04281098 0.30998234 0.246486  ]\n"
     ]
    }
   ],
   "source": [
    "# The purpose of the ExtraTreesClassifier is to fit a number of randomized decision trees to the data, from of ensemble learning\n",
    "# Particularly, random splits of all observations are carried out to ensure that the model does not overfit the data.\n",
    "from sklearn.ensemble import ExtraTreesClassifier\n",
    "model = ExtraTreesClassifier()\n",
    "model.fit(X, y)\n",
    "# The importans of a feature is computed as the (normalized) Total reduction of the criterion brough by that feature.\n",
    "print(model.feature_importances_)"
   ]
  },
  {
   "cell_type": "markdown",
   "id": "e9127f3d",
   "metadata": {},
   "source": [
    "### NOTE: :Since the importances of feature isn't a good, so we need to run the Feature Selection Technique with additional input on the fields... next step."
   ]
  }
 ],
 "metadata": {
  "kernelspec": {
   "display_name": "mlenv",
   "language": "python",
   "name": "mlenv"
  },
  "language_info": {
   "codemirror_mode": {
    "name": "ipython",
    "version": 3
   },
   "file_extension": ".py",
   "mimetype": "text/x-python",
   "name": "python",
   "nbconvert_exporter": "python",
   "pygments_lexer": "ipython3",
   "version": "3.7.13"
  }
 },
 "nbformat": 4,
 "nbformat_minor": 5
}
