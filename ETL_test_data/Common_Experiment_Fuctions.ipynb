{
 "cells": [
  {
   "cell_type": "markdown",
   "id": "a889f52c",
   "metadata": {},
   "source": [
    "### Data Experiment\n",
    "- Optimizer Experiment <br>\n",
    "- Model Experiment"
   ]
  },
  {
   "cell_type": "code",
   "execution_count": 1,
   "id": "5c98af7d",
   "metadata": {},
   "outputs": [],
   "source": [
    "# Import basic necessities\n",
    "import pandas as pd\n",
    "import os\n",
    "import numpy as np\n",
    "\n",
    "import tensorflow as tf\n",
    "from tensorflow import keras\n",
    "\n",
    "from sklearn import preprocessing\n",
    "from sklearn.preprocessing import StandardScaler\n",
    "from sklearn.model_selection import train_test_split\n",
    "\n",
    "import warnings\n",
    "warnings.filterwarnings('ignore')"
   ]
  },
  {
   "cell_type": "code",
   "execution_count": 2,
   "id": "2302413e",
   "metadata": {},
   "outputs": [
    {
     "data": {
      "text/html": [
       "<div>\n",
       "<style scoped>\n",
       "    .dataframe tbody tr th:only-of-type {\n",
       "        vertical-align: middle;\n",
       "    }\n",
       "\n",
       "    .dataframe tbody tr th {\n",
       "        vertical-align: top;\n",
       "    }\n",
       "\n",
       "    .dataframe thead th {\n",
       "        text-align: right;\n",
       "    }\n",
       "</style>\n",
       "<table border=\"1\" class=\"dataframe\">\n",
       "  <thead>\n",
       "    <tr style=\"text-align: right;\">\n",
       "      <th></th>\n",
       "      <th>DRIVER_ID</th>\n",
       "      <th>GENDER</th>\n",
       "      <th>CREDIT_SCORE</th>\n",
       "      <th>AGE</th>\n",
       "      <th>VEHICLE_ID</th>\n",
       "    </tr>\n",
       "  </thead>\n",
       "  <tbody>\n",
       "    <tr>\n",
       "      <th>0</th>\n",
       "      <td>1</td>\n",
       "      <td>2.0</td>\n",
       "      <td>824</td>\n",
       "      <td>27.0</td>\n",
       "      <td>7420963</td>\n",
       "    </tr>\n",
       "    <tr>\n",
       "      <th>1</th>\n",
       "      <td>2</td>\n",
       "      <td>1.0</td>\n",
       "      <td>824</td>\n",
       "      <td>28.0</td>\n",
       "      <td>7420963</td>\n",
       "    </tr>\n",
       "    <tr>\n",
       "      <th>2</th>\n",
       "      <td>3</td>\n",
       "      <td>2.0</td>\n",
       "      <td>666</td>\n",
       "      <td>51.0</td>\n",
       "      <td>7396448</td>\n",
       "    </tr>\n",
       "    <tr>\n",
       "      <th>3</th>\n",
       "      <td>4</td>\n",
       "      <td>2.0</td>\n",
       "      <td>666</td>\n",
       "      <td>34.0</td>\n",
       "      <td>6208988</td>\n",
       "    </tr>\n",
       "    <tr>\n",
       "      <th>4</th>\n",
       "      <td>5</td>\n",
       "      <td>2.0</td>\n",
       "      <td>824</td>\n",
       "      <td>88.0</td>\n",
       "      <td>6078430</td>\n",
       "    </tr>\n",
       "  </tbody>\n",
       "</table>\n",
       "</div>"
      ],
      "text/plain": [
       "   DRIVER_ID  GENDER  CREDIT_SCORE   AGE  VEHICLE_ID\n",
       "0          1     2.0           824  27.0     7420963\n",
       "1          2     1.0           824  28.0     7420963\n",
       "2          3     2.0           666  51.0     7396448\n",
       "3          4     2.0           666  34.0     6208988\n",
       "4          5     2.0           824  88.0     6078430"
      ]
     },
     "execution_count": 2,
     "metadata": {},
     "output_type": "execute_result"
    }
   ],
   "source": [
    "drivers_df = pd.read_csv(\"ready_db/drviers.csv\")\n",
    "drivers_df.head()"
   ]
  },
  {
   "cell_type": "code",
   "execution_count": 3,
   "id": "9439a60e",
   "metadata": {},
   "outputs": [
    {
     "name": "stdout",
     "output_type": "stream",
     "text": [
      "<class 'pandas.core.frame.DataFrame'>\n",
      "Int64Index: 726 entries, 0 to 735\n",
      "Data columns (total 5 columns):\n",
      " #   Column        Non-Null Count  Dtype  \n",
      "---  ------        --------------  -----  \n",
      " 0   DRIVER_ID     726 non-null    int64  \n",
      " 1   GENDER        726 non-null    float64\n",
      " 2   CREDIT_SCORE  726 non-null    int64  \n",
      " 3   AGE           726 non-null    float64\n",
      " 4   VEHICLE_ID    726 non-null    int64  \n",
      "dtypes: float64(2), int64(3)\n",
      "memory usage: 34.0 KB\n"
     ]
    }
   ],
   "source": [
    "drivers_df = drivers_df.dropna()\n",
    "drivers_df.info()"
   ]
  },
  {
   "cell_type": "code",
   "execution_count": 4,
   "id": "53c9c606",
   "metadata": {},
   "outputs": [
    {
     "data": {
      "text/plain": [
       "750    225\n",
       "824    192\n",
       "666    168\n",
       "847     71\n",
       "768     13\n",
       "454      8\n",
       "395      8\n",
       "546      3\n",
       "654      3\n",
       "Name: CREDIT_SCORE, dtype: int64"
      ]
     },
     "execution_count": 4,
     "metadata": {},
     "output_type": "execute_result"
    }
   ],
   "source": [
    "#see how vehicl_id is spread - Cut off less than 3 inclined to say less than 8 later\n",
    "v = drivers_df.CREDIT_SCORE.value_counts()\n",
    "drivers_df = drivers_df[drivers_df.CREDIT_SCORE.isin(v.index[v.gt(2)])]\n",
    "drivers_df.CREDIT_SCORE.value_counts()"
   ]
  },
  {
   "cell_type": "code",
   "execution_count": 5,
   "id": "a05b3b88",
   "metadata": {},
   "outputs": [
    {
     "data": {
      "text/plain": [
       "<AxesSubplot:xlabel='GENDER', ylabel='CREDIT_SCORE'>"
      ]
     },
     "execution_count": 5,
     "metadata": {},
     "output_type": "execute_result"
    },
    {
     "data": {
      "image/png": "[encoded data removed]",
      "text/plain": [
       "<Figure size 432x288 with 1 Axes>"
      ]
     },
     "metadata": {
      "needs_background": "light"
     },
     "output_type": "display_data"
    }
   ],
   "source": [
    "from matplotlib.colors import BoundaryNorm\n",
    "%matplotlib inline\n",
    "import matplotlib.pyplot as plt\n",
    "drivers_df.plot(x='GENDER', y='CREDIT_SCORE', kind='scatter')"
   ]
  },
  {
   "cell_type": "code",
   "execution_count": 6,
   "id": "33ef2e32",
   "metadata": {},
   "outputs": [
    {
     "data": {
      "text/plain": [
       "<AxesSubplot:xlabel='CREDIT_SCORE', ylabel='VEHICLE_ID'>"
      ]
     },
     "execution_count": 6,
     "metadata": {},
     "output_type": "execute_result"
    },
    {
     "data": {
      "image/png": "[encoded data removed]",
      "text/plain": [
       "<Figure size 432x288 with 1 Axes>"
      ]
     },
     "metadata": {
      "needs_background": "light"
     },
     "output_type": "display_data"
    }
   ],
   "source": [
    "from matplotlib.colors import BoundaryNorm\n",
    "%matplotlib inline\n",
    "import matplotlib.pyplot as plt\n",
    "drivers_df.plot(x='CREDIT_SCORE', y='VEHICLE_ID', kind='scatter')"
   ]
  },
  {
   "cell_type": "code",
   "execution_count": 7,
   "id": "5a39c4dd",
   "metadata": {},
   "outputs": [],
   "source": [
    "# Remove creadit score outcome target from fetures data\n",
    "y = drivers_df['CREDIT_SCORE']\n",
    "X = drivers_df.drop(columns='CREDIT_SCORE')"
   ]
  },
  {
   "cell_type": "code",
   "execution_count": null,
   "id": "6373e533",
   "metadata": {},
   "outputs": [],
   "source": []
  },
  {
   "cell_type": "code",
   "execution_count": 8,
   "id": "c6e4310c",
   "metadata": {},
   "outputs": [],
   "source": [
    "# Split the features\n",
    "X_train, X_test, y_train, y_test = train_test_split(X, y, random_state=42, stratify=y)"
   ]
  },
  {
   "cell_type": "code",
   "execution_count": 9,
   "id": "c39a7dff",
   "metadata": {},
   "outputs": [],
   "source": [
    "# Standardize - Process numerical data for neural network model\n",
    "# Create Scaler\n",
    "scaler = StandardScaler()\n",
    "#Fit\n",
    "X_scaler = scaler.fit(X_train)\n",
    "#.values.reshape(-1,1)\n",
    "# Transform \n",
    "X_train_scaled = X_scaler.transform(X_train)\n",
    "X_test_scaled = X_scaler.transform(X_test)"
   ]
  },
  {
   "cell_type": "code",
   "execution_count": 10,
   "id": "2b3fa668",
   "metadata": {},
   "outputs": [
    {
     "name": "stdout",
     "output_type": "stream",
     "text": [
      " Logistic regression model accuracy : 0.324\n"
     ]
    }
   ],
   "source": [
    "# LogisticRegression class in the linear_model\n",
    "from sklearn.linear_model import LogisticRegression\n",
    "from sklearn.metrics import accuracy_score\n",
    "# lbfgs is an algorithm for learning an doptimaizaation\n",
    "logic_classifier = LogisticRegression(solver='lbfgs', max_iter=200)\n",
    "\n",
    "# Train the model (run)\n",
    "logic_classifier.fit(X_train, y_train)\n",
    "\n",
    "# Evaluate the model\n",
    "y_pred = logic_classifier.predict(X_test)\n",
    "\n",
    "# Print the result\n",
    "print(f\" Logistic regression model accuracy : {accuracy_score(y_test, y_pred):.3f}\")"
   ]
  },
  {
   "cell_type": "code",
   "execution_count": 11,
   "id": "d68dffc3",
   "metadata": {},
   "outputs": [
    {
     "name": "stdout",
     "output_type": "stream",
     "text": [
      "[8 8 8 1 1 2 1 8 1 3 5 8 1 7 8 8 8 1 2 1 2 1 2 1 2 1 2 1 8 1 8 1 8 1 8 1 8\n",
      " 1 8 1 8 1 8 1 8 1 8 1 8 1 8 1 1 2 1 2 1 4 0 0 1 0 1 0 1 0 1 0 1 0 1 0 1 0\n",
      " 1 0 1 0 5 1 9 8 7 5 3 3 3 1 1 2 1 2 1 2 1 2 1 1 8 5 3 2 5 5 0 0 0 8 8 4 4\n",
      " 9 7 1 1 1 0 9 0 9 0 8 1 8 2 8 2 5 5 5 9 9 9 9 5 7 5 7 2 9 9 3 9 5 5 5 5 9\n",
      " 1 0 2 8 1 1 1 1 4 4 1 1 9 0 0 1 1 8 8 9 9 9 9 1 1 1 9 2 8 2 8 2 1 8 1 8 9\n",
      " 9 5 8 8 9 8 9 8 9 8 9 1 1 1 1 1 1 1 1 1 8 8 9 9 9 9 9 9 9 9 1 9 8 9 8 9 8\n",
      " 9 8 8 8 1 3 1 3 1 3 1 3 1 9 8 9 3 9 3 9 3 9 3 8 1 8 1 8 1 8 1 8 9 5 9 5 9\n",
      " 9 5 9 5 9 1 8 8 5 1 2 1 1 2 1 1 2 1 1 9 1 2 1 1 9 3 8 1 8 9 1 0 1 0 1 0 1\n",
      " 0 1 0 7 2 0 7 1 6 5 1 1 2 9 8 1 5 0 9 1 1 8 8 8 8 8 8 8 8 7 3 1 1 2 1 2 1\n",
      " 2 1 2 1 1 5 5 7 7 7 2 3 8 3 8 3 8 3 8 2 8 8 8 8 7 3 0 3 0 3 0 3 0 2 2 9 3\n",
      " 8 3 8 3 8 3 8 2 7 7 0 9 3 5 3 5 3 5 3 5 8 3 3 3 3 3 8 8 5 0 7 7 0 7 7 0 7\n",
      " 7 0 7 7 0 7 7 0 7 7 0 7 7 0 7 7 0 7 7 7 7 9 9 9 7 7 0 8 0 8 4 8 4 1 7 7 5\n",
      " 5 8 7 8 5 1 1 5 3 5 3 3 5 3 3 5 3 3 5 3 3 5 3 3 5 3 3 5 3 3 5 3 3 5 3 3 5\n",
      " 3 3 5 3 3 5 3 1 1 1 1 1 1 1 1 8 8 8 8 8 8 8 8 9 1 5 7 9 4 8 0 0 4 4 4 4 4\n",
      " 4 4 4 3 5 9 9 9 5 9 5 2 7 2 7 1 2 5 7 2 5 7 2 5 7 2 5 7 2 5 7 2 5 7 1 1 1\n",
      " 1 1 1 1 1 1 0 1 3 1 0 1 3 1 0 1 3 1 0 1 3 1 0 1 3 1 0 1 3 1 0 1 3 1 0 1 3\n",
      " 8 9 8 8 0 0 8 0 0 8 0 0 8 0 0 8 0 0 8 0 0 8 0 8 8 1 9 9 9 9 9 9 9 9 1 9 1\n",
      " 9 1 9 1 9 1 6 9 6 1 0 0 1 6 1 6 1 6 1 6 8 1 0 1 0 2 9 9 1 9 0 0 4 7 2 1 2\n",
      " 7 5 2 7 5 2 7 5 2 7 5 2 7 5 2 7 5 7 1 9 9 2 1 9 1]\n"
     ]
    }
   ],
   "source": [
    "# Using K-means\n",
    "from sklearn.cluster import KMeans\n",
    "\n",
    "km = KMeans(n_clusters=10, init='random', n_init=10, max_iter=500, tol=1e-04, random_state=0)\n",
    "y_km=km.fit_predict(X)\n",
    "print(y_km)"
   ]
  },
  {
   "cell_type": "code",
   "execution_count": 12,
   "id": "2426ef81",
   "metadata": {},
   "outputs": [],
   "source": [
    "sum_distances = []\n",
    "K = range(1, 15)\n",
    "\n",
    "for k in K:\n",
    "    km = KMeans(n_clusters=k, init='random', n_init=10, max_iter=500, tol=1e-04, random_state=0)\n",
    "    km = km.fit(X)\n",
    "    sum_distances.append(km.inertia_)\n"
   ]
  },
  {
   "cell_type": "code",
   "execution_count": 13,
   "id": "6f0194cd",
   "metadata": {},
   "outputs": [
    {
     "data": {
      "text/plain": [
       "[<matplotlib.lines.Line2D at 0x27b1a1ca9c8>]"
      ]
     },
     "execution_count": 13,
     "metadata": {},
     "output_type": "execute_result"
    },
    {
     "data": {
      "image/png": "[encoded data removed]",
      "text/plain": [
       "<Figure size 432x288 with 1 Axes>"
      ]
     },
     "metadata": {
      "needs_background": "light"
     },
     "output_type": "display_data"
    }
   ],
   "source": [
    "plt.plot(K, sum_distances)"
   ]
  },
  {
   "cell_type": "code",
   "execution_count": 14,
   "id": "efdc4ed6",
   "metadata": {},
   "outputs": [],
   "source": [
    "# let's try Feature Component Analysis\n",
    "features = drivers_df[['GENDER', 'CREDIT_SCORE', 'AGE', 'VEHICLE_ID']]\n"
   ]
  },
  {
   "cell_type": "code",
   "execution_count": 15,
   "id": "77f66992",
   "metadata": {},
   "outputs": [
    {
     "name": "stdout",
     "output_type": "stream",
     "text": [
      "MLPRegressor()\n",
      "MLPClassifier()\n"
     ]
    }
   ],
   "source": [
    "#Multilayer Perceptron: Hyperparameters ReLU - ractified Linear Unit\n",
    "# import MLPClassifier and MLPregessor from sklearn - activation(sigmoid, TanH, ReLU), \n",
    "# learning_rate (how quickly find a solution, how many steps (small or big)) and hiddenlayer_size\n",
    "from sklearn.neural_network import MLPRegressor, MLPClassifier\n",
    "print(MLPRegressor())\n",
    "print(MLPClassifier())"
   ]
  },
  {
   "cell_type": "code",
   "execution_count": 16,
   "id": "bdd2fbe1",
   "metadata": {},
   "outputs": [],
   "source": [
    "def print_results(results):\n",
    "    print('The best parameters: {}\\n'.format(results.best_params_))\n",
    "    \n",
    "    means = results.cv_results_['mean_test_score']\n",
    "    stds = results.cv_results_['std_test_score']\n",
    "    for mean, std, params in zip(means, stds, results.cv_results_['params']):\n",
    "        print('{} (+/-{}) for {}'.format(round(mean, 3), round(std *2, 3), params))"
   ]
  },
  {
   "cell_type": "code",
   "execution_count": 17,
   "id": "cf98c4a9",
   "metadata": {},
   "outputs": [
    {
     "data": {
      "text/plain": [
       "MLPClassifier(hidden_layer_sizes=(150, 100, 50), max_iter=100, random_state=1)"
      ]
     },
     "execution_count": 17,
     "metadata": {},
     "output_type": "execute_result"
    }
   ],
   "source": [
    "classifier = MLPClassifier(hidden_layer_sizes=(150,100,50), max_iter=100,activation = 'relu',solver='adam',random_state=1)\n",
    "classifier.fit(X_train, y_train)"
   ]
  },
  {
   "cell_type": "code",
   "execution_count": null,
   "id": "dbb842e1",
   "metadata": {},
   "outputs": [],
   "source": []
  },
  {
   "cell_type": "markdown",
   "id": "182e4afb",
   "metadata": {},
   "source": [
    "### What about GridSearchCV?\n",
    "It runs through all the different parameters that is fed into the parameter grid \n",
    "and produces the best combination of parameters, based on a scoring metric of your choice (accuracy, f1, etc)\n",
    "cons: process is time-consuming?"
   ]
  },
  {
   "cell_type": "code",
   "execution_count": 142,
   "id": "47681636",
   "metadata": {},
   "outputs": [
    {
     "name": "stdout",
     "output_type": "stream",
     "text": [
      "The best parameters: {'knn__leaf_size': 15, 'knn__n_neighbors': 11, 'knn__weights': 'distance'}\n",
      "\n",
      "0.568 (+/-0.073) for {'knn__leaf_size': 15, 'knn__n_neighbors': 7, 'knn__weights': 'uniform'}\n",
      "0.732 (+/-0.093) for {'knn__leaf_size': 15, 'knn__n_neighbors': 7, 'knn__weights': 'distance'}\n",
      "0.537 (+/-0.089) for {'knn__leaf_size': 15, 'knn__n_neighbors': 9, 'knn__weights': 'uniform'}\n",
      "0.73 (+/-0.095) for {'knn__leaf_size': 15, 'knn__n_neighbors': 9, 'knn__weights': 'distance'}\n",
      "0.517 (+/-0.088) for {'knn__leaf_size': 15, 'knn__n_neighbors': 11, 'knn__weights': 'uniform'}\n",
      "0.734 (+/-0.105) for {'knn__leaf_size': 15, 'knn__n_neighbors': 11, 'knn__weights': 'distance'}\n",
      "0.504 (+/-0.099) for {'knn__leaf_size': 15, 'knn__n_neighbors': 13, 'knn__weights': 'uniform'}\n",
      "0.73 (+/-0.098) for {'knn__leaf_size': 15, 'knn__n_neighbors': 13, 'knn__weights': 'distance'}\n",
      "0.568 (+/-0.073) for {'knn__leaf_size': 20, 'knn__n_neighbors': 7, 'knn__weights': 'uniform'}\n",
      "0.732 (+/-0.093) for {'knn__leaf_size': 20, 'knn__n_neighbors': 7, 'knn__weights': 'distance'}\n",
      "0.537 (+/-0.089) for {'knn__leaf_size': 20, 'knn__n_neighbors': 9, 'knn__weights': 'uniform'}\n",
      "0.73 (+/-0.095) for {'knn__leaf_size': 20, 'knn__n_neighbors': 9, 'knn__weights': 'distance'}\n",
      "0.517 (+/-0.088) for {'knn__leaf_size': 20, 'knn__n_neighbors': 11, 'knn__weights': 'uniform'}\n",
      "0.734 (+/-0.105) for {'knn__leaf_size': 20, 'knn__n_neighbors': 11, 'knn__weights': 'distance'}\n",
      "0.504 (+/-0.099) for {'knn__leaf_size': 20, 'knn__n_neighbors': 13, 'knn__weights': 'uniform'}\n",
      "0.73 (+/-0.098) for {'knn__leaf_size': 20, 'knn__n_neighbors': 13, 'knn__weights': 'distance'}\n"
     ]
    },
    {
     "data": {
      "text/plain": [
       "1.0"
      ]
     },
     "execution_count": 142,
     "metadata": {},
     "output_type": "execute_result"
    }
   ],
   "source": [
    "from sklearn.model_selection import GridSearchCV\n",
    "from sklearn.neighbors import KNeighborsClassifier\n",
    "from sklearn.pipeline import Pipeline\n",
    "from sklearn.preprocessing import MinMaxScaler\n",
    "knn_pipe = Pipeline([('mms', MinMaxScaler()),\n",
    "                     ('knn', KNeighborsClassifier())])\n",
    "params = [{'knn__n_neighbors': [7, 9, 11, 13],\n",
    "         'knn__weights': ['uniform', 'distance'],\n",
    "         'knn__leaf_size': [15, 20]}]\n",
    "gs_knn = GridSearchCV(knn_pipe,\n",
    "                      param_grid=params,\n",
    "                      scoring='accuracy',\n",
    "                      cv=5)\n",
    "gs_knn.fit(X_train, y_train)\n",
    "print_results(gs_knn)\n",
    "# find best model score\n",
    "gs_knn.score(X_train, y_train)"
   ]
  },
  {
   "cell_type": "code",
   "execution_count": null,
   "id": "6eccffae",
   "metadata": {},
   "outputs": [],
   "source": []
  },
  {
   "cell_type": "code",
   "execution_count": null,
   "id": "164c13b2",
   "metadata": {},
   "outputs": [],
   "source": []
  }
 ],
 "metadata": {
  "kernelspec": {
   "display_name": "mlenv",
   "language": "python",
   "name": "mlenv"
  },
  "language_info": {
   "codemirror_mode": {
    "name": "ipython",
    "version": 3
   },
   "file_extension": ".py",
   "mimetype": "text/x-python",
   "name": "python",
   "nbconvert_exporter": "python",
   "pygments_lexer": "ipython3",
   "version": "3.7.13"
  }
 },
 "nbformat": 4,
 "nbformat_minor": 5
}
