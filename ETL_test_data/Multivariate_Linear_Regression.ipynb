{
 "cells": [
  {
   "cell_type": "markdown",
   "id": "4e84987c",
   "metadata": {},
   "source": [
    "## Multivariate Linear Regression ?\n",
    "-  Output y is dependent on more than one independent variable\n",
    "-  Linear hyper plane is used for predict y\n",
    "- y =f(x) = b + w1x1 + w2x2 + ... wnxn = (ni=1 ~ n)wixi\n",
    "- cost function reamins the same\n",
    "\n",
    "# RANDOM FOREST, KNN - lazy learner - Choice : RANDOM FOREST\n",
    "- SVMs are another ML classifier (Logistic Regression)\n",
    "- Our aim is to create a hyper plane decision boundary between classes in the best way.\n",
    "- / best separater is Optimal Hyperplane - with maximum margin\n",
    "- Suport vertors are the points that reside closest to the hyperplan\n",
    "- influences hyper plane\n",
    "- linear + sigmoid to squash range 0 to 1 to minimize cost function.\n",
    "\n",
    "- What about non-linear? do the Kernel Trick - take a low dimensional (2D) transforms it into a higher dimensional space.\n",
    " - Decision tree Root Node branch < or >=  ---> can use multiple classes just branch more  out\n",
    "  - Root?  and How get us the boundaries?\n",
    "  - let's say 7 different credit score - data can divided to ? \n",
    "  - Use Gini initial impurity to Gini Gain Calculation \n",
    "  - Ginit = (i=1 to C) pi(1-pi) c-number of classes Pi - probability of reandomly choose element of class i\n",
    "  - e.g c = 7 p(1) = a_class_total/entire_set_total\n",
    "  - from there we split the branches into two section left and right - which will generate G = (i=1 to C) pi(1-pi) where c is\n",
    "  - each G move the split to the highest\n",
    "  \n",
    "  - KNN  - Popular ML with decent performance - it is called a lazy learner because it doesn't have a training phase\n",
    "  - It compute training data directly\n",
    "  - which makes it a non-parametric algorithm\n",
    "   - pre set value of K  and calculate K point to other point , sort the distances, choose the top row.\n",
    "   - BAD BAD - because it doesn't have the training set, we have to load all the traiing data to calculate the points.\n",
    "   - high memory usage, to aid, we scale the input data using Euclidean Distance or Cosine Distance.\n",
    "   - Large number of features, it is known as \"Curse of Dimensionality\n"
   ]
  },
  {
   "cell_type": "code",
   "execution_count": 2,
   "id": "a4b5f9a7",
   "metadata": {},
   "outputs": [
    {
     "name": "stderr",
     "output_type": "stream",
     "text": [
      "C:\\Users\\ntissk01\\Anaconda3\\envs\\mlenv\\lib\\importlib\\_bootstrap.py:219: RuntimeWarning: numpy.ndarray size changed, may indicate binary incompatibility. Expected 80 from C header, got 88 from PyObject\n",
      "  return f(*args, **kwds)\n"
     ]
    }
   ],
   "source": [
    "# Import basic necessities\n",
    "import pandas as pd\n",
    "import os\n",
    "import numpy as np\n",
    "\n",
    "import tensorflow as tf\n",
    "from tensorflow import keras\n",
    "\n",
    "from sklearn import preprocessing\n",
    "from sklearn.preprocessing import StandardScaler\n",
    "from sklearn.model_selection import train_test_split\n",
    "\n",
    "import warnings\n",
    "warnings.filterwarnings('ignore')"
   ]
  },
  {
   "cell_type": "code",
   "execution_count": 3,
   "id": "7899e297",
   "metadata": {},
   "outputs": [
    {
     "data": {
      "text/html": [
       "<div>\n",
       "<style scoped>\n",
       "    .dataframe tbody tr th:only-of-type {\n",
       "        vertical-align: middle;\n",
       "    }\n",
       "\n",
       "    .dataframe tbody tr th {\n",
       "        vertical-align: top;\n",
       "    }\n",
       "\n",
       "    .dataframe thead th {\n",
       "        text-align: right;\n",
       "    }\n",
       "</style>\n",
       "<table border=\"1\" class=\"dataframe\">\n",
       "  <thead>\n",
       "    <tr style=\"text-align: right;\">\n",
       "      <th></th>\n",
       "      <th>DRIVER_ID</th>\n",
       "      <th>GENDER</th>\n",
       "      <th>CREDIT_SCORE</th>\n",
       "      <th>AGE</th>\n",
       "      <th>VEHICLE_ID</th>\n",
       "    </tr>\n",
       "  </thead>\n",
       "  <tbody>\n",
       "    <tr>\n",
       "      <th>0</th>\n",
       "      <td>1</td>\n",
       "      <td>2.0</td>\n",
       "      <td>824</td>\n",
       "      <td>27.0</td>\n",
       "      <td>7420963</td>\n",
       "    </tr>\n",
       "    <tr>\n",
       "      <th>1</th>\n",
       "      <td>2</td>\n",
       "      <td>1.0</td>\n",
       "      <td>824</td>\n",
       "      <td>28.0</td>\n",
       "      <td>7420963</td>\n",
       "    </tr>\n",
       "    <tr>\n",
       "      <th>2</th>\n",
       "      <td>3</td>\n",
       "      <td>2.0</td>\n",
       "      <td>666</td>\n",
       "      <td>51.0</td>\n",
       "      <td>7396448</td>\n",
       "    </tr>\n",
       "    <tr>\n",
       "      <th>3</th>\n",
       "      <td>4</td>\n",
       "      <td>2.0</td>\n",
       "      <td>666</td>\n",
       "      <td>34.0</td>\n",
       "      <td>6208988</td>\n",
       "    </tr>\n",
       "    <tr>\n",
       "      <th>4</th>\n",
       "      <td>5</td>\n",
       "      <td>2.0</td>\n",
       "      <td>824</td>\n",
       "      <td>88.0</td>\n",
       "      <td>6078430</td>\n",
       "    </tr>\n",
       "  </tbody>\n",
       "</table>\n",
       "</div>"
      ],
      "text/plain": [
       "   DRIVER_ID  GENDER  CREDIT_SCORE   AGE  VEHICLE_ID\n",
       "0          1     2.0           824  27.0     7420963\n",
       "1          2     1.0           824  28.0     7420963\n",
       "2          3     2.0           666  51.0     7396448\n",
       "3          4     2.0           666  34.0     6208988\n",
       "4          5     2.0           824  88.0     6078430"
      ]
     },
     "execution_count": 3,
     "metadata": {},
     "output_type": "execute_result"
    }
   ],
   "source": [
    "drivers_df = pd.read_csv(\"ready_db/drviers.csv\")\n",
    "drivers_df.head()"
   ]
  },
  {
   "cell_type": "code",
   "execution_count": 4,
   "id": "a532d260",
   "metadata": {},
   "outputs": [
    {
     "data": {
      "text/html": [
       "<div>\n",
       "<style scoped>\n",
       "    .dataframe tbody tr th:only-of-type {\n",
       "        vertical-align: middle;\n",
       "    }\n",
       "\n",
       "    .dataframe tbody tr th {\n",
       "        vertical-align: top;\n",
       "    }\n",
       "\n",
       "    .dataframe thead th {\n",
       "        text-align: right;\n",
       "    }\n",
       "</style>\n",
       "<table border=\"1\" class=\"dataframe\">\n",
       "  <thead>\n",
       "    <tr style=\"text-align: right;\">\n",
       "      <th></th>\n",
       "      <th>GENDER</th>\n",
       "      <th>CREDIT_SCORE</th>\n",
       "      <th>AGE</th>\n",
       "      <th>VEHICLE_ID</th>\n",
       "    </tr>\n",
       "  </thead>\n",
       "  <tbody>\n",
       "    <tr>\n",
       "      <th>0</th>\n",
       "      <td>2.0</td>\n",
       "      <td>824</td>\n",
       "      <td>27.0</td>\n",
       "      <td>7420963</td>\n",
       "    </tr>\n",
       "    <tr>\n",
       "      <th>1</th>\n",
       "      <td>1.0</td>\n",
       "      <td>824</td>\n",
       "      <td>28.0</td>\n",
       "      <td>7420963</td>\n",
       "    </tr>\n",
       "    <tr>\n",
       "      <th>2</th>\n",
       "      <td>2.0</td>\n",
       "      <td>666</td>\n",
       "      <td>51.0</td>\n",
       "      <td>7396448</td>\n",
       "    </tr>\n",
       "    <tr>\n",
       "      <th>3</th>\n",
       "      <td>2.0</td>\n",
       "      <td>666</td>\n",
       "      <td>34.0</td>\n",
       "      <td>6208988</td>\n",
       "    </tr>\n",
       "    <tr>\n",
       "      <th>4</th>\n",
       "      <td>2.0</td>\n",
       "      <td>824</td>\n",
       "      <td>88.0</td>\n",
       "      <td>6078430</td>\n",
       "    </tr>\n",
       "  </tbody>\n",
       "</table>\n",
       "</div>"
      ],
      "text/plain": [
       "   GENDER  CREDIT_SCORE   AGE  VEHICLE_ID\n",
       "0     2.0           824  27.0     7420963\n",
       "1     1.0           824  28.0     7420963\n",
       "2     2.0           666  51.0     7396448\n",
       "3     2.0           666  34.0     6208988\n",
       "4     2.0           824  88.0     6078430"
      ]
     },
     "execution_count": 4,
     "metadata": {},
     "output_type": "execute_result"
    }
   ],
   "source": [
    "#drop only index colum which is Driver id\n",
    "drivers_df = drivers_df.dropna()\n",
    "drivers_df = drivers_df.drop(columns='DRIVER_ID')\n",
    "drivers_df.head()"
   ]
  },
  {
   "cell_type": "code",
   "execution_count": 5,
   "id": "7a6689ec",
   "metadata": {},
   "outputs": [],
   "source": [
    "# Remove creadit score outcome target from fetures data\n",
    "y = drivers_df['CREDIT_SCORE']\n",
    "X = drivers_df.drop(columns='CREDIT_SCORE')\n",
    "\n",
    "from sklearn.linear_model import LinearRegression\n",
    "X_train, X_test, y_train, y_test = train_test_split(X, y, test_size=0.25, random_state=0)"
   ]
  },
  {
   "cell_type": "code",
   "execution_count": 6,
   "id": "cabf0c4f",
   "metadata": {},
   "outputs": [
    {
     "data": {
      "text/plain": [
       "LinearRegression()"
      ]
     },
     "execution_count": 6,
     "metadata": {},
     "output_type": "execute_result"
    }
   ],
   "source": [
    "# Fitting Polynomial Regression to the data set\n",
    "from sklearn.linear_model import LinearRegression\n",
    "from sklearn.metrics import mean_squared_error\n",
    "import matplotlib.pyplot as plt\n",
    "\n",
    "model = LinearRegression()\n",
    "model.fit(X_train, y_train)"
   ]
  },
  {
   "cell_type": "code",
   "execution_count": 7,
   "id": "e1e57693",
   "metadata": {},
   "outputs": [],
   "source": [
    "# Setup the first data as input\n",
    "test_data = np.array([1,27,7420963])\n",
    "test_data = test_data.reshape(-1, 3)\n",
    "test_data = test_data.astype(float)"
   ]
  },
  {
   "cell_type": "code",
   "execution_count": 8,
   "id": "2f5b4d91",
   "metadata": {},
   "outputs": [
    {
     "data": {
      "text/plain": [
       "768.040832355666"
      ]
     },
     "execution_count": 8,
     "metadata": {},
     "output_type": "execute_result"
    }
   ],
   "source": [
    "# Try the first data outcome - actual score is 824 - a bit off\n",
    "model.predict(test_data)[0]"
   ]
  },
  {
   "cell_type": "code",
   "execution_count": 10,
   "id": "3663f701",
   "metadata": {},
   "outputs": [],
   "source": [
    "# Fitting KNN, RF, run Classification Report\n",
    "from sklearn.linear_model import LogisticRegression\n",
    "from sklearn.ensemble import RandomForestClassifier\n",
    "from sklearn.neighbors import KNeighborsClassifier\n",
    "from sklearn.svm import SVC\n",
    "\n",
    "from sklearn.metrics import classification_report\n",
    "from sklearn.metrics import confusion_matrix\n",
    "from sklearn.metrics import accuracy_score"
   ]
  },
  {
   "cell_type": "code",
   "execution_count": 11,
   "id": "75754186",
   "metadata": {},
   "outputs": [
    {
     "name": "stdout",
     "output_type": "stream",
     "text": [
      "0.26373626373626374\n",
      "[[ 0  0  0  0  0  0  0  0  0  0  0  0  0  0  0  0]\n",
      " [ 0  0  0  0  0  0  0  0  0  0  0  0  0  0  0  0]\n",
      " [ 0  0  0  0  0  0  0  0  0  0  0  0  0  0  0  0]\n",
      " [ 0  0  0  0  0  0  0  0  0  0  0  0  0  0  0  0]\n",
      " [ 0  0  0  0  0  0  0  0  0  0  0  0  0  0  0  0]\n",
      " [ 0  0  0  0  0  0  0  0  0  0  0  0  0  0  0  0]\n",
      " [ 0  0  0  0  0  0  0  0  0  0  0  0  0  0  0  0]\n",
      " [ 0  0  0  0  0  0  0  0  0  0  0  0  0  0  0  0]\n",
      " [ 0  0  0  0  0  0  0  0  0  0  0  0  0  0  0  0]\n",
      " [ 0  0  0  0  0  0  0  0  0  0  0  0  0  0  0  0]\n",
      " [ 0  0  0  0  0  0  0  0  0  0  0  0  0  0  0  0]\n",
      " [ 1  1  1  1  1  3  1  1  1 33  1 48  8  1 54 26]\n",
      " [ 0  0  0  0  0  0  0  0  0  0  0  0  0  0  0  0]\n",
      " [ 0  0  0  0  0  0  0  0  0  0  0  0  0  0  0  0]\n",
      " [ 0  0  0  0  0  0  0  0  0  0  0  0  0  0  0  0]\n",
      " [ 0  0  0  0  0  0  0  0  0  0  0  0  0  0  0  0]]\n",
      "              precision    recall  f1-score   support\n",
      "\n",
      "         321       0.00      0.00      0.00         0\n",
      "         392       0.00      0.00      0.00         0\n",
      "         395       0.00      0.00      0.00         0\n",
      "         405       0.00      0.00      0.00         0\n",
      "         430       0.00      0.00      0.00         0\n",
      "         454       0.00      0.00      0.00         0\n",
      "         546       0.00      0.00      0.00         0\n",
      "         613       0.00      0.00      0.00         0\n",
      "         654       0.00      0.00      0.00         0\n",
      "         666       0.00      0.00      0.00         0\n",
      "         683       0.00      0.00      0.00         0\n",
      "         750       1.00      0.26      0.42       182\n",
      "         768       0.00      0.00      0.00         0\n",
      "         791       0.00      0.00      0.00         0\n",
      "         824       0.00      0.00      0.00         0\n",
      "         847       0.00      0.00      0.00         0\n",
      "\n",
      "    accuracy                           0.26       182\n",
      "   macro avg       0.06      0.02      0.03       182\n",
      "weighted avg       1.00      0.26      0.42       182\n",
      "\n"
     ]
    }
   ],
   "source": [
    "# 26 % isn't good - NO !!!!!!\n",
    "LR_clf = LogisticRegression()\n",
    "LR_model = LR_clf.fit(X_train, y_train)\n",
    "LR_prediction = LR_clf.predict(X_test)\n",
    "print(accuracy_score(LR_prediction, y_test))\n",
    "print(confusion_matrix(LR_prediction, y_test))\n",
    "print(classification_report(LR_prediction, y_test))"
   ]
  },
  {
   "cell_type": "code",
   "execution_count": 12,
   "id": "6350b54e",
   "metadata": {},
   "outputs": [
    {
     "name": "stdout",
     "output_type": "stream",
     "text": [
      "0.6263736263736264\n",
      "[[ 0  0  0  0  0  0  0  0  0  0  0  0  0  0  0  0  0  0  0]\n",
      " [ 0  0  0  0  0  0  0  0  0  0  0  0  0  0  0  0  0  0  0]\n",
      " [ 0  0  1  0  0  0  0  0  0  0  0  0  0  0  0  0  0  0  0]\n",
      " [ 0  0  0  0  0  0  0  0  0  0  0  0  0  0  0  0  0  0  0]\n",
      " [ 0  0  0  0  0  0  0  0  0  0  0  0  0  0  0  0  0  0  0]\n",
      " [ 0  1  0  0  0  0  0  0  0  0  0  0  0  0  0  0  0  0  0]\n",
      " [ 0  0  0  0  0  0  1  0  0  0  0  0  0  0  0  0  0  0  0]\n",
      " [ 0  0  0  0  0  0  0  0  0  0  0  0  0  0  0  0  0  0  0]\n",
      " [ 0  0  0  0  0  0  0  0  0  0  0  0  0  0  0  0  0  0  0]\n",
      " [ 0  0  0  0  0  0  0  0  1  0  0  0  0  0  0  0  0  0  0]\n",
      " [ 0  0  0  0  0  0  0  0  0  0  1  0  0  0  0  0  0  0  0]\n",
      " [ 0  0  0  1  0  0  0  1  0  0  0 17  1  8  3  1  9  0  3]\n",
      " [ 0  0  0  0  0  0  0  0  0  0  0  0  0  0  0  0  0  0  0]\n",
      " [ 1  0  0  0  0  0  2  0  0  0  0  9  0 37  0  0 12  0  1]\n",
      " [ 0  0  0  0  0  0  0  0  0  0  0  0  0  0  3  0  0  0  0]\n",
      " [ 0  0  0  0  0  0  0  0  0  0  0  0  0  0  0  0  0  0  0]\n",
      " [ 0  0  0  0  0  0  0  0  0  0  0  7  0  3  2  0 33  0  1]\n",
      " [ 0  0  0  0  1  0  0  0  0  0  0  0  0  0  0  0  0  0  0]\n",
      " [ 0  0  0  0  0  0  0  0  0  0  0  0  0  0  0  0  0  0 21]]\n",
      "              precision    recall  f1-score   support\n",
      "\n",
      "         321       0.00      0.00      0.00         0\n",
      "         392       0.00      0.00      0.00         0\n",
      "         395       1.00      1.00      1.00         1\n",
      "         405       0.00      0.00      0.00         0\n",
      "         430       0.00      0.00      0.00         0\n",
      "         440       0.00      0.00      0.00         1\n",
      "         454       0.33      1.00      0.50         1\n",
      "         546       0.00      0.00      0.00         0\n",
      "         613       0.00      0.00      0.00         0\n",
      "         626       0.00      0.00      0.00         1\n",
      "         654       1.00      1.00      1.00         1\n",
      "         666       0.52      0.39      0.44        44\n",
      "         683       0.00      0.00      0.00         0\n",
      "         750       0.77      0.60      0.67        62\n",
      "         768       0.38      1.00      0.55         3\n",
      "         791       0.00      0.00      0.00         0\n",
      "         824       0.61      0.72      0.66        46\n",
      "         838       0.00      0.00      0.00         1\n",
      "         847       0.81      1.00      0.89        21\n",
      "\n",
      "    accuracy                           0.63       182\n",
      "   macro avg       0.28      0.35      0.30       182\n",
      "weighted avg       0.65      0.63      0.63       182\n",
      "\n"
     ]
    }
   ],
   "source": [
    "# BINGO!!!!!!!!!!!!!!\n",
    "RF_clf = RandomForestClassifier()\n",
    "RF_model = RF_clf.fit(X_train, y_train)\n",
    "RF_prediction = RF_clf.predict(X_test)\n",
    "print(accuracy_score(RF_prediction, y_test))\n",
    "print(confusion_matrix(RF_prediction, y_test))\n",
    "print(classification_report(RF_prediction, y_test))"
   ]
  },
  {
   "cell_type": "code",
   "execution_count": 14,
   "id": "45a3c0f7",
   "metadata": {},
   "outputs": [
    {
     "name": "stdout",
     "output_type": "stream",
     "text": [
      "0.26373626373626374\n",
      "[[ 0  0  0  0  0  0  0  0  0  0  0  0  0  0  0  0  0]\n",
      " [ 0  0  0  0  0  0  0  0  0  0  0  0  0  0  0  0  0]\n",
      " [ 0  0  0  0  0  0  0  0  0  0  0  0  0  0  0  0  0]\n",
      " [ 0  0  0  0  0  0  0  0  0  0  0  0  0  0  0  0  0]\n",
      " [ 0  0  0  0  0  0  0  0  0  0  0  0  0  0  0  0  0]\n",
      " [ 0  0  0  0  0  0  0  0  0  0  0  0  0  0  0  0  0]\n",
      " [ 0  0  0  0  0  0  0  0  0  0  0  0  0  0  0  0  0]\n",
      " [ 0  0  0  0  0  0  0  0  0  0  0  0  0  0  0  0  0]\n",
      " [ 1  1  0  0  1  0  0  1  0  0  0  0  0  0  0  0  0]\n",
      " [ 0  0  0  0  0  0  0  0  0  0  0  0  0  0  0  0  0]\n",
      " [ 0  0  0  0  0  0  0  0  0  0  0  0  0  0  0  1  0]\n",
      " [ 0  0  0  0  0  0  0  0  0  0  0  0  0  0  0  0  0]\n",
      " [ 0  0  1  1  0  3  1  0  0  1 33  1 48  8  1 53 26]\n",
      " [ 0  0  0  0  0  0  0  0  0  0  0  0  0  0  0  0  0]\n",
      " [ 0  0  0  0  0  0  0  0  0  0  0  0  0  0  0  0  0]\n",
      " [ 0  0  0  0  0  0  0  0  0  0  0  0  0  0  0  0  0]\n",
      " [ 0  0  0  0  0  0  0  0  0  0  0  0  0  0  0  0  0]]\n",
      "              precision    recall  f1-score   support\n",
      "\n",
      "         321       0.00      0.00      0.00         0\n",
      "         392       0.00      0.00      0.00         0\n",
      "         395       0.00      0.00      0.00         0\n",
      "         405       0.00      0.00      0.00         0\n",
      "         430       0.00      0.00      0.00         0\n",
      "         454       0.00      0.00      0.00         0\n",
      "         546       0.00      0.00      0.00         0\n",
      "         613       0.00      0.00      0.00         0\n",
      "         619       0.00      0.00      0.00         4\n",
      "         654       0.00      0.00      0.00         0\n",
      "         666       0.00      0.00      0.00         1\n",
      "         683       0.00      0.00      0.00         0\n",
      "         750       1.00      0.27      0.43       177\n",
      "         768       0.00      0.00      0.00         0\n",
      "         791       0.00      0.00      0.00         0\n",
      "         824       0.00      0.00      0.00         0\n",
      "         847       0.00      0.00      0.00         0\n",
      "\n",
      "    accuracy                           0.26       182\n",
      "   macro avg       0.06      0.02      0.03       182\n",
      "weighted avg       0.97      0.26      0.41       182\n",
      "\n"
     ]
    }
   ],
   "source": [
    "# Similar to Logistic\n",
    "SVM_clf = SVC()\n",
    "SVM_model = SVM_clf.fit(X_train, y_train)\n",
    "SVM_prediction = SVM_clf.predict(X_test)\n",
    "print(accuracy_score(SVM_prediction, y_test))\n",
    "print(confusion_matrix(SVM_prediction, y_test))\n",
    "print(classification_report(SVM_prediction, y_test))"
   ]
  },
  {
   "cell_type": "code",
   "execution_count": 15,
   "id": "5c46c552",
   "metadata": {},
   "outputs": [
    {
     "name": "stdout",
     "output_type": "stream",
     "text": [
      "0.6153846153846154\n",
      "[[ 0  0  0  0  0  0  0  0  0  0  0  0  0  0  0  0  0  0  0  0]\n",
      " [ 1  0  0  0  0  0  0  0  0  0  0  0  0  0  0  0  0  0  0  0]\n",
      " [ 0  0  0  0  0  0  0  0  0  0  0  0  0  0  0  0  0  0  0  0]\n",
      " [ 0  0  0  1  0  0  0  0  0  0  0  0  0  1  0  0  0  0  0  0]\n",
      " [ 0  0  0  0  0  0  0  0  0  0  0  0  0  0  0  0  0  0  0  0]\n",
      " [ 0  0  0  0  0  0  0  0  0  0  0  0  0  0  0  0  0  0  1  0]\n",
      " [ 0  0  0  0  0  0  0  0  0  0  0  0  0  0  0  0  0  0  0  0]\n",
      " [ 0  0  0  0  0  0  1  0  0  0  1  0  0  0  0  0  0  0  0  0]\n",
      " [ 0  0  0  0  0  0  0  0  0  0  0  0  0  0  0  0  0  0  0  0]\n",
      " [ 0  0  0  0  0  0  0  0  0  0  0  0  0  0  0  0  0  0  0  0]\n",
      " [ 0  0  0  0  0  0  0  0  0  0  0  0  0  0  0  0  0  0  0  0]\n",
      " [ 0  0  1  0  0  0  0  0  0  0  0  0  0  0  0  0  0  0  0  0]\n",
      " [ 0  0  0  0  0  0  0  0  0  0  0  0  1  0  0  0  0  0  0  0]\n",
      " [ 0  0  0  0  1  0  0  0  3  0  0  0  0 19  0  8  4  1 12  0]\n",
      " [ 0  0  0  0  0  0  0  0  0  0  0  0  0  0  0  0  0  0  0  0]\n",
      " [ 0  0  0  0  0  0  0  0  0  1  0  0  0  9  1 33  3  0 10  0]\n",
      " [ 0  0  0  0  0  0  0  0  0  0  0  0  0  1  0  0  1  0  0  0]\n",
      " [ 0  0  0  0  0  0  0  0  0  0  0  0  0  0  0  0  0  0  0  0]\n",
      " [ 0  0  0  0  0  0  0  0  0  0  0  0  0  3  0  7  0  0 31  0]\n",
      " [ 0  0  0  0  0  0  0  0  0  0  0  0  0  0  0  0  0  0  0 26]]\n",
      "              precision    recall  f1-score   support\n",
      "\n",
      "         321       0.00      0.00      0.00         0\n",
      "         374       0.00      0.00      0.00         1\n",
      "         392       0.00      0.00      0.00         0\n",
      "         395       1.00      0.50      0.67         2\n",
      "         405       0.00      0.00      0.00         0\n",
      "         428       0.00      0.00      0.00         1\n",
      "         430       0.00      0.00      0.00         0\n",
      "         440       0.00      0.00      0.00         2\n",
      "         454       0.00      0.00      0.00         0\n",
      "         546       0.00      0.00      0.00         0\n",
      "         613       0.00      0.00      0.00         0\n",
      "         619       0.00      0.00      0.00         1\n",
      "         654       1.00      1.00      1.00         1\n",
      "         666       0.58      0.40      0.47        48\n",
      "         683       0.00      0.00      0.00         0\n",
      "         750       0.69      0.58      0.63        57\n",
      "         768       0.12      0.50      0.20         2\n",
      "         791       0.00      0.00      0.00         0\n",
      "         824       0.57      0.76      0.65        41\n",
      "         847       1.00      1.00      1.00        26\n",
      "\n",
      "    accuracy                           0.62       182\n",
      "   macro avg       0.25      0.24      0.23       182\n",
      "weighted avg       0.66      0.62      0.63       182\n",
      "\n"
     ]
    }
   ],
   "source": [
    "# Similar to Random Forest\n",
    "KNN_clf = KNeighborsClassifier()\n",
    "KNN_model = KNN_clf.fit(X_train, y_train)\n",
    "KNN_prediction = KNN_clf.predict(X_test)\n",
    "print(accuracy_score(KNN_prediction, y_test))\n",
    "print(confusion_matrix(KNN_prediction, y_test))\n",
    "print(classification_report(KNN_prediction, y_test))\n"
   ]
  },
  {
   "cell_type": "code",
   "execution_count": null,
   "id": "fa8a2d97",
   "metadata": {},
   "outputs": [],
   "source": []
  }
 ],
 "metadata": {
  "kernelspec": {
   "display_name": "mlenv",
   "language": "python",
   "name": "mlenv"
  },
  "language_info": {
   "codemirror_mode": {
    "name": "ipython",
    "version": 3
   },
   "file_extension": ".py",
   "mimetype": "text/x-python",
   "name": "python",
   "nbconvert_exporter": "python",
   "pygments_lexer": "ipython3",
   "version": "3.7.13"
  }
 },
 "nbformat": 4,
 "nbformat_minor": 5
}
