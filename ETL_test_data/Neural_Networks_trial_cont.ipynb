{
 "cells": [
  {
   "cell_type": "markdown",
   "id": "4e84987c",
   "metadata": {},
   "source": [
    "## What are Neural Networks ?\n",
    "-  Act as \"Black box\" or \"Brain\" to predict\n",
    "-  Better than traditional?  - it learns complex non-linear mappings to produce far more accurate output\n",
    "- Used Image recognition\n",
    "- Input layer -> Hidden Layer -> Output Layer  - A deep nural networks\n",
    "-  Will try CNNs, RNNs and LSTMs\n",
    "    - Feed Foward NN \n",
    "    - Convolutional NN - (CNN) -> Don't  scale images \n",
    "        input = tree, each pixel coord is a value RBG (3 co-variables) such as 64X64 represents 64X64X3 which is 12,288.\n",
    "        CNN use a  3D Valume Arrangement for its Neurons height, width, depth(RGB) for a pixel put it in (Convolution (2 or more function to output one function) + ReLU)\n",
    "    - Recurrent NN (RNN) -> Feed Foward NN hae no concept of time, each classificaiton i sdone only on the current input.\n",
    "        current mean (previous + now) therefore same input can produce different output depending on history which means history is short, then have difficult to produce output or ouput seleciton is much larger, confused which one to be correct. _> Vanishing gradient / Exploding Gradient\n",
    "    - Long Short Term Memory Networks (LSTM)\n",
    "    To solve RNN -> Trying to solve RNN, introducing a memory unit (cell), long-term dependencies, remembering info as time goes\n",
    "        \n",
    "        \n",
    "### BINGO!!! - agreegated together because of certain similarities - definitley need to explore here!"
   ]
  },
  {
   "cell_type": "markdown",
   "id": "87919633",
   "metadata": {},
   "source": [
    "## Clustering Algorithms\n",
    "continue tomorrow - https://amfam.udemy.com/course/the-data-analyst-bootcamp/learn/lecture/17480222#overview\n",
    "- K-means clustering\n",
    "    - choose K (centroid) via Silhouette Method or Elbow (Was K = 4)\n",
    "    - Understand the data domain\n",
    "    - Set initial centroid and nearest distance, then move centroid repeat that again\n",
    "    - simple, scales to large data set - guarantees cnvergence\n",
    "    - easily adapts to new examples and generalize differnt shapes\n",
    "    - disadvantage - adopt new key adopting new data set and difficulties varing sizes and  density\n",
    "    - doesn't scale well large dementions (PCA can help)\n",
    "    - doesn't work well with categoris like fruit (too many categories below it (elbow method can help).\n",
    "    \n",
    "    - What is then silhouette method?\n",
    "        - A method of validating the consistency withing cllsters of data\n",
    "        - The thechniuqe provides a succinct graphical rep how each object has been classified\n",
    "        - Shilhouette coefficient is close to +1 inidcates the point is far (good??? because there is distinction between clusters), close to 0 indicates point is near(bad?? no distinction between clusters) S(i) coefficient = (b(i)-a(i) / max(b(i), a(i) - define mean(a(i)) and closest cluster (b(i)) \n",
    "        - Higher coefficient value indicates clear distiction between categories.\n",
    "        \n",
    "- Agglomerative Hierachical Clustering\n",
    "- Mean-Shift Clustering\n",
    "- DBSCAN(Density-Based Spatial Clustering of Applications with Noise)\n",
    "- Expectation-Maximization(EM) -> Using Gaussian Mixture Models(GMM)"
   ]
  },
  {
   "cell_type": "code",
   "execution_count": 23,
   "id": "a4b5f9a7",
   "metadata": {},
   "outputs": [],
   "source": [
    "# Import basic necessities\n",
    "import pandas as pd\n",
    "import os\n",
    "import numpy as np\n",
    "\n",
    "import tensorflow as tf\n",
    "from tensorflow import keras\n",
    "\n",
    "from sklearn import preprocessing\n",
    "from sklearn.preprocessing import StandardScaler\n",
    "from sklearn.model_selection import train_test_split\n",
    "\n",
    "import warnings\n",
    "warnings.filterwarnings('ignore')"
   ]
  },
  {
   "cell_type": "code",
   "execution_count": 24,
   "id": "7899e297",
   "metadata": {},
   "outputs": [
    {
     "data": {
      "text/html": [
       "<div>\n",
       "<style scoped>\n",
       "    .dataframe tbody tr th:only-of-type {\n",
       "        vertical-align: middle;\n",
       "    }\n",
       "\n",
       "    .dataframe tbody tr th {\n",
       "        vertical-align: top;\n",
       "    }\n",
       "\n",
       "    .dataframe thead th {\n",
       "        text-align: right;\n",
       "    }\n",
       "</style>\n",
       "<table border=\"1\" class=\"dataframe\">\n",
       "  <thead>\n",
       "    <tr style=\"text-align: right;\">\n",
       "      <th></th>\n",
       "      <th>DRIVER_ID</th>\n",
       "      <th>GENDER</th>\n",
       "      <th>CREDIT_SCORE</th>\n",
       "      <th>AGE</th>\n",
       "      <th>VEHICLE_ID</th>\n",
       "    </tr>\n",
       "  </thead>\n",
       "  <tbody>\n",
       "    <tr>\n",
       "      <th>0</th>\n",
       "      <td>1</td>\n",
       "      <td>2.0</td>\n",
       "      <td>824</td>\n",
       "      <td>27.0</td>\n",
       "      <td>7420963</td>\n",
       "    </tr>\n",
       "    <tr>\n",
       "      <th>1</th>\n",
       "      <td>2</td>\n",
       "      <td>1.0</td>\n",
       "      <td>824</td>\n",
       "      <td>28.0</td>\n",
       "      <td>7420963</td>\n",
       "    </tr>\n",
       "    <tr>\n",
       "      <th>2</th>\n",
       "      <td>3</td>\n",
       "      <td>2.0</td>\n",
       "      <td>666</td>\n",
       "      <td>51.0</td>\n",
       "      <td>7396448</td>\n",
       "    </tr>\n",
       "    <tr>\n",
       "      <th>3</th>\n",
       "      <td>4</td>\n",
       "      <td>2.0</td>\n",
       "      <td>666</td>\n",
       "      <td>34.0</td>\n",
       "      <td>6208988</td>\n",
       "    </tr>\n",
       "    <tr>\n",
       "      <th>4</th>\n",
       "      <td>5</td>\n",
       "      <td>2.0</td>\n",
       "      <td>824</td>\n",
       "      <td>88.0</td>\n",
       "      <td>6078430</td>\n",
       "    </tr>\n",
       "  </tbody>\n",
       "</table>\n",
       "</div>"
      ],
      "text/plain": [
       "   DRIVER_ID  GENDER  CREDIT_SCORE   AGE  VEHICLE_ID\n",
       "0          1     2.0           824  27.0     7420963\n",
       "1          2     1.0           824  28.0     7420963\n",
       "2          3     2.0           666  51.0     7396448\n",
       "3          4     2.0           666  34.0     6208988\n",
       "4          5     2.0           824  88.0     6078430"
      ]
     },
     "execution_count": 24,
     "metadata": {},
     "output_type": "execute_result"
    }
   ],
   "source": [
    "drivers_df = pd.read_csv(\"ready_db/drviers.csv\")\n",
    "drivers_df.head()"
   ]
  },
  {
   "cell_type": "code",
   "execution_count": 25,
   "id": "a532d260",
   "metadata": {},
   "outputs": [
    {
     "data": {
      "text/html": [
       "<div>\n",
       "<style scoped>\n",
       "    .dataframe tbody tr th:only-of-type {\n",
       "        vertical-align: middle;\n",
       "    }\n",
       "\n",
       "    .dataframe tbody tr th {\n",
       "        vertical-align: top;\n",
       "    }\n",
       "\n",
       "    .dataframe thead th {\n",
       "        text-align: right;\n",
       "    }\n",
       "</style>\n",
       "<table border=\"1\" class=\"dataframe\">\n",
       "  <thead>\n",
       "    <tr style=\"text-align: right;\">\n",
       "      <th></th>\n",
       "      <th>GENDER</th>\n",
       "      <th>CREDIT_SCORE</th>\n",
       "      <th>AGE</th>\n",
       "      <th>VEHICLE_ID</th>\n",
       "    </tr>\n",
       "  </thead>\n",
       "  <tbody>\n",
       "    <tr>\n",
       "      <th>0</th>\n",
       "      <td>2.0</td>\n",
       "      <td>824</td>\n",
       "      <td>27.0</td>\n",
       "      <td>7420963</td>\n",
       "    </tr>\n",
       "    <tr>\n",
       "      <th>1</th>\n",
       "      <td>1.0</td>\n",
       "      <td>824</td>\n",
       "      <td>28.0</td>\n",
       "      <td>7420963</td>\n",
       "    </tr>\n",
       "    <tr>\n",
       "      <th>2</th>\n",
       "      <td>2.0</td>\n",
       "      <td>666</td>\n",
       "      <td>51.0</td>\n",
       "      <td>7396448</td>\n",
       "    </tr>\n",
       "    <tr>\n",
       "      <th>3</th>\n",
       "      <td>2.0</td>\n",
       "      <td>666</td>\n",
       "      <td>34.0</td>\n",
       "      <td>6208988</td>\n",
       "    </tr>\n",
       "    <tr>\n",
       "      <th>4</th>\n",
       "      <td>2.0</td>\n",
       "      <td>824</td>\n",
       "      <td>88.0</td>\n",
       "      <td>6078430</td>\n",
       "    </tr>\n",
       "  </tbody>\n",
       "</table>\n",
       "</div>"
      ],
      "text/plain": [
       "   GENDER  CREDIT_SCORE   AGE  VEHICLE_ID\n",
       "0     2.0           824  27.0     7420963\n",
       "1     1.0           824  28.0     7420963\n",
       "2     2.0           666  51.0     7396448\n",
       "3     2.0           666  34.0     6208988\n",
       "4     2.0           824  88.0     6078430"
      ]
     },
     "execution_count": 25,
     "metadata": {},
     "output_type": "execute_result"
    }
   ],
   "source": [
    "#drop only index colum which is Driver id\n",
    "drivers_df = drivers_df.dropna()\n",
    "drivers_df = drivers_df.drop(columns='DRIVER_ID')\n",
    "drivers_df.head()"
   ]
  },
  {
   "cell_type": "code",
   "execution_count": 51,
   "id": "7a6689ec",
   "metadata": {},
   "outputs": [
    {
     "data": {
      "text/plain": [
       "array([3, 3, 3, 1, 1, 2, 1, 3, 1, 2, 2, 3, 1, 3, 3, 3, 3, 1, 2, 1, 2, 1,\n",
       "       2, 1, 2, 1, 2, 1, 3, 1, 3, 1, 3, 1, 3, 1, 3, 1, 3, 1, 3, 1, 3, 1,\n",
       "       3, 1, 3, 1, 3, 1, 3, 1, 1, 2, 1, 2, 1, 3, 3, 3, 1, 2, 2, 3, 1, 3,\n",
       "       1, 3, 1, 3, 1, 3, 1, 3, 1, 3, 1, 3, 1, 3, 2, 1, 2, 3, 3, 2, 2, 2,\n",
       "       2, 1, 1, 2, 1, 2, 1, 2, 1, 2, 1, 1, 3, 2, 2, 2, 2, 2, 3, 3, 3, 3,\n",
       "       3, 3, 3, 2, 3, 1, 1, 1, 3, 2, 3, 2, 3, 3, 1, 3, 2, 3, 2, 2, 2, 2,\n",
       "       2, 2, 2, 2, 2, 3, 2, 3, 2, 2, 2, 2, 2, 2, 2, 2, 2, 2, 1, 3, 1, 3,\n",
       "       1, 1, 1, 1, 3, 3, 1, 1, 2, 3, 3, 1, 1, 3, 3, 2, 2, 2, 2, 1, 1, 1,\n",
       "       2, 2, 3, 2, 3, 2, 1, 3, 1, 3, 2, 2, 2, 3, 3, 2, 3, 2, 3, 2, 3, 2,\n",
       "       1, 1, 1, 1, 1, 1, 1, 1, 1, 3, 3, 2, 2, 2, 2, 2, 2, 2, 2, 1, 2, 3,\n",
       "       2, 3, 2, 3, 2, 3, 3, 3, 1, 2, 1, 2, 1, 2, 1, 2, 1, 2, 3, 2, 2, 2,\n",
       "       2, 2, 2, 2, 2, 3, 1, 3, 1, 3, 1, 3, 1, 3, 2, 2, 2, 2, 2, 2, 2, 2,\n",
       "       2, 2, 1, 3, 3, 0, 2, 1, 2, 1, 1, 2, 1, 1, 2, 1, 1, 2, 1, 2, 1, 1,\n",
       "       2, 2, 3, 1, 3, 2, 1, 3, 1, 3, 1, 3, 1, 3, 1, 3, 3, 3, 2, 3, 3, 1,\n",
       "       0, 2, 1, 1, 2, 1, 2, 3, 1, 2, 3, 2, 0, 1, 1, 3, 3, 3, 3, 3, 3, 3,\n",
       "       3, 3, 2, 1, 1, 1, 1, 1, 1, 1, 1, 1, 1, 1, 2, 2, 3, 3, 3, 2, 2, 3,\n",
       "       2, 3, 2, 3, 2, 3, 2, 2, 3, 3, 3, 3, 3, 2, 3, 2, 3, 2, 3, 2, 3, 2,\n",
       "       2, 2, 2, 3, 2, 3, 2, 3, 2, 3, 2, 3, 3, 3, 0, 2, 0, 2, 2, 2, 2, 2,\n",
       "       2, 2, 2, 3, 2, 2, 2, 2, 2, 2, 3, 3, 2, 3, 3, 3, 3, 3, 3, 3, 3, 3,\n",
       "       3, 3, 3, 3, 3, 3, 3, 3, 3, 3, 3, 3, 3, 3, 3, 3, 3, 3, 3, 3, 2, 2,\n",
       "       2, 3, 3, 3, 1, 1, 3, 3, 2, 3, 2, 3, 3, 1, 3, 3, 2, 2, 3, 3, 3, 2,\n",
       "       0, 1, 1, 2, 2, 2, 2, 2, 2, 2, 2, 2, 2, 2, 2, 2, 2, 2, 2, 2, 2, 2,\n",
       "       2, 2, 2, 2, 2, 2, 2, 2, 2, 2, 2, 2, 2, 2, 2, 2, 2, 2, 1, 1, 1, 1,\n",
       "       1, 1, 1, 1, 3, 3, 3, 3, 3, 3, 3, 3, 2, 1, 2, 0, 3, 2, 0, 3, 3, 0,\n",
       "       3, 3, 3, 3, 3, 3, 3, 3, 3, 3, 2, 2, 0, 2, 2, 2, 2, 2, 2, 2, 2, 3,\n",
       "       2, 3, 1, 2, 2, 3, 2, 2, 3, 2, 2, 3, 2, 2, 3, 2, 2, 3, 2, 2, 3, 1,\n",
       "       1, 1, 1, 1, 1, 1, 1, 1, 3, 1, 2, 1, 3, 1, 2, 1, 3, 1, 2, 1, 3, 1,\n",
       "       2, 1, 3, 1, 2, 1, 3, 1, 2, 1, 3, 1, 2, 1, 3, 1, 2, 3, 2, 3, 0, 3,\n",
       "       3, 3, 3, 3, 3, 3, 3, 3, 3, 3, 3, 3, 3, 3, 3, 3, 3, 0, 0, 0, 0, 0,\n",
       "       3, 3, 3, 3, 1, 2, 2, 2, 2, 2, 2, 2, 2, 1, 2, 1, 2, 1, 2, 1, 2, 1,\n",
       "       3, 1, 0, 2, 1, 1, 3, 3, 0, 1, 1, 1, 1, 1, 1, 1, 1, 3, 1, 3, 1, 3,\n",
       "       0, 2, 0, 0, 2, 2, 1, 2, 3, 3, 3, 3, 2, 3, 3, 1, 2, 3, 2, 2, 3, 2,\n",
       "       2, 3, 2, 2, 3, 2, 2, 3, 2, 2, 3, 2, 3, 1, 2, 2, 2, 1, 2, 1, 2, 2])"
      ]
     },
     "execution_count": 51,
     "metadata": {},
     "output_type": "execute_result"
    }
   ],
   "source": [
    "# Remove creadit score outcome target from fetures data\n",
    "y = drivers_df['CREDIT_SCORE']\n",
    "X = drivers_df.drop(columns='CREDIT_SCORE')\n",
    "\n",
    "from sklearn.cluster import KMeans\n",
    "km = KMeans(n_clusters = 4, init=\"random\", n_init =10, max_iter = 500, tol= 1e-04, random_state=0)\n",
    "km_predict = km.fit_predict(X)\n",
    "km_predict"
   ]
  },
  {
   "cell_type": "code",
   "execution_count": 52,
   "id": "0610b58c",
   "metadata": {},
   "outputs": [
    {
     "data": {
      "text/plain": [
       "179"
      ]
     },
     "execution_count": 52,
     "metadata": {},
     "output_type": "execute_result"
    }
   ],
   "source": [
    "len(km_predict[km_predict == 1])"
   ]
  },
  {
   "cell_type": "markdown",
   "id": "c0a7532e",
   "metadata": {},
   "source": [
    "# plot the 7 cluster\n",
    "import matplotlib.pyplot as plt\n",
    "plt.scatter(X[km_predict == 0, 0], X[km_predict == 0,1], c='lightgreen', marker ='s', edgecolor='black', label='cluster 1')\n",
    "plt.scatter(X[km_predict == 1, 0], X[km_predict == 1,1], c='orange', marker ='o', edgecolor='black', label='cluster 2')\n",
    "plt.scatter(X[km_predict == 2, 0], X[km_predict == 2,1], c='lightblue', marker ='v', edgecolor='black', label='cluster 2')\n"
   ]
  },
  {
   "cell_type": "code",
   "execution_count": 53,
   "id": "1de9a6fe",
   "metadata": {},
   "outputs": [
    {
     "data": {
      "text/plain": [
       "<matplotlib.collections.PathCollection at 0x1cd067830c8>"
      ]
     },
     "execution_count": 53,
     "metadata": {},
     "output_type": "execute_result"
    },
    {
     "data": {
      "image/png": "[encoded data removed]",
      "text/plain": [
       "<Figure size 432x288 with 1 Axes>"
      ]
     },
     "metadata": {
      "needs_background": "light"
     },
     "output_type": "display_data"
    }
   ],
   "source": [
    "import matplotlib.pyplot as plt\n",
    "plt.scatter(y, km_predict, c='lightgreen', marker ='s', edgecolor='black', label='cluster 1')"
   ]
  },
  {
   "cell_type": "code",
   "execution_count": 55,
   "id": "f25e27d4",
   "metadata": {},
   "outputs": [
    {
     "data": {
      "text/plain": [
       "[<matplotlib.lines.Line2D at 0x1cd06835dc8>]"
      ]
     },
     "execution_count": 55,
     "metadata": {},
     "output_type": "execute_result"
    },
    {
     "data": {
      "image/png": "[encoded data removed]",
      "text/plain": [
       "<Figure size 432x288 with 1 Axes>"
      ]
     },
     "metadata": {
      "needs_background": "light"
     },
     "output_type": "display_data"
    }
   ],
   "source": [
    "sum_distances = []\n",
    "K = range(1, 10)\n",
    "\n",
    "for k in K:\n",
    "    km = KMeans(n_clusters=k, init='random', n_init=10, max_iter=500, tol=1e-04, random_state=0)\n",
    "    km = km.fit(X)\n",
    "    sum_distances.append(km.inertia_)\n",
    "    \n",
    "plt.plot(K, sum_distances)"
   ]
  },
  {
   "cell_type": "code",
   "execution_count": 60,
   "id": "56c5e91c",
   "metadata": {},
   "outputs": [
    {
     "name": "stdout",
     "output_type": "stream",
     "text": [
      "for n_clusters = 2 and The ave score is:0.9094474278231529\n",
      "for n_clusters = 3 and The ave score is:0.6508765393262812\n",
      "for n_clusters = 4 and The ave score is:0.7003612418948909\n",
      "for n_clusters = 5 and The ave score is:0.6995151847540528\n",
      "for n_clusters = 6 and The ave score is:0.7182419735151025\n",
      "for n_clusters = 7 and The ave score is:0.712354572388523\n"
     ]
    }
   ],
   "source": [
    "from sklearn.metrics import silhouette_samples, silhouette_score\n",
    "range_n_clusters =[2,3, 4, 5, 6, 7]\n",
    "for n_cluster in range_n_clusters :\n",
    "    cluster = KMeans(n_clusters=n_cluster, random_state=10)\n",
    "    cluter_predict = cluster.fit_predict(X)\n",
    "    silhouette_avg = silhouette_score(X, cluter_predict)\n",
    "    print(f\"for n_clusters = {n_cluster} and The ave score is:{silhouette_avg}\")"
   ]
  },
  {
   "cell_type": "markdown",
   "id": "3751228b",
   "metadata": {},
   "source": [
    "# Adding PCA Principal Component Analysis\n",
    "- Always normalize your dataset before PCA - some loss when reduce dimensionality and sensitive to scaling\n",
    "- PC are always linearly independent - no correlation ? less dimensions\n",
    "- Orthogonal/perendicular to every other pC\n",
    "- PCA use k-dimensiions to represnet some value\n",
    "- Numerically we compute PCA using SVD(singular Value Decomposition)\n",
    "- New Data K*N = [top k eigenvector] k*m [Original dataset]m*n"
   ]
  },
  {
   "cell_type": "markdown",
   "id": "a56571cd",
   "metadata": {},
   "source": [
    "# alternatively we can use T-Distributed Stochastic Neighbor Embedding (t-SNE)\n",
    "- popular Dimensionality Reduction - 2008 proven more effectived than PCA\n",
    "- solves PCA's linear independent\n",
    "- solves curse of dimentionality (crowdness)\n",
    "- uses stochastic neighbors ---- BINGO\n",
    "- no clear line between poins as solved\n",
    "- However, lack of boundary is created\n",
    "- LOCAL is important than GLOBAL, but not ignored which allows well-balanced dimensionality created."
   ]
  },
  {
   "cell_type": "code",
   "execution_count": 63,
   "id": "a0c9a1b3",
   "metadata": {},
   "outputs": [],
   "source": [
    "from time import time\n",
    "import numpy as np\n",
    "import matplotlib.pyplot as plt\n",
    "from matplotlib import offsetbox\n",
    "from sklearn import manifold, datasets, decomposition, ensemble, discriminant_analysis, random_projection"
   ]
  },
  {
   "cell_type": "code",
   "execution_count": 64,
   "id": "f685eb6f",
   "metadata": {},
   "outputs": [],
   "source": [
    "# Sample found in https://www.digitalvidya.com/blog/tsne-python/\n",
    "n_samples, n_features = X.shape\n",
    "n_neighbors = 30"
   ]
  },
  {
   "cell_type": "code",
   "execution_count": 65,
   "id": "b9f08fb9",
   "metadata": {},
   "outputs": [],
   "source": [
    "## Function to Scale and visualize the embedding vectors\n",
    "def plot_embedding(X, title=None):\n",
    "  x_min = np.min(X, 0)\n",
    "  x_max = np.max(X, 0)\n",
    "  X = (X - x_min) / (x_max - x_min)     \n",
    "  plt.figure()\n",
    "  ax = plt.subplot(111)\n",
    "  for i in range(X.shape[0]):\n",
    "    plt.text(X[i, 0], X[i, 1],\n",
    "             str(digits.target[i]),\n",
    "             color=plt.cm.Set1(y[i] / 10.),\n",
    "             fontdict={'weight': 'bold', 'size': 9})\n",
    "    if hasattr(offsetbox, 'AnnotationBbox'):\n",
    "      ## only print thumbnails with matplotlib > 1.0\n",
    "      shown_images = np.array([[1., 1.]])  # just something big\n",
    "      for i in range(digits.data.shape[0]):\n",
    "        dist = np.sum((X[i] - shown_images) ** 2, 1)\n",
    "        if np.min(dist) < 4e-3:\n",
    "          ## don’t show points that are too close\n",
    "          continue\n",
    "          shown_images = np.r_[shown_images, [X[i]]]\n",
    "          imagebox = offsetbox.AnnotationBbox(\n",
    "              offsetbox.OffsetImage(digits.images[i], cmap=plt.cm.gray_r), X[i])\n",
    "          ax.add_artist(imagebox)\n",
    "  plt.xticks([]), plt.yticks([])\n",
    "  if title is not None:\n",
    "    plt.title(title)"
   ]
  },
  {
   "cell_type": "code",
   "execution_count": 69,
   "id": "e900a019",
   "metadata": {},
   "outputs": [
    {
     "name": "stdout",
     "output_type": "stream",
     "text": [
      "Computing PCA projection\n"
     ]
    },
    {
     "ename": "NameError",
     "evalue": "name 'digits' is not defined",
     "output_type": "error",
     "traceback": [
      "\u001b[1;31m---------------------------------------------------------------------------\u001b[0m",
      "\u001b[1;31mNameError\u001b[0m                                 Traceback (most recent call last)",
      "\u001b[1;32m~\\AppData\\Local\\Temp\\ipykernel_16056\\1527588782.py\u001b[0m in \u001b[0;36m<module>\u001b[1;34m\u001b[0m\n\u001b[0;32m     18\u001b[0m plot_embedding(X_pca,\n\u001b[0;32m     19\u001b[0m               \u001b[1;34m'Principal Components projection of the digits (time %.2fs)'\u001b[0m \u001b[1;33m%\u001b[0m\u001b[1;33m\u001b[0m\u001b[1;33m\u001b[0m\u001b[0m\n\u001b[1;32m---> 20\u001b[1;33m               (time() - t0))\n\u001b[0m\u001b[0;32m     21\u001b[0m \u001b[1;33m\u001b[0m\u001b[0m\n\u001b[0;32m     22\u001b[0m \u001b[1;31m## Computing t-SNE\u001b[0m\u001b[1;33m\u001b[0m\u001b[1;33m\u001b[0m\u001b[1;33m\u001b[0m\u001b[0m\n",
      "\u001b[1;32m~\\AppData\\Local\\Temp\\ipykernel_16056\\2067158683.py\u001b[0m in \u001b[0;36mplot_embedding\u001b[1;34m(X, title)\u001b[0m\n\u001b[0;32m      8\u001b[0m   \u001b[1;32mfor\u001b[0m \u001b[0mi\u001b[0m \u001b[1;32min\u001b[0m \u001b[0mrange\u001b[0m\u001b[1;33m(\u001b[0m\u001b[0mX\u001b[0m\u001b[1;33m.\u001b[0m\u001b[0mshape\u001b[0m\u001b[1;33m[\u001b[0m\u001b[1;36m0\u001b[0m\u001b[1;33m]\u001b[0m\u001b[1;33m)\u001b[0m\u001b[1;33m:\u001b[0m\u001b[1;33m\u001b[0m\u001b[1;33m\u001b[0m\u001b[0m\n\u001b[0;32m      9\u001b[0m     plt.text(X[i, 0], X[i, 1],\n\u001b[1;32m---> 10\u001b[1;33m              \u001b[0mstr\u001b[0m\u001b[1;33m(\u001b[0m\u001b[0mdigits\u001b[0m\u001b[1;33m.\u001b[0m\u001b[0mtarget\u001b[0m\u001b[1;33m[\u001b[0m\u001b[0mi\u001b[0m\u001b[1;33m]\u001b[0m\u001b[1;33m)\u001b[0m\u001b[1;33m,\u001b[0m\u001b[1;33m\u001b[0m\u001b[1;33m\u001b[0m\u001b[0m\n\u001b[0m\u001b[0;32m     11\u001b[0m              \u001b[0mcolor\u001b[0m\u001b[1;33m=\u001b[0m\u001b[0mplt\u001b[0m\u001b[1;33m.\u001b[0m\u001b[0mcm\u001b[0m\u001b[1;33m.\u001b[0m\u001b[0mSet1\u001b[0m\u001b[1;33m(\u001b[0m\u001b[0my\u001b[0m\u001b[1;33m[\u001b[0m\u001b[0mi\u001b[0m\u001b[1;33m]\u001b[0m \u001b[1;33m/\u001b[0m \u001b[1;36m10.\u001b[0m\u001b[1;33m)\u001b[0m\u001b[1;33m,\u001b[0m\u001b[1;33m\u001b[0m\u001b[1;33m\u001b[0m\u001b[0m\n\u001b[0;32m     12\u001b[0m              fontdict={'weight': 'bold', 'size': 9})\n",
      "\u001b[1;31mNameError\u001b[0m: name 'digits' is not defined"
     ]
    },
    {
     "data": {
      "image/png": "[encoded data removed]",
      "text/plain": [
       "<Figure size 432x288 with 1 Axes>"
      ]
     },
     "metadata": {},
     "output_type": "display_data"
    },
    {
     "data": {
      "image/png": "[encoded data removed]",
      "text/plain": [
       "<Figure size 432x288 with 1 Axes>"
      ]
     },
     "metadata": {
      "needs_background": "light"
     },
     "output_type": "display_data"
    }
   ],
   "source": [
    "## Plot images of the digits\n",
    "n_img_per_row = 20\n",
    "img = np.zeros((10 * n_img_per_row, 10 * n_img_per_row))\n",
    "for i in range(n_img_per_row):\n",
    "   ix = 10 * i + 1\n",
    "   for j in range(n_img_per_row):\n",
    "       iy = 10 * j + 1\n",
    "       img[ix:ix + 8, iy:iy + 8] = X[i * n_img_per_row + j].reshape((8, 8))\n",
    "plt.imshow(img, cmap=plt.cm.binary)\n",
    "plt.xticks([])\n",
    "plt.yticks([])\n",
    "plt.title('A selection from the 64-dimensional digits dataset')\n",
    "\n",
    "## Computing PCA\n",
    "print('Computing PCA projection')\n",
    "t0 = time()\n",
    "X_pca = decomposition.TruncatedSVD(n_components=2).fit_transform(X)\n",
    "plot_embedding(X_pca,\n",
    "              'Principal Components projection of the digits (time %.2fs)' %\n",
    "              (time() - t0))\n",
    "\n",
    "## Computing t-SNE\n",
    "print('Computing t-SNE embedding')\n",
    "tsne = manifold.TSNE(n_components=2, init='pca', random_state=0)\n",
    "t0 = time()\n",
    "X_tsne = tsne.fit_transform(X)\n",
    "plot_embedding(X_tsne,\n",
    "          't-SNE embedding of the digits (time %.2fs)' %\n",
    "          (time() - t0))\n",
    "plt.show()"
   ]
  },
  {
   "cell_type": "code",
   "execution_count": null,
   "id": "f0ffb383",
   "metadata": {},
   "outputs": [],
   "source": []
  }
 ],
 "metadata": {
  "kernelspec": {
   "display_name": "mlenv",
   "language": "python",
   "name": "mlenv"
  },
  "language_info": {
   "codemirror_mode": {
    "name": "ipython",
    "version": 3
   },
   "file_extension": ".py",
   "mimetype": "text/x-python",
   "name": "python",
   "nbconvert_exporter": "python",
   "pygments_lexer": "ipython3",
   "version": "3.7.13"
  }
 },
 "nbformat": 4,
 "nbformat_minor": 5
}
