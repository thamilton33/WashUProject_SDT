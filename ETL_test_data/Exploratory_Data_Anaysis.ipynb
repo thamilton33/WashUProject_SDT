{
 "cells": [
  {
   "cell_type": "markdown",
   "id": "4e84987c",
   "metadata": {},
   "source": [
    "## What are Neural Networks ?\n",
    "-  Act as \"Black box\" or \"Brain\" to predict\n",
    "-  Better than traditional?  - it learns complex non-linear mappings to produce far more accurate output\n",
    "- Used Image recognition\n",
    "- Input layer -> Hidden Layer -> Output Layer  - A deep nural networks\n",
    "-  Will try CNNs, RNNs and LSTMs\n",
    "    - Feed Foward NN \n",
    "    - Convolutional NN - (CNN) -> Don't  scale images \n",
    "        input = tree, each pixel coord is a value RBG (3 co-variables) such as 64X64 represents 64X64X3 which is 12,288.\n",
    "        CNN use a  3D Valume Arrangement for its Neurons height, width, depth(RGB) for a pixel put it in (Convolution (2 or more function to output one function) + ReLU)\n",
    "    - Recurrent NN (RNN) -> Feed Foward NN hae no concept of time, each classificaiton i sdone only on the current input.\n",
    "        current mean (previous + now) therefore same input can produce different output depending on history which means history is short, then have difficult to produce output or ouput seleciton is much larger, confused which one to be correct. _> Vanishing gradient / Exploding Gradient\n",
    "    - Long Short Term Memory Networks (LSTM)\n",
    "    To solve RNN -> Trying to solve RNN, introducing a memory unit (cell), long-term dependencies, remembering info as time goes\n",
    "        \n",
    "        \n",
    "### BINGO!!! - agreegated together because of certain similarities - definitley need to explore here!"
   ]
  },
  {
   "cell_type": "markdown",
   "id": "f2437421",
   "metadata": {},
   "source": [
    "## Clustering Algorithms\n",
    "continue tomorrow - https://amfam.udemy.com/course/the-data-analyst-bootcamp/learn/lecture/17480222#overview\n",
    "- K-means clustering\n",
    "    - choose K (centroid) via Silhouette Method or Elbow (Was K = 4)\n",
    "    - Understand the data domain\n",
    "    - Set initial centroid and nearest distance, then move centroid repeat that again\n",
    "    - simple, scales to large data set - guarantees cnvergence\n",
    "    - easily adapts to new examples and generalize differnt shapes\n",
    "    - disadvantage - adopt new key adopting new data set and difficulties varing sizes and  density\n",
    "    - doesn't scale well large dementions (PCA can help)\n",
    "    - doesn't work well with categoris like fruit (too many categories below it (elbow method can help).\n",
    "    \n",
    "    - What is then silhouette method?\n",
    "        - A method of validating the consistency withing cllsters of data\n",
    "        - The thechniuqe provides a succinct graphical rep how each object has been classified\n",
    "        - Shilhouette coefficient is close to +1 inidcates the point is far (good??? because there is distinction between clusters), close to 0 indicates point is near(bad?? no distinction between clusters) S(i) coefficient = (b(i)-a(i) / max(b(i), a(i) - define mean(a(i)) and closest cluster (b(i)) \n",
    "        - Higher coefficient value indicates clear distiction between categories.\n",
    "        \n",
    "- Agglomerative Hierachical Clustering\n",
    "- Mean-Shift Clustering\n",
    "- DBSCAN(Density-Based Spatial Clustering of Applications with Noise)\n",
    "- Expectation-Maximization(EM) -> Using Gaussian Mixture Models(GMM)"
   ]
  },
  {
   "cell_type": "code",
   "execution_count": 72,
   "id": "a4b5f9a7",
   "metadata": {},
   "outputs": [],
   "source": [
    "# Import basic necessities\n",
    "import pandas as pd\n",
    "import os\n",
    "import numpy as np\n",
    "\n",
    "import tensorflow as tf\n",
    "from tensorflow import keras\n",
    "\n",
    "from sklearn import preprocessing\n",
    "from sklearn.preprocessing import StandardScaler\n",
    "from sklearn.model_selection import train_test_split\n",
    "\n",
    "import warnings\n",
    "warnings.filterwarnings('ignore')"
   ]
  },
  {
   "cell_type": "code",
   "execution_count": 73,
   "id": "7899e297",
   "metadata": {},
   "outputs": [
    {
     "data": {
      "text/html": [
       "<div>\n",
       "<style scoped>\n",
       "    .dataframe tbody tr th:only-of-type {\n",
       "        vertical-align: middle;\n",
       "    }\n",
       "\n",
       "    .dataframe tbody tr th {\n",
       "        vertical-align: top;\n",
       "    }\n",
       "\n",
       "    .dataframe thead th {\n",
       "        text-align: right;\n",
       "    }\n",
       "</style>\n",
       "<table border=\"1\" class=\"dataframe\">\n",
       "  <thead>\n",
       "    <tr style=\"text-align: right;\">\n",
       "      <th></th>\n",
       "      <th>DRIVER_ID</th>\n",
       "      <th>GENDER</th>\n",
       "      <th>CREDIT_SCORE</th>\n",
       "      <th>AGE</th>\n",
       "      <th>VEHICLE_ID</th>\n",
       "    </tr>\n",
       "  </thead>\n",
       "  <tbody>\n",
       "    <tr>\n",
       "      <th>0</th>\n",
       "      <td>1</td>\n",
       "      <td>2.0</td>\n",
       "      <td>824</td>\n",
       "      <td>27.0</td>\n",
       "      <td>7420963</td>\n",
       "    </tr>\n",
       "    <tr>\n",
       "      <th>1</th>\n",
       "      <td>2</td>\n",
       "      <td>1.0</td>\n",
       "      <td>824</td>\n",
       "      <td>28.0</td>\n",
       "      <td>7420963</td>\n",
       "    </tr>\n",
       "    <tr>\n",
       "      <th>2</th>\n",
       "      <td>3</td>\n",
       "      <td>2.0</td>\n",
       "      <td>666</td>\n",
       "      <td>51.0</td>\n",
       "      <td>7396448</td>\n",
       "    </tr>\n",
       "    <tr>\n",
       "      <th>3</th>\n",
       "      <td>4</td>\n",
       "      <td>2.0</td>\n",
       "      <td>666</td>\n",
       "      <td>34.0</td>\n",
       "      <td>6208988</td>\n",
       "    </tr>\n",
       "    <tr>\n",
       "      <th>4</th>\n",
       "      <td>5</td>\n",
       "      <td>2.0</td>\n",
       "      <td>824</td>\n",
       "      <td>88.0</td>\n",
       "      <td>6078430</td>\n",
       "    </tr>\n",
       "  </tbody>\n",
       "</table>\n",
       "</div>"
      ],
      "text/plain": [
       "   DRIVER_ID  GENDER  CREDIT_SCORE   AGE  VEHICLE_ID\n",
       "0          1     2.0           824  27.0     7420963\n",
       "1          2     1.0           824  28.0     7420963\n",
       "2          3     2.0           666  51.0     7396448\n",
       "3          4     2.0           666  34.0     6208988\n",
       "4          5     2.0           824  88.0     6078430"
      ]
     },
     "execution_count": 73,
     "metadata": {},
     "output_type": "execute_result"
    }
   ],
   "source": [
    "drivers_df = pd.read_csv(\"ready_db/drviers.csv\")\n",
    "drivers_df.head()"
   ]
  },
  {
   "cell_type": "code",
   "execution_count": 74,
   "id": "a532d260",
   "metadata": {},
   "outputs": [
    {
     "data": {
      "text/html": [
       "<div>\n",
       "<style scoped>\n",
       "    .dataframe tbody tr th:only-of-type {\n",
       "        vertical-align: middle;\n",
       "    }\n",
       "\n",
       "    .dataframe tbody tr th {\n",
       "        vertical-align: top;\n",
       "    }\n",
       "\n",
       "    .dataframe thead th {\n",
       "        text-align: right;\n",
       "    }\n",
       "</style>\n",
       "<table border=\"1\" class=\"dataframe\">\n",
       "  <thead>\n",
       "    <tr style=\"text-align: right;\">\n",
       "      <th></th>\n",
       "      <th>DRIVER_ID</th>\n",
       "      <th>GENDER</th>\n",
       "      <th>CREDIT_SCORE</th>\n",
       "      <th>AGE</th>\n",
       "      <th>VEHICLE_ID</th>\n",
       "    </tr>\n",
       "  </thead>\n",
       "  <tbody>\n",
       "    <tr>\n",
       "      <th>0</th>\n",
       "      <td>1</td>\n",
       "      <td>2.0</td>\n",
       "      <td>824</td>\n",
       "      <td>27.0</td>\n",
       "      <td>7420963</td>\n",
       "    </tr>\n",
       "    <tr>\n",
       "      <th>1</th>\n",
       "      <td>2</td>\n",
       "      <td>1.0</td>\n",
       "      <td>824</td>\n",
       "      <td>28.0</td>\n",
       "      <td>7420963</td>\n",
       "    </tr>\n",
       "    <tr>\n",
       "      <th>2</th>\n",
       "      <td>3</td>\n",
       "      <td>2.0</td>\n",
       "      <td>666</td>\n",
       "      <td>51.0</td>\n",
       "      <td>7396448</td>\n",
       "    </tr>\n",
       "    <tr>\n",
       "      <th>3</th>\n",
       "      <td>4</td>\n",
       "      <td>2.0</td>\n",
       "      <td>666</td>\n",
       "      <td>34.0</td>\n",
       "      <td>6208988</td>\n",
       "    </tr>\n",
       "    <tr>\n",
       "      <th>4</th>\n",
       "      <td>5</td>\n",
       "      <td>2.0</td>\n",
       "      <td>824</td>\n",
       "      <td>88.0</td>\n",
       "      <td>6078430</td>\n",
       "    </tr>\n",
       "  </tbody>\n",
       "</table>\n",
       "</div>"
      ],
      "text/plain": [
       "   DRIVER_ID  GENDER  CREDIT_SCORE   AGE  VEHICLE_ID\n",
       "0          1     2.0           824  27.0     7420963\n",
       "1          2     1.0           824  28.0     7420963\n",
       "2          3     2.0           666  51.0     7396448\n",
       "3          4     2.0           666  34.0     6208988\n",
       "4          5     2.0           824  88.0     6078430"
      ]
     },
     "execution_count": 74,
     "metadata": {},
     "output_type": "execute_result"
    }
   ],
   "source": [
    "#drop only index colum which is Driver id\n",
    "drivers_df = drivers_df.dropna()\n",
    "drivers_df.head()"
   ]
  },
  {
   "cell_type": "code",
   "execution_count": 80,
   "id": "7a6689ec",
   "metadata": {},
   "outputs": [],
   "source": [
    "# Visualizing NO. of vehicle_ID by Credit Score\n",
    "vis = drivers_df.groupby(by=['CREDIT_SCORE', 'VEHICLE_ID'], as_index=False)['DRIVER_ID'].count()"
   ]
  },
  {
   "cell_type": "code",
   "execution_count": 81,
   "id": "70ee94dd",
   "metadata": {},
   "outputs": [
    {
     "data": {
      "image/png": "[encoded data removed]",
      "text/plain": [
       "<Figure size 1080x432 with 1 Axes>"
      ]
     },
     "metadata": {
      "needs_background": "light"
     },
     "output_type": "display_data"
    }
   ],
   "source": [
    "plt.subplots(figsize =(15, 6))\n",
    "plt.plot(vis.CREDIT_SCORE, vis.DRIVER_ID)\n",
    "plt.xlabel = ('CREDIT_SCORE')\n",
    "plt.ylable =('Number of Vehicles')\n",
    "plt.title('Number of drivers accumulated by credit score ralted to vehicle')\n",
    "plt.show()"
   ]
  },
  {
   "cell_type": "code",
   "execution_count": null,
   "id": "036c1808",
   "metadata": {},
   "outputs": [],
   "source": [
    "# Remove creadit score outcome target from fetures data\n",
    "y = drivers_df['CREDIT_SCORE']\n",
    "X = drivers_df.drop(columns='CREDIT_SCORE')\n"
   ]
  }
 ],
 "metadata": {
  "kernelspec": {
   "display_name": "mlenv",
   "language": "python",
   "name": "mlenv"
  },
  "language_info": {
   "codemirror_mode": {
    "name": "ipython",
    "version": 3
   },
   "file_extension": ".py",
   "mimetype": "text/x-python",
   "name": "python",
   "nbconvert_exporter": "python",
   "pygments_lexer": "ipython3",
   "version": "3.7.13"
  }
 },
 "nbformat": 4,
 "nbformat_minor": 5
}
