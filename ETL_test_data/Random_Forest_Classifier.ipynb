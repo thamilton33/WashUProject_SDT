{
 "cells": [
  {
   "cell_type": "markdown",
   "id": "8ca1545a",
   "metadata": {},
   "source": [
    "# Random Forest  - BINGO!!!\n",
    "- SVMs are another ML classifier (Logistic Regression)\n",
    "- Our aim is to create a hyper plane decision boundary between classes in the best way.\n",
    "- / best separater is Optimal Hyperplane - with maximum margin\n",
    "- Suport vertors are the points that reside closest to the hyperplan\n",
    "- influences hyper plane\n",
    "- linear + sigmoid to squash range 0 to 1 to minimize cost function.\n",
    "\n",
    "- What about non-linear? do the Kernel Trick - take a low dimensional (2D) transforms it into a higher dimensional space.\n",
    " - Decision tree Root Node branch < or >=  ---> can use multiple classes just branch more  out\n",
    "  - Root?  and How get us the boundaries?\n",
    "  - let's say 7 different credit score - data can divided to ? \n",
    "  - Use Gini initial impurity to Gini Gain Calculation \n",
    "  - Ginit = (i=1 to C) pi(1-pi) c-number of classes Pi - probability of reandomly choose element of class i\n",
    "  - e.g c = 7 p(1) = a_class_total/entire_set_total\n",
    "  - from there we split the branches into two section left and right - which will generate G = (i=1 to C) pi(1-pi) where c is\n",
    "  - each G move the split to the highest\n",
    "  - Now Random Forest  - simply a the output of multiple decision tree classifiers\n",
    "  - Using multiple classifiers and finding the most common output(majority vote) - call bagging and boottrapping"
   ]
  },
  {
   "cell_type": "code",
   "execution_count": 2,
   "id": "eaf842c6",
   "metadata": {},
   "outputs": [],
   "source": [
    "# Import basic necessities - 6.1 Logistic\n",
    "#CONTINUED\n",
    "# https://amfam.udemy.com/course/the-data-analyst-bootcamp/learn/lecture/17340402#content\n",
    "import pandas as pd\n",
    "import os\n",
    "import numpy as np\n",
    "\n",
    "import tensorflow as tf\n",
    "from tensorflow import keras\n",
    "\n",
    "from sklearn import preprocessing\n",
    "from sklearn.preprocessing import StandardScaler\n",
    "from sklearn.model_selection import train_test_split\n",
    "\n",
    "import warnings\n",
    "warnings.filterwarnings('ignore')"
   ]
  },
  {
   "cell_type": "code",
   "execution_count": 3,
   "id": "5128116f",
   "metadata": {},
   "outputs": [
    {
     "data": {
      "text/html": [
       "<div>\n",
       "<style scoped>\n",
       "    .dataframe tbody tr th:only-of-type {\n",
       "        vertical-align: middle;\n",
       "    }\n",
       "\n",
       "    .dataframe tbody tr th {\n",
       "        vertical-align: top;\n",
       "    }\n",
       "\n",
       "    .dataframe thead th {\n",
       "        text-align: right;\n",
       "    }\n",
       "</style>\n",
       "<table border=\"1\" class=\"dataframe\">\n",
       "  <thead>\n",
       "    <tr style=\"text-align: right;\">\n",
       "      <th></th>\n",
       "      <th>GENDER</th>\n",
       "      <th>CREDIT_SCORE</th>\n",
       "      <th>AGE</th>\n",
       "      <th>VEHICLE_ID</th>\n",
       "    </tr>\n",
       "  </thead>\n",
       "  <tbody>\n",
       "    <tr>\n",
       "      <th>0</th>\n",
       "      <td>2.0</td>\n",
       "      <td>824</td>\n",
       "      <td>27.0</td>\n",
       "      <td>7420963</td>\n",
       "    </tr>\n",
       "    <tr>\n",
       "      <th>1</th>\n",
       "      <td>1.0</td>\n",
       "      <td>824</td>\n",
       "      <td>28.0</td>\n",
       "      <td>7420963</td>\n",
       "    </tr>\n",
       "    <tr>\n",
       "      <th>2</th>\n",
       "      <td>2.0</td>\n",
       "      <td>666</td>\n",
       "      <td>51.0</td>\n",
       "      <td>7396448</td>\n",
       "    </tr>\n",
       "    <tr>\n",
       "      <th>3</th>\n",
       "      <td>2.0</td>\n",
       "      <td>666</td>\n",
       "      <td>34.0</td>\n",
       "      <td>6208988</td>\n",
       "    </tr>\n",
       "    <tr>\n",
       "      <th>4</th>\n",
       "      <td>2.0</td>\n",
       "      <td>824</td>\n",
       "      <td>88.0</td>\n",
       "      <td>6078430</td>\n",
       "    </tr>\n",
       "  </tbody>\n",
       "</table>\n",
       "</div>"
      ],
      "text/plain": [
       "   GENDER  CREDIT_SCORE   AGE  VEHICLE_ID\n",
       "0     2.0           824  27.0     7420963\n",
       "1     1.0           824  28.0     7420963\n",
       "2     2.0           666  51.0     7396448\n",
       "3     2.0           666  34.0     6208988\n",
       "4     2.0           824  88.0     6078430"
      ]
     },
     "execution_count": 3,
     "metadata": {},
     "output_type": "execute_result"
    }
   ],
   "source": [
    "# As usual drivers\n",
    "drivers_df = pd.read_csv(\"ready_db/drviers.csv\")\n",
    "#drop only index colum which is Driver id\n",
    "drivers_df = drivers_df.dropna()\n",
    "drivers_df = drivers_df.drop(columns='DRIVER_ID')\n",
    "drivers_df.head()"
   ]
  },
  {
   "cell_type": "code",
   "execution_count": 4,
   "id": "552b6614",
   "metadata": {},
   "outputs": [],
   "source": [
    "# Remove creadit score outcome target from fetures data\n",
    "y = drivers_df['CREDIT_SCORE']\n",
    "X = drivers_df.drop(columns='CREDIT_SCORE')\n",
    "\n",
    "from sklearn.linear_model import LinearRegression\n",
    "X_train, X_test, y_train, y_test = train_test_split(X, y, test_size=0.25, random_state=0)"
   ]
  },
  {
   "cell_type": "code",
   "execution_count": 10,
   "id": "aa819e01",
   "metadata": {},
   "outputs": [
    {
     "data": {
      "text/plain": [
       "array([402], dtype=int64)"
      ]
     },
     "execution_count": 10,
     "metadata": {},
     "output_type": "execute_result"
    }
   ],
   "source": [
    "# Fitting Polynomial Regression to the data set\n",
    "from sklearn import linear_model\n",
    "from sklearn.linear_model import LogisticRegression\n",
    "\n",
    "lgf = linear_model.LogisticRegression(C=1e40, solver='newton-cg') # Newton method\n",
    "\n",
    "fitted_model = lgf.fit(X_train, y_train)\n",
    "predicted_data = lgf.predict([(2, 824, 27)])\n",
    "\n",
    "predicted_data # 402 is a lot away from 824 - not good model"
   ]
  },
  {
   "cell_type": "code",
   "execution_count": null,
   "id": "13b9ccda",
   "metadata": {},
   "outputs": [],
   "source": []
  }
 ],
 "metadata": {
  "kernelspec": {
   "display_name": "mlenv",
   "language": "python",
   "name": "mlenv"
  },
  "language_info": {
   "codemirror_mode": {
    "name": "ipython",
    "version": 3
   },
   "file_extension": ".py",
   "mimetype": "text/x-python",
   "name": "python",
   "nbconvert_exporter": "python",
   "pygments_lexer": "ipython3",
   "version": "3.7.13"
  }
 },
 "nbformat": 4,
 "nbformat_minor": 5
}
