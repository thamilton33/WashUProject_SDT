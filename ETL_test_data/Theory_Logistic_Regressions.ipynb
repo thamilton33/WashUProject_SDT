{
 "cells": [
  {
   "cell_type": "markdown",
   "id": "7ddbed94",
   "metadata": {},
   "source": [
    "#Theory behind Logistic Regressions compare to Linear\n",
    "- Linear -> f = W**Tx\n",
    "- The transformatiom of a Linear with Logistic sigmoid \n",
    "- g(x) = 1/1+e*-z\n",
    "- f(x;w) = q(wt * x) = 1/ 1+e -w*tx\n",
    "- cost(h0(x), y)\n",
    "- convex - an unconstrained optimization problem 0n - done by Gradient Descent or Newton's method\n",
    "- Other Machine Learing Classification : SVM, Random Forests, and Neural Networks/ Deep Learning "
   ]
  },
  {
   "cell_type": "code",
   "execution_count": 2,
   "id": "6498a9a8",
   "metadata": {},
   "outputs": [],
   "source": [
    "# Import basic necessities\n",
    "#CONTINUED\n",
    "# https://amfam.udemy.com/course/the-data-analyst-bootcamp/learn/lecture/17340402#content\n",
    "import pandas as pd\n",
    "import os\n",
    "import numpy as np\n",
    "\n",
    "import tensorflow as tf\n",
    "from tensorflow import keras\n",
    "\n",
    "from sklearn import preprocessing\n",
    "from sklearn.preprocessing import StandardScaler\n",
    "from sklearn.model_selection import train_test_split\n",
    "\n",
    "import warnings\n",
    "warnings.filterwarnings('ignore')"
   ]
  },
  {
   "cell_type": "code",
   "execution_count": 3,
   "id": "d2dfd6ee",
   "metadata": {},
   "outputs": [
    {
     "data": {
      "text/html": [
       "<div>\n",
       "<style scoped>\n",
       "    .dataframe tbody tr th:only-of-type {\n",
       "        vertical-align: middle;\n",
       "    }\n",
       "\n",
       "    .dataframe tbody tr th {\n",
       "        vertical-align: top;\n",
       "    }\n",
       "\n",
       "    .dataframe thead th {\n",
       "        text-align: right;\n",
       "    }\n",
       "</style>\n",
       "<table border=\"1\" class=\"dataframe\">\n",
       "  <thead>\n",
       "    <tr style=\"text-align: right;\">\n",
       "      <th></th>\n",
       "      <th>GENDER</th>\n",
       "      <th>CREDIT_SCORE</th>\n",
       "      <th>AGE</th>\n",
       "      <th>VEHICLE_ID</th>\n",
       "    </tr>\n",
       "  </thead>\n",
       "  <tbody>\n",
       "    <tr>\n",
       "      <th>0</th>\n",
       "      <td>2.0</td>\n",
       "      <td>824</td>\n",
       "      <td>27.0</td>\n",
       "      <td>7420963</td>\n",
       "    </tr>\n",
       "    <tr>\n",
       "      <th>1</th>\n",
       "      <td>1.0</td>\n",
       "      <td>824</td>\n",
       "      <td>28.0</td>\n",
       "      <td>7420963</td>\n",
       "    </tr>\n",
       "    <tr>\n",
       "      <th>2</th>\n",
       "      <td>2.0</td>\n",
       "      <td>666</td>\n",
       "      <td>51.0</td>\n",
       "      <td>7396448</td>\n",
       "    </tr>\n",
       "    <tr>\n",
       "      <th>3</th>\n",
       "      <td>2.0</td>\n",
       "      <td>666</td>\n",
       "      <td>34.0</td>\n",
       "      <td>6208988</td>\n",
       "    </tr>\n",
       "    <tr>\n",
       "      <th>4</th>\n",
       "      <td>2.0</td>\n",
       "      <td>824</td>\n",
       "      <td>88.0</td>\n",
       "      <td>6078430</td>\n",
       "    </tr>\n",
       "  </tbody>\n",
       "</table>\n",
       "</div>"
      ],
      "text/plain": [
       "   GENDER  CREDIT_SCORE   AGE  VEHICLE_ID\n",
       "0     2.0           824  27.0     7420963\n",
       "1     1.0           824  28.0     7420963\n",
       "2     2.0           666  51.0     7396448\n",
       "3     2.0           666  34.0     6208988\n",
       "4     2.0           824  88.0     6078430"
      ]
     },
     "execution_count": 3,
     "metadata": {},
     "output_type": "execute_result"
    }
   ],
   "source": [
    "# As usual drivers\n",
    "drivers_df = pd.read_csv(\"ready_db/drviers.csv\")\n",
    "#drop only index colum which is Driver id\n",
    "drivers_df = drivers_df.dropna()\n",
    "drivers_df = drivers_df.drop(columns='DRIVER_ID')\n",
    "drivers_df.head()"
   ]
  },
  {
   "cell_type": "code",
   "execution_count": 4,
   "id": "f3909a69",
   "metadata": {},
   "outputs": [],
   "source": [
    "# Remove creadit score outcome target from fetures data\n",
    "y = drivers_df['CREDIT_SCORE']\n",
    "X = drivers_df.drop(columns='CREDIT_SCORE')\n",
    "\n",
    "from sklearn.linear_model import LinearRegression\n",
    "X_train, X_test, y_train, y_test = train_test_split(X, y, test_size=0.25, random_state=0)"
   ]
  },
  {
   "cell_type": "code",
   "execution_count": 10,
   "id": "bc8f6b1b",
   "metadata": {},
   "outputs": [
    {
     "data": {
      "text/plain": [
       "array([402], dtype=int64)"
      ]
     },
     "execution_count": 10,
     "metadata": {},
     "output_type": "execute_result"
    }
   ],
   "source": [
    "# Fitting Polynomial Regression to the data set\n",
    "from sklearn import linear_model\n",
    "from sklearn.linear_model import LogisticRegression\n",
    "\n",
    "lgf = linear_model.LogisticRegression(C=1e40, solver='newton-cg') # Newton method\n",
    "\n",
    "fitted_model = lgf.fit(X_train, y_train)\n",
    "predicted_data = lgf.predict([(2, 824, 27)])\n",
    "\n",
    "predicted_data # 402 is a lot away from 824 - no "
   ]
  },
  {
   "cell_type": "code",
   "execution_count": null,
   "id": "e37e6e04",
   "metadata": {},
   "outputs": [],
   "source": []
  }
 ],
 "metadata": {
  "kernelspec": {
   "display_name": "mlenv",
   "language": "python",
   "name": "mlenv"
  },
  "language_info": {
   "codemirror_mode": {
    "name": "ipython",
    "version": 3
   },
   "file_extension": ".py",
   "mimetype": "text/x-python",
   "name": "python",
   "nbconvert_exporter": "python",
   "pygments_lexer": "ipython3",
   "version": "3.7.13"
  }
 },
 "nbformat": 4,
 "nbformat_minor": 5
}
