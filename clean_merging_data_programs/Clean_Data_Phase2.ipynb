{
 "cells": [
  {
   "cell_type": "markdown",
   "id": "d3b342b7",
   "metadata": {},
   "source": [
    "### DATA CLEANING also known as DATA SCRUBBING\n",
    "\n",
    "    - Import Data From the phase 1\n",
    "    - Wrap into Panda's Data Frame\n",
    "    - Change to proper data type\n",
    "    - Reformat values to numberic to compute in our ML training"
   ]
  },
  {
   "cell_type": "markdown",
   "id": "80321259",
   "metadata": {},
   "source": [
    "## 1. Import Data"
   ]
  },
  {
   "cell_type": "code",
   "execution_count": 106,
   "id": "e6502e52",
   "metadata": {},
   "outputs": [],
   "source": [
    "import pandas as pd\n",
    "import numpy as np\n",
    "\n",
    "import warnings\n",
    "warnings.filterwarnings('ignore')"
   ]
  },
  {
   "cell_type": "code",
   "execution_count": 107,
   "id": "b5e337db",
   "metadata": {},
   "outputs": [],
   "source": [
    "# The data is from HLDI web service - it should present all possible vehicles data HLDI provides\n",
    "# Read data, conver ID to integer (auto read to float and we don't need float number) \n",
    "# Data - 3 xlsx files from DB (TestETL folder) reduced to 2 csv files to import here\n",
    "vehicles_file = \"raw_converted_data/vehicles.csv\"\n",
    "drivers_file = \"raw_converted_data/drivers.csv\""
   ]
  },
  {
   "cell_type": "code",
   "execution_count": 108,
   "id": "c5ef644e",
   "metadata": {},
   "outputs": [],
   "source": [
    "# Retreive the data from previous saved as a CSV file \n",
    "vehicles_df = pd.read_csv(vehicles_file)\n",
    "drivers_df = pd.read_csv(drivers_file)\n"
   ]
  },
  {
   "cell_type": "code",
   "execution_count": 109,
   "id": "eb7e33d7",
   "metadata": {},
   "outputs": [
    {
     "data": {
      "text/html": [
       "<div>\n",
       "<style scoped>\n",
       "    .dataframe tbody tr th:only-of-type {\n",
       "        vertical-align: middle;\n",
       "    }\n",
       "\n",
       "    .dataframe tbody tr th {\n",
       "        vertical-align: top;\n",
       "    }\n",
       "\n",
       "    .dataframe thead th {\n",
       "        text-align: right;\n",
       "    }\n",
       "</style>\n",
       "<table border=\"1\" class=\"dataframe\">\n",
       "  <thead>\n",
       "    <tr style=\"text-align: right;\">\n",
       "      <th></th>\n",
       "      <th>DRIVER_ID</th>\n",
       "      <th>GENDER</th>\n",
       "      <th>BIRTH_DATE</th>\n",
       "      <th>CREDIT_SCORE</th>\n",
       "      <th>VEHICLE_ID</th>\n",
       "    </tr>\n",
       "  </thead>\n",
       "  <tbody>\n",
       "    <tr>\n",
       "      <th>0</th>\n",
       "      <td>104132812</td>\n",
       "      <td>F</td>\n",
       "      <td>1990-07-01</td>\n",
       "      <td>824</td>\n",
       "      <td>7399455</td>\n",
       "    </tr>\n",
       "    <tr>\n",
       "      <th>1</th>\n",
       "      <td>104132854</td>\n",
       "      <td>F</td>\n",
       "      <td>1933-11-06</td>\n",
       "      <td>824</td>\n",
       "      <td>6078430</td>\n",
       "    </tr>\n",
       "    <tr>\n",
       "      <th>2</th>\n",
       "      <td>104132876</td>\n",
       "      <td>F</td>\n",
       "      <td>1987-12-14</td>\n",
       "      <td>750</td>\n",
       "      <td>6212210</td>\n",
       "    </tr>\n",
       "    <tr>\n",
       "      <th>3</th>\n",
       "      <td>104132895</td>\n",
       "      <td>F</td>\n",
       "      <td>1999-10-22</td>\n",
       "      <td>750</td>\n",
       "      <td>7416184</td>\n",
       "    </tr>\n",
       "    <tr>\n",
       "      <th>4</th>\n",
       "      <td>104132907</td>\n",
       "      <td>F</td>\n",
       "      <td>1933-11-06</td>\n",
       "      <td>824</td>\n",
       "      <td>6078430</td>\n",
       "    </tr>\n",
       "  </tbody>\n",
       "</table>\n",
       "</div>"
      ],
      "text/plain": [
       "   DRIVER_ID GENDER  BIRTH_DATE CREDIT_SCORE  VEHICLE_ID\n",
       "0  104132812      F  1990-07-01          824     7399455\n",
       "1  104132854      F  1933-11-06          824     6078430\n",
       "2  104132876      F  1987-12-14          750     6212210\n",
       "3  104132895      F  1999-10-22          750     7416184\n",
       "4  104132907      F  1933-11-06          824     6078430"
      ]
     },
     "execution_count": 109,
     "metadata": {},
     "output_type": "execute_result"
    }
   ],
   "source": [
    "# Rename the column Easier to read and consistent format\n",
    "drivers_df = drivers_df.rename(columns={'DRIVERID':'DRIVER_ID', 'BIRTHDATE':'BIRTH_DATE', 'CREDSCORE':'CREDIT_SCORE', 'HLDIID':'VEHICLE_ID'})\n",
    "drivers_df.head()"
   ]
  },
  {
   "cell_type": "markdown",
   "id": "043ba36e",
   "metadata": {},
   "source": [
    "## 2. Drop, Convert Data fields\n"
   ]
  },
  {
   "cell_type": "code",
   "execution_count": 110,
   "id": "7a43a76e",
   "metadata": {},
   "outputs": [
    {
     "name": "stdout",
     "output_type": "stream",
     "text": [
      "<class 'pandas.core.frame.DataFrame'>\n",
      "RangeIndex: 8964256 entries, 0 to 8964255\n",
      "Data columns (total 5 columns):\n",
      " #   Column        Dtype \n",
      "---  ------        ----- \n",
      " 0   DRIVER_ID     int64 \n",
      " 1   GENDER        object\n",
      " 2   BIRTH_DATE    object\n",
      " 3   CREDIT_SCORE  object\n",
      " 4   VEHICLE_ID    int64 \n",
      "dtypes: int64(2), object(3)\n",
      "memory usage: 342.0+ MB\n"
     ]
    }
   ],
   "source": [
    "# now Take a look at the Drivers Table to see anything need to drop or convert needed to our model to run\n",
    "drivers_df.info()\n",
    "# drop na first\n",
    "drivers_df = drivers_df.dropna()"
   ]
  },
  {
   "cell_type": "code",
   "execution_count": 111,
   "id": "30d8c467",
   "metadata": {},
   "outputs": [
    {
     "name": "stdout",
     "output_type": "stream",
     "text": [
      "DRIVER_ID       0\n",
      "GENDER          0\n",
      "BIRTH_DATE      0\n",
      "CREDIT_SCORE    0\n",
      "VEHICLE_ID      0\n",
      "dtype: int64\n"
     ]
    },
    {
     "data": {
      "text/plain": [
       "array(['F', 'M', 'X'], dtype=object)"
      ]
     },
     "execution_count": 111,
     "metadata": {},
     "output_type": "execute_result"
    }
   ],
   "source": [
    "# Gender, birthdata, and Credit_Score needed to convert to numeric format\n",
    "# First Gender\n",
    "print(drivers_df.isna().sum())\n",
    "drivers_df['GENDER'].unique()"
   ]
  },
  {
   "cell_type": "code",
   "execution_count": 112,
   "id": "942f4c39",
   "metadata": {},
   "outputs": [],
   "source": [
    "# GENDER operation X is binary_gender nan is unknown input fill with 0\n",
    "drivers_df['GENDER'] = drivers_df['GENDER'].fillna(0)\n",
    "new_data = {   \n",
    "    'M':1,\n",
    "    'F':2,\n",
    "    'X':3\n",
    "}\n",
    "# Change Genders Numeric values\n",
    "drivers_df['GENDER'] = drivers_df['GENDER'].map(new_data)\n"
   ]
  },
  {
   "cell_type": "code",
   "execution_count": 113,
   "id": "5754d6d7",
   "metadata": {},
   "outputs": [
    {
     "data": {
      "text/html": [
       "<div>\n",
       "<style scoped>\n",
       "    .dataframe tbody tr th:only-of-type {\n",
       "        vertical-align: middle;\n",
       "    }\n",
       "\n",
       "    .dataframe tbody tr th {\n",
       "        vertical-align: top;\n",
       "    }\n",
       "\n",
       "    .dataframe thead th {\n",
       "        text-align: right;\n",
       "    }\n",
       "</style>\n",
       "<table border=\"1\" class=\"dataframe\">\n",
       "  <thead>\n",
       "    <tr style=\"text-align: right;\">\n",
       "      <th></th>\n",
       "      <th>DRIVER_ID</th>\n",
       "      <th>GENDER</th>\n",
       "      <th>BIRTH_DATE</th>\n",
       "      <th>CREDIT_SCORE</th>\n",
       "      <th>VEHICLE_ID</th>\n",
       "    </tr>\n",
       "  </thead>\n",
       "  <tbody>\n",
       "    <tr>\n",
       "      <th>0</th>\n",
       "      <td>104132812</td>\n",
       "      <td>2</td>\n",
       "      <td>1990-07-01</td>\n",
       "      <td>824</td>\n",
       "      <td>7399455</td>\n",
       "    </tr>\n",
       "    <tr>\n",
       "      <th>1</th>\n",
       "      <td>104132854</td>\n",
       "      <td>2</td>\n",
       "      <td>1933-11-06</td>\n",
       "      <td>824</td>\n",
       "      <td>6078430</td>\n",
       "    </tr>\n",
       "    <tr>\n",
       "      <th>2</th>\n",
       "      <td>104132876</td>\n",
       "      <td>2</td>\n",
       "      <td>1987-12-14</td>\n",
       "      <td>750</td>\n",
       "      <td>6212210</td>\n",
       "    </tr>\n",
       "    <tr>\n",
       "      <th>3</th>\n",
       "      <td>104132895</td>\n",
       "      <td>2</td>\n",
       "      <td>1999-10-22</td>\n",
       "      <td>750</td>\n",
       "      <td>7416184</td>\n",
       "    </tr>\n",
       "    <tr>\n",
       "      <th>4</th>\n",
       "      <td>104132907</td>\n",
       "      <td>2</td>\n",
       "      <td>1933-11-06</td>\n",
       "      <td>824</td>\n",
       "      <td>6078430</td>\n",
       "    </tr>\n",
       "  </tbody>\n",
       "</table>\n",
       "</div>"
      ],
      "text/plain": [
       "   DRIVER_ID  GENDER  BIRTH_DATE CREDIT_SCORE  VEHICLE_ID\n",
       "0  104132812       2  1990-07-01          824     7399455\n",
       "1  104132854       2  1933-11-06          824     6078430\n",
       "2  104132876       2  1987-12-14          750     6212210\n",
       "3  104132895       2  1999-10-22          750     7416184\n",
       "4  104132907       2  1933-11-06          824     6078430"
      ]
     },
     "execution_count": 113,
     "metadata": {},
     "output_type": "execute_result"
    }
   ],
   "source": [
    "# Covert Bith Date field to Age - OverflowError: Overflow in int64 addition\n",
    "# drivers_df['BIRTH_DATE'] = pd.to_datetime(drivers_df['BIRTH_DATE'], format='%Y-%m-%d')\n",
    "BIRTH_DATE\n",
    "drivers_df.head()"
   ]
  },
  {
   "cell_type": "code",
   "execution_count": 118,
   "id": "07463666",
   "metadata": {},
   "outputs": [],
   "source": [
    "from datetime import date, datetime\n",
    "\n",
    "def age(birth_date):\n",
    "    today = date.today()\n",
    "    b_date = datetime.strptime(birth_date, \"%Y-%m-%d\")\n",
    "    age = today.year - b_date.year - ((today.month, today.day) < (b_date.month, b_date.day))\n",
    "    return age"
   ]
  },
  {
   "cell_type": "code",
   "execution_count": 120,
   "id": "d636c79e",
   "metadata": {},
   "outputs": [
    {
     "data": {
      "text/html": [
       "<div>\n",
       "<style scoped>\n",
       "    .dataframe tbody tr th:only-of-type {\n",
       "        vertical-align: middle;\n",
       "    }\n",
       "\n",
       "    .dataframe tbody tr th {\n",
       "        vertical-align: top;\n",
       "    }\n",
       "\n",
       "    .dataframe thead th {\n",
       "        text-align: right;\n",
       "    }\n",
       "</style>\n",
       "<table border=\"1\" class=\"dataframe\">\n",
       "  <thead>\n",
       "    <tr style=\"text-align: right;\">\n",
       "      <th></th>\n",
       "      <th>DRIVER_ID</th>\n",
       "      <th>GENDER</th>\n",
       "      <th>BIRTH_DATE</th>\n",
       "      <th>CREDIT_SCORE</th>\n",
       "      <th>VEHICLE_ID</th>\n",
       "      <th>AGE</th>\n",
       "    </tr>\n",
       "  </thead>\n",
       "  <tbody>\n",
       "    <tr>\n",
       "      <th>0</th>\n",
       "      <td>104132812</td>\n",
       "      <td>2</td>\n",
       "      <td>1990-07-01</td>\n",
       "      <td>824</td>\n",
       "      <td>7399455</td>\n",
       "      <td>32</td>\n",
       "    </tr>\n",
       "    <tr>\n",
       "      <th>1</th>\n",
       "      <td>104132854</td>\n",
       "      <td>2</td>\n",
       "      <td>1933-11-06</td>\n",
       "      <td>824</td>\n",
       "      <td>6078430</td>\n",
       "      <td>88</td>\n",
       "    </tr>\n",
       "    <tr>\n",
       "      <th>2</th>\n",
       "      <td>104132876</td>\n",
       "      <td>2</td>\n",
       "      <td>1987-12-14</td>\n",
       "      <td>750</td>\n",
       "      <td>6212210</td>\n",
       "      <td>34</td>\n",
       "    </tr>\n",
       "    <tr>\n",
       "      <th>3</th>\n",
       "      <td>104132895</td>\n",
       "      <td>2</td>\n",
       "      <td>1999-10-22</td>\n",
       "      <td>750</td>\n",
       "      <td>7416184</td>\n",
       "      <td>22</td>\n",
       "    </tr>\n",
       "    <tr>\n",
       "      <th>4</th>\n",
       "      <td>104132907</td>\n",
       "      <td>2</td>\n",
       "      <td>1933-11-06</td>\n",
       "      <td>824</td>\n",
       "      <td>6078430</td>\n",
       "      <td>88</td>\n",
       "    </tr>\n",
       "  </tbody>\n",
       "</table>\n",
       "</div>"
      ],
      "text/plain": [
       "   DRIVER_ID  GENDER  BIRTH_DATE CREDIT_SCORE  VEHICLE_ID  AGE\n",
       "0  104132812       2  1990-07-01          824     7399455   32\n",
       "1  104132854       2  1933-11-06          824     6078430   88\n",
       "2  104132876       2  1987-12-14          750     6212210   34\n",
       "3  104132895       2  1999-10-22          750     7416184   22\n",
       "4  104132907       2  1933-11-06          824     6078430   88"
      ]
     },
     "execution_count": 120,
     "metadata": {},
     "output_type": "execute_result"
    }
   ],
   "source": [
    "drivers_df['AGE'] = drivers_df['BIRTH_DATE'].apply(age)\n",
    "drivers_df.head()"
   ]
  },
  {
   "cell_type": "code",
   "execution_count": 121,
   "id": "19b9ff0b",
   "metadata": {},
   "outputs": [
    {
     "data": {
      "text/html": [
       "<div>\n",
       "<style scoped>\n",
       "    .dataframe tbody tr th:only-of-type {\n",
       "        vertical-align: middle;\n",
       "    }\n",
       "\n",
       "    .dataframe tbody tr th {\n",
       "        vertical-align: top;\n",
       "    }\n",
       "\n",
       "    .dataframe thead th {\n",
       "        text-align: right;\n",
       "    }\n",
       "</style>\n",
       "<table border=\"1\" class=\"dataframe\">\n",
       "  <thead>\n",
       "    <tr style=\"text-align: right;\">\n",
       "      <th></th>\n",
       "      <th>DRIVER_ID</th>\n",
       "      <th>GENDER</th>\n",
       "      <th>CREDIT_SCORE</th>\n",
       "      <th>VEHICLE_ID</th>\n",
       "      <th>AGE</th>\n",
       "    </tr>\n",
       "  </thead>\n",
       "  <tbody>\n",
       "    <tr>\n",
       "      <th>0</th>\n",
       "      <td>104132812</td>\n",
       "      <td>2</td>\n",
       "      <td>824</td>\n",
       "      <td>7399455</td>\n",
       "      <td>32</td>\n",
       "    </tr>\n",
       "    <tr>\n",
       "      <th>1</th>\n",
       "      <td>104132854</td>\n",
       "      <td>2</td>\n",
       "      <td>824</td>\n",
       "      <td>6078430</td>\n",
       "      <td>88</td>\n",
       "    </tr>\n",
       "    <tr>\n",
       "      <th>2</th>\n",
       "      <td>104132876</td>\n",
       "      <td>2</td>\n",
       "      <td>750</td>\n",
       "      <td>6212210</td>\n",
       "      <td>34</td>\n",
       "    </tr>\n",
       "    <tr>\n",
       "      <th>3</th>\n",
       "      <td>104132895</td>\n",
       "      <td>2</td>\n",
       "      <td>750</td>\n",
       "      <td>7416184</td>\n",
       "      <td>22</td>\n",
       "    </tr>\n",
       "    <tr>\n",
       "      <th>4</th>\n",
       "      <td>104132907</td>\n",
       "      <td>2</td>\n",
       "      <td>824</td>\n",
       "      <td>6078430</td>\n",
       "      <td>88</td>\n",
       "    </tr>\n",
       "  </tbody>\n",
       "</table>\n",
       "</div>"
      ],
      "text/plain": [
       "   DRIVER_ID  GENDER CREDIT_SCORE  VEHICLE_ID  AGE\n",
       "0  104132812       2          824     7399455   32\n",
       "1  104132854       2          824     6078430   88\n",
       "2  104132876       2          750     6212210   34\n",
       "3  104132895       2          750     7416184   22\n",
       "4  104132907       2          824     6078430   88"
      ]
     },
     "execution_count": 121,
     "metadata": {},
     "output_type": "execute_result"
    }
   ],
   "source": [
    "# Once Birth date is merged to the Data Frame, remove the Birth Date column\n",
    "drivers_df.drop('BIRTH_DATE', axis=1, inplace=True)\n",
    "drivers_df.head()"
   ]
  },
  {
   "cell_type": "code",
   "execution_count": 122,
   "id": "a1ccb594",
   "metadata": {},
   "outputs": [
    {
     "data": {
      "text/plain": [
       "847    2165193\n",
       "710    1105341\n",
       "811    1053936\n",
       "824     853079\n",
       "666     616727\n",
       "        ...   \n",
       "896          2\n",
       "0            2\n",
       "299          1\n",
       "301          1\n",
       "897          1\n",
       "Name: CREDIT_SCORE, Length: 604, dtype: int64"
      ]
     },
     "execution_count": 122,
     "metadata": {},
     "output_type": "execute_result"
    }
   ],
   "source": [
    "# Clean Credit Score - NS0,NH0,TF1,FDL,AG0\n",
    "drivers_df['CREDIT_SCORE'].value_counts(dropna=False)\n",
    "credit_na_values = ['NS0', 'NH0','TF1', 'FDL', 'AG0']\n",
    "drivers_df = drivers_df[drivers_df.CREDIT_SCORE.isin(credit_na_values) == False]\n",
    "drivers_df['CREDIT_SCORE'].value_counts(dropna=False)"
   ]
  },
  {
   "cell_type": "code",
   "execution_count": 124,
   "id": "ebde055e",
   "metadata": {},
   "outputs": [
    {
     "data": {
      "text/html": [
       "<div>\n",
       "<style scoped>\n",
       "    .dataframe tbody tr th:only-of-type {\n",
       "        vertical-align: middle;\n",
       "    }\n",
       "\n",
       "    .dataframe tbody tr th {\n",
       "        vertical-align: top;\n",
       "    }\n",
       "\n",
       "    .dataframe thead th {\n",
       "        text-align: right;\n",
       "    }\n",
       "</style>\n",
       "<table border=\"1\" class=\"dataframe\">\n",
       "  <thead>\n",
       "    <tr style=\"text-align: right;\">\n",
       "      <th></th>\n",
       "      <th>DRIVER_ID</th>\n",
       "      <th>GENDER</th>\n",
       "      <th>CREDIT_SCORE</th>\n",
       "      <th>VEHICLE_ID</th>\n",
       "      <th>AGE</th>\n",
       "    </tr>\n",
       "  </thead>\n",
       "  <tbody>\n",
       "    <tr>\n",
       "      <th>0</th>\n",
       "      <td>104132812</td>\n",
       "      <td>2</td>\n",
       "      <td>824</td>\n",
       "      <td>7399455</td>\n",
       "      <td>32</td>\n",
       "    </tr>\n",
       "    <tr>\n",
       "      <th>1</th>\n",
       "      <td>104132854</td>\n",
       "      <td>2</td>\n",
       "      <td>824</td>\n",
       "      <td>6078430</td>\n",
       "      <td>88</td>\n",
       "    </tr>\n",
       "    <tr>\n",
       "      <th>2</th>\n",
       "      <td>104132876</td>\n",
       "      <td>2</td>\n",
       "      <td>750</td>\n",
       "      <td>6212210</td>\n",
       "      <td>34</td>\n",
       "    </tr>\n",
       "    <tr>\n",
       "      <th>3</th>\n",
       "      <td>104132895</td>\n",
       "      <td>2</td>\n",
       "      <td>750</td>\n",
       "      <td>7416184</td>\n",
       "      <td>22</td>\n",
       "    </tr>\n",
       "    <tr>\n",
       "      <th>4</th>\n",
       "      <td>104132907</td>\n",
       "      <td>2</td>\n",
       "      <td>824</td>\n",
       "      <td>6078430</td>\n",
       "      <td>88</td>\n",
       "    </tr>\n",
       "  </tbody>\n",
       "</table>\n",
       "</div>"
      ],
      "text/plain": [
       "   DRIVER_ID  GENDER CREDIT_SCORE  VEHICLE_ID  AGE\n",
       "0  104132812       2          824     7399455   32\n",
       "1  104132854       2          824     6078430   88\n",
       "2  104132876       2          750     6212210   34\n",
       "3  104132895       2          750     7416184   22\n",
       "4  104132907       2          824     6078430   88"
      ]
     },
     "execution_count": 124,
     "metadata": {},
     "output_type": "execute_result"
    }
   ],
   "source": [
    "drivers_df.head()"
   ]
  },
  {
   "cell_type": "code",
   "execution_count": 125,
   "id": "97af4cb1",
   "metadata": {},
   "outputs": [],
   "source": [
    "drivers_df.to_csv(\"cleaned_data/drivers.csv\", index=False)"
   ]
  },
  {
   "cell_type": "code",
   "execution_count": null,
   "id": "0a125f15",
   "metadata": {},
   "outputs": [],
   "source": []
  }
 ],
 "metadata": {
  "kernelspec": {
   "display_name": "mlenv",
   "language": "python",
   "name": "mlenv"
  },
  "language_info": {
   "codemirror_mode": {
    "name": "ipython",
    "version": 3
   },
   "file_extension": ".py",
   "mimetype": "text/x-python",
   "name": "python",
   "nbconvert_exporter": "python",
   "pygments_lexer": "ipython3",
   "version": "3.7.13"
  }
 },
 "nbformat": 4,
 "nbformat_minor": 5
}
