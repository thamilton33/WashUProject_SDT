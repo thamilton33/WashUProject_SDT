{
 "cells": [
  {
   "cell_type": "code",
   "execution_count": 1,
   "id": "f118bcd2",
   "metadata": {},
   "outputs": [],
   "source": [
    "import pandas as pd\n",
    "drivers_df = pd.read_csv(\"cleaned_data/drivers.csv\")"
   ]
  },
  {
   "cell_type": "code",
   "execution_count": 2,
   "id": "85c5cd25",
   "metadata": {},
   "outputs": [
    {
     "data": {
      "text/html": [
       "<div>\n",
       "<style scoped>\n",
       "    .dataframe tbody tr th:only-of-type {\n",
       "        vertical-align: middle;\n",
       "    }\n",
       "\n",
       "    .dataframe tbody tr th {\n",
       "        vertical-align: top;\n",
       "    }\n",
       "\n",
       "    .dataframe thead th {\n",
       "        text-align: right;\n",
       "    }\n",
       "</style>\n",
       "<table border=\"1\" class=\"dataframe\">\n",
       "  <thead>\n",
       "    <tr style=\"text-align: right;\">\n",
       "      <th></th>\n",
       "      <th>Unnamed: 0</th>\n",
       "      <th>DRIVER_ID</th>\n",
       "      <th>GENDER</th>\n",
       "      <th>CREDIT_SCORE</th>\n",
       "      <th>VEHICLE_ID</th>\n",
       "      <th>AGE</th>\n",
       "    </tr>\n",
       "  </thead>\n",
       "  <tbody>\n",
       "    <tr>\n",
       "      <th>0</th>\n",
       "      <td>0</td>\n",
       "      <td>1</td>\n",
       "      <td>2</td>\n",
       "      <td>824.0</td>\n",
       "      <td>7399455</td>\n",
       "      <td>32</td>\n",
       "    </tr>\n",
       "    <tr>\n",
       "      <th>1</th>\n",
       "      <td>1</td>\n",
       "      <td>2</td>\n",
       "      <td>2</td>\n",
       "      <td>824.0</td>\n",
       "      <td>6078430</td>\n",
       "      <td>88</td>\n",
       "    </tr>\n",
       "    <tr>\n",
       "      <th>2</th>\n",
       "      <td>2</td>\n",
       "      <td>3</td>\n",
       "      <td>2</td>\n",
       "      <td>750.0</td>\n",
       "      <td>6212210</td>\n",
       "      <td>34</td>\n",
       "    </tr>\n",
       "    <tr>\n",
       "      <th>3</th>\n",
       "      <td>3</td>\n",
       "      <td>4</td>\n",
       "      <td>2</td>\n",
       "      <td>750.0</td>\n",
       "      <td>7416184</td>\n",
       "      <td>22</td>\n",
       "    </tr>\n",
       "    <tr>\n",
       "      <th>4</th>\n",
       "      <td>4</td>\n",
       "      <td>5</td>\n",
       "      <td>2</td>\n",
       "      <td>824.0</td>\n",
       "      <td>6078430</td>\n",
       "      <td>88</td>\n",
       "    </tr>\n",
       "  </tbody>\n",
       "</table>\n",
       "</div>"
      ],
      "text/plain": [
       "   Unnamed: 0  DRIVER_ID  GENDER  CREDIT_SCORE  VEHICLE_ID  AGE\n",
       "0           0          1       2         824.0     7399455   32\n",
       "1           1          2       2         824.0     6078430   88\n",
       "2           2          3       2         750.0     6212210   34\n",
       "3           3          4       2         750.0     7416184   22\n",
       "4           4          5       2         824.0     6078430   88"
      ]
     },
     "execution_count": 2,
     "metadata": {},
     "output_type": "execute_result"
    }
   ],
   "source": [
    "drivers_df.head()"
   ]
  },
  {
   "cell_type": "code",
   "execution_count": 3,
   "id": "e8d8e508",
   "metadata": {},
   "outputs": [],
   "source": [
    "drivers_df['CREDIT_SCORE'] = pd.to_numeric(drivers_df['CREDIT_SCORE'], errors='coerce')"
   ]
  },
  {
   "cell_type": "code",
   "execution_count": 4,
   "id": "be6132db",
   "metadata": {},
   "outputs": [
    {
     "name": "stdout",
     "output_type": "stream",
     "text": [
      "<class 'pandas.core.frame.DataFrame'>\n",
      "RangeIndex: 8657405 entries, 0 to 8657404\n",
      "Data columns (total 6 columns):\n",
      " #   Column        Dtype  \n",
      "---  ------        -----  \n",
      " 0   Unnamed: 0    int64  \n",
      " 1   DRIVER_ID     int64  \n",
      " 2   GENDER        int64  \n",
      " 3   CREDIT_SCORE  float64\n",
      " 4   VEHICLE_ID    int64  \n",
      " 5   AGE           int64  \n",
      "dtypes: float64(1), int64(5)\n",
      "memory usage: 396.3 MB\n"
     ]
    }
   ],
   "source": [
    "drivers_df.info()"
   ]
  },
  {
   "cell_type": "code",
   "execution_count": 5,
   "id": "a70514c4",
   "metadata": {},
   "outputs": [
    {
     "name": "stdout",
     "output_type": "stream",
     "text": [
      "         Unnamed: 0  DRIVER_ID  GENDER  CREDIT_SCORE  VEHICLE_ID  AGE\n",
      "2735           2735       2736       2           NaN     6801790   44\n",
      "4022           4022       4023       1           NaN     6004314   57\n",
      "4023           4023       4024       1           NaN     6004314   23\n",
      "4024           4024       4025       2           NaN     6344957   44\n",
      "4297           4297       4298       2           NaN     6801792   23\n",
      "...             ...        ...     ...           ...         ...  ...\n",
      "8656607     8656607    8656608       1           NaN     6621476   27\n",
      "8656787     8656787    8656788       1           NaN     6621476   56\n",
      "8656791     8656791    8656792       2           NaN     6621476   52\n",
      "8656792     8656792    8656793       1           NaN     6621476   30\n",
      "8656819     8656819    8656820       1           NaN     6114738   67\n",
      "\n",
      "[33456 rows x 6 columns]\n"
     ]
    },
    {
     "data": {
      "text/plain": [
       "Unnamed: 0      0\n",
       "DRIVER_ID       0\n",
       "GENDER          0\n",
       "CREDIT_SCORE    0\n",
       "VEHICLE_ID      0\n",
       "AGE             0\n",
       "dtype: int64"
      ]
     },
     "execution_count": 5,
     "metadata": {},
     "output_type": "execute_result"
    }
   ],
   "source": [
    "# All this clean still  credit shows the NAN field - I wonder what happened.\n",
    "# Total size of the data (8657405) - total NAN credit field (33456), isn't bad\n",
    "# So, drop the NAN\n",
    "\n",
    "check_for_nan =drivers_df[drivers_df['CREDIT_SCORE'].isnull() ==True]\n",
    "print (check_for_nan)\n",
    "drivers_df = drivers_df.dropna(subset = ['CREDIT_SCORE'])\n"
   ]
  },
  {
   "cell_type": "code",
   "execution_count": 6,
   "id": "ff0dd8f4",
   "metadata": {},
   "outputs": [
    {
     "data": {
      "text/plain": [
       "Unnamed: 0      0\n",
       "DRIVER_ID       0\n",
       "GENDER          0\n",
       "CREDIT_SCORE    0\n",
       "VEHICLE_ID      0\n",
       "AGE             0\n",
       "dtype: int64"
      ]
     },
     "execution_count": 6,
     "metadata": {},
     "output_type": "execute_result"
    }
   ],
   "source": [
    "drivers_df.isna().sum()"
   ]
  },
  {
   "cell_type": "code",
   "execution_count": 7,
   "id": "78dc9579",
   "metadata": {},
   "outputs": [],
   "source": [
    "drivers_df.to_csv(\"cleaned_data/drivers.csv\", index=True)"
   ]
  },
  {
   "cell_type": "code",
   "execution_count": null,
   "id": "4a346296",
   "metadata": {},
   "outputs": [],
   "source": [
    "# Credit score had non-numberic values"
   ]
  }
 ],
 "metadata": {
  "kernelspec": {
   "display_name": "mlenv",
   "language": "python",
   "name": "mlenv"
  },
  "language_info": {
   "codemirror_mode": {
    "name": "ipython",
    "version": 3
   },
   "file_extension": ".py",
   "mimetype": "text/x-python",
   "name": "python",
   "nbconvert_exporter": "python",
   "pygments_lexer": "ipython3",
   "version": "3.7.13"
  }
 },
 "nbformat": 4,
 "nbformat_minor": 5
}
