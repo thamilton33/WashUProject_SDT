{
 "cells": [
  {
   "cell_type": "code",
   "execution_count": 1,
   "metadata": {
    "executionInfo": {
     "elapsed": 25156,
     "status": "ok",
     "timestamp": 1658783891511,
     "user": {
      "displayName": "Ann Kim",
      "userId": "13476772610158755832"
     },
     "user_tz": 300
    },
    "id": "ZQRSKyHXJO6w"
   },
   "outputs": [],
   "source": [
    "# drivers_df =pd.read_csv(\"cleaned_data/drivers.csv\", nrows = 5000)"
   ]
  },
  {
   "cell_type": "code",
   "execution_count": 2,
   "metadata": {
    "executionInfo": {
     "elapsed": 1193,
     "status": "ok",
     "timestamp": 1658783896146,
     "user": {
      "displayName": "Ann Kim",
      "userId": "13476772610158755832"
     },
     "user_tz": 300
    },
    "id": "z2wHOxi3LQa0"
   },
   "outputs": [],
   "source": [
    "import pandas as pd\n",
    "from sklearn import preprocessing\n",
    "from sklearn.preprocessing import StandardScaler\n",
    "from sklearn.model_selection import train_test_split\n",
    "\n",
    "import warnings\n",
    "warnings.filterwarnings('ignore')"
   ]
  },
  {
   "cell_type": "code",
   "execution_count": 3,
   "metadata": {
    "colab": {
     "base_uri": "https://localhost:8080/",
     "height": 206
    },
    "executionInfo": {
     "elapsed": 361,
     "status": "ok",
     "timestamp": 1658783898747,
     "user": {
      "displayName": "Ann Kim",
      "userId": "13476772610158755832"
     },
     "user_tz": 300
    },
    "id": "drTW3emRLZ6s",
    "outputId": "e8003602-7551-4c52-cffd-3e709356a586"
   },
   "outputs": [],
   "source": [
    "#Test1 - 7572167 - GMC\n",
    "#Test2 - 7572279 - toyota\n",
    "#Test3 - 7572212 - Hyundai\n",
    "#Test4 - 7571367 - Tesla - 847?\n",
    "#dr 1 - 6212210 - AVG 670 - FORD\n",
    "#dr 2 - 6074990 - AVG -710 - 710 - most accurate \n",
    "\n",
    "input_id = 6074990  \n",
    "dr_df =pd.read_csv(\"cleaned_data/drivers.csv\")\n",
    "veh_df =pd.read_csv(\"cleaned_data/vehicles.csv\")"
   ]
  },
  {
   "cell_type": "code",
   "execution_count": 4,
   "metadata": {
    "colab": {
     "base_uri": "https://localhost:8080/",
     "height": 206
    },
    "executionInfo": {
     "elapsed": 354,
     "status": "ok",
     "timestamp": 1658783904976,
     "user": {
      "displayName": "Ann Kim",
      "userId": "13476772610158755832"
     },
     "user_tz": 300
    },
    "id": "Ej8eo93wLiJl",
    "outputId": "b8ddcf7a-4fc5-4356-8645-4e130867a8cb"
   },
   "outputs": [
    {
     "data": {
      "text/html": [
       "<div>\n",
       "<style scoped>\n",
       "    .dataframe tbody tr th:only-of-type {\n",
       "        vertical-align: middle;\n",
       "    }\n",
       "\n",
       "    .dataframe tbody tr th {\n",
       "        vertical-align: top;\n",
       "    }\n",
       "\n",
       "    .dataframe thead th {\n",
       "        text-align: right;\n",
       "    }\n",
       "</style>\n",
       "<table border=\"1\" class=\"dataframe\">\n",
       "  <thead>\n",
       "    <tr style=\"text-align: right;\">\n",
       "      <th></th>\n",
       "      <th>DRIVER_ID</th>\n",
       "      <th>GENDER</th>\n",
       "      <th>CREDIT_SCORE</th>\n",
       "      <th>VEHICLE_ID</th>\n",
       "      <th>AGE</th>\n",
       "    </tr>\n",
       "  </thead>\n",
       "  <tbody>\n",
       "    <tr>\n",
       "      <th>29</th>\n",
       "      <td>30</td>\n",
       "      <td>1</td>\n",
       "      <td>750</td>\n",
       "      <td>6074990</td>\n",
       "      <td>45</td>\n",
       "    </tr>\n",
       "    <tr>\n",
       "      <th>191071</th>\n",
       "      <td>191930</td>\n",
       "      <td>1</td>\n",
       "      <td>710</td>\n",
       "      <td>6074990</td>\n",
       "      <td>63</td>\n",
       "    </tr>\n",
       "    <tr>\n",
       "      <th>295258</th>\n",
       "      <td>296774</td>\n",
       "      <td>1</td>\n",
       "      <td>710</td>\n",
       "      <td>6074990</td>\n",
       "      <td>46</td>\n",
       "    </tr>\n",
       "    <tr>\n",
       "      <th>295270</th>\n",
       "      <td>296786</td>\n",
       "      <td>1</td>\n",
       "      <td>710</td>\n",
       "      <td>6074990</td>\n",
       "      <td>25</td>\n",
       "    </tr>\n",
       "    <tr>\n",
       "      <th>295366</th>\n",
       "      <td>296882</td>\n",
       "      <td>1</td>\n",
       "      <td>710</td>\n",
       "      <td>6074990</td>\n",
       "      <td>46</td>\n",
       "    </tr>\n",
       "  </tbody>\n",
       "</table>\n",
       "</div>"
      ],
      "text/plain": [
       "        DRIVER_ID  GENDER  CREDIT_SCORE  VEHICLE_ID  AGE\n",
       "29             30       1           750     6074990   45\n",
       "191071     191930       1           710     6074990   63\n",
       "295258     296774       1           710     6074990   46\n",
       "295270     296786       1           710     6074990   25\n",
       "295366     296882       1           710     6074990   46"
      ]
     },
     "execution_count": 4,
     "metadata": {},
     "output_type": "execute_result"
    }
   ],
   "source": [
    "drivers_df = dr_df[dr_df['VEHICLE_ID'] == input_id]\n",
    "drivers_df.head()"
   ]
  },
  {
   "cell_type": "code",
   "execution_count": 5,
   "metadata": {},
   "outputs": [
    {
     "data": {
      "text/plain": [
       "14"
      ]
     },
     "execution_count": 5,
     "metadata": {},
     "output_type": "execute_result"
    }
   ],
   "source": [
    "sample_count = len(drivers_df)\n",
    "sample_count"
   ]
  },
  {
   "cell_type": "code",
   "execution_count": 6,
   "metadata": {},
   "outputs": [
    {
     "data": {
      "text/html": [
       "<div>\n",
       "<style scoped>\n",
       "    .dataframe tbody tr th:only-of-type {\n",
       "        vertical-align: middle;\n",
       "    }\n",
       "\n",
       "    .dataframe tbody tr th {\n",
       "        vertical-align: top;\n",
       "    }\n",
       "\n",
       "    .dataframe thead th {\n",
       "        text-align: right;\n",
       "    }\n",
       "</style>\n",
       "<table border=\"1\" class=\"dataframe\">\n",
       "  <thead>\n",
       "    <tr style=\"text-align: right;\">\n",
       "      <th></th>\n",
       "      <th>VEHICLE_ID</th>\n",
       "      <th>YEAR</th>\n",
       "      <th>MAKE</th>\n",
       "      <th>MODEL</th>\n",
       "    </tr>\n",
       "  </thead>\n",
       "  <tbody>\n",
       "    <tr>\n",
       "      <th>1774</th>\n",
       "      <td>6074714</td>\n",
       "      <td>2012</td>\n",
       "      <td>JEEP</td>\n",
       "      <td>COMPASS SPT</td>\n",
       "    </tr>\n",
       "    <tr>\n",
       "      <th>1775</th>\n",
       "      <td>6074715</td>\n",
       "      <td>2017</td>\n",
       "      <td>JEEP</td>\n",
       "      <td>COMPASS SPT</td>\n",
       "    </tr>\n",
       "    <tr>\n",
       "      <th>1776</th>\n",
       "      <td>6074716</td>\n",
       "      <td>2012</td>\n",
       "      <td>JEEP</td>\n",
       "      <td>COMPASS SPT</td>\n",
       "    </tr>\n",
       "    <tr>\n",
       "      <th>1777</th>\n",
       "      <td>6074717</td>\n",
       "      <td>2013</td>\n",
       "      <td>JEEP</td>\n",
       "      <td>COMPASS SPT</td>\n",
       "    </tr>\n",
       "    <tr>\n",
       "      <th>1778</th>\n",
       "      <td>6074718</td>\n",
       "      <td>2014</td>\n",
       "      <td>JEEP</td>\n",
       "      <td>COMPASS LTD</td>\n",
       "    </tr>\n",
       "  </tbody>\n",
       "</table>\n",
       "</div>"
      ],
      "text/plain": [
       "      VEHICLE_ID  YEAR  MAKE        MODEL\n",
       "1774     6074714  2012  JEEP  COMPASS SPT\n",
       "1775     6074715  2017  JEEP  COMPASS SPT\n",
       "1776     6074716  2012  JEEP  COMPASS SPT\n",
       "1777     6074717  2013  JEEP  COMPASS SPT\n",
       "1778     6074718  2014  JEEP  COMPASS LTD"
      ]
     },
     "execution_count": 6,
     "metadata": {},
     "output_type": "execute_result"
    }
   ],
   "source": [
    "#Extend samples\n",
    "if sample_count > 500:\n",
    "    vehicle_entered = veh_df[veh_df['VEHICLE_ID'] == input_id]\n",
    "else:\n",
    "    vehicle_entered = veh_df[veh_df['VEHICLE_ID'] == input_id] \n",
    "    vehicle_make = vehicle_entered['MAKE'].item()\n",
    "    vehicle_subset = veh_df[veh_df['MAKE'] == vehicle_make]\n",
    "    \n",
    "vehicle_subset.head()"
   ]
  },
  {
   "cell_type": "code",
   "execution_count": 7,
   "metadata": {},
   "outputs": [
    {
     "data": {
      "text/html": [
       "<div>\n",
       "<style scoped>\n",
       "    .dataframe tbody tr th:only-of-type {\n",
       "        vertical-align: middle;\n",
       "    }\n",
       "\n",
       "    .dataframe tbody tr th {\n",
       "        vertical-align: top;\n",
       "    }\n",
       "\n",
       "    .dataframe thead th {\n",
       "        text-align: right;\n",
       "    }\n",
       "</style>\n",
       "<table border=\"1\" class=\"dataframe\">\n",
       "  <thead>\n",
       "    <tr style=\"text-align: right;\">\n",
       "      <th></th>\n",
       "      <th>VEHICLE_ID</th>\n",
       "      <th>YEAR</th>\n",
       "      <th>MAKE</th>\n",
       "      <th>MODEL</th>\n",
       "    </tr>\n",
       "  </thead>\n",
       "  <tbody>\n",
       "    <tr>\n",
       "      <th>1774</th>\n",
       "      <td>6074714</td>\n",
       "      <td>2012</td>\n",
       "      <td>JEEP</td>\n",
       "      <td>COMPASS SPT</td>\n",
       "    </tr>\n",
       "    <tr>\n",
       "      <th>1775</th>\n",
       "      <td>6074715</td>\n",
       "      <td>2017</td>\n",
       "      <td>JEEP</td>\n",
       "      <td>COMPASS SPT</td>\n",
       "    </tr>\n",
       "    <tr>\n",
       "      <th>1776</th>\n",
       "      <td>6074716</td>\n",
       "      <td>2012</td>\n",
       "      <td>JEEP</td>\n",
       "      <td>COMPASS SPT</td>\n",
       "    </tr>\n",
       "    <tr>\n",
       "      <th>1777</th>\n",
       "      <td>6074717</td>\n",
       "      <td>2013</td>\n",
       "      <td>JEEP</td>\n",
       "      <td>COMPASS SPT</td>\n",
       "    </tr>\n",
       "    <tr>\n",
       "      <th>1778</th>\n",
       "      <td>6074718</td>\n",
       "      <td>2014</td>\n",
       "      <td>JEEP</td>\n",
       "      <td>COMPASS LTD</td>\n",
       "    </tr>\n",
       "  </tbody>\n",
       "</table>\n",
       "</div>"
      ],
      "text/plain": [
       "      VEHICLE_ID  YEAR  MAKE        MODEL\n",
       "1774     6074714  2012  JEEP  COMPASS SPT\n",
       "1775     6074715  2017  JEEP  COMPASS SPT\n",
       "1776     6074716  2012  JEEP  COMPASS SPT\n",
       "1777     6074717  2013  JEEP  COMPASS SPT\n",
       "1778     6074718  2014  JEEP  COMPASS LTD"
      ]
     },
     "execution_count": 7,
     "metadata": {},
     "output_type": "execute_result"
    }
   ],
   "source": [
    "#Extend samples to MAKE\n",
    "if sample_count > 500:\n",
    "    vehicle_entered = veh_df[veh_df['VEHICLE_ID'] == input_id]\n",
    "else:\n",
    "    vehicle_entered = veh_df[veh_df['VEHICLE_ID'] == input_id] \n",
    "    vehicle_make = vehicle_entered['MAKE'].item()\n",
    "    vehicle_subset = veh_df[veh_df['MAKE'] == vehicle_make]\n",
    "    \n",
    "vehicle_subset.head()"
   ]
  },
  {
   "cell_type": "code",
   "execution_count": 8,
   "metadata": {},
   "outputs": [
    {
     "data": {
      "text/html": [
       "<div>\n",
       "<style scoped>\n",
       "    .dataframe tbody tr th:only-of-type {\n",
       "        vertical-align: middle;\n",
       "    }\n",
       "\n",
       "    .dataframe tbody tr th {\n",
       "        vertical-align: top;\n",
       "    }\n",
       "\n",
       "    .dataframe thead th {\n",
       "        text-align: right;\n",
       "    }\n",
       "</style>\n",
       "<table border=\"1\" class=\"dataframe\">\n",
       "  <thead>\n",
       "    <tr style=\"text-align: right;\">\n",
       "      <th></th>\n",
       "      <th>DRIVER_ID</th>\n",
       "      <th>GENDER</th>\n",
       "      <th>CREDIT_SCORE</th>\n",
       "      <th>VEHICLE_ID</th>\n",
       "      <th>AGE</th>\n",
       "      <th>YEAR</th>\n",
       "      <th>MAKE</th>\n",
       "      <th>MODEL</th>\n",
       "    </tr>\n",
       "  </thead>\n",
       "  <tbody>\n",
       "    <tr>\n",
       "      <th>0</th>\n",
       "      <td>30</td>\n",
       "      <td>1</td>\n",
       "      <td>750</td>\n",
       "      <td>6074990</td>\n",
       "      <td>45</td>\n",
       "      <td>2012</td>\n",
       "      <td>JEEP</td>\n",
       "      <td>COMPASS LTD</td>\n",
       "    </tr>\n",
       "    <tr>\n",
       "      <th>1</th>\n",
       "      <td>191930</td>\n",
       "      <td>1</td>\n",
       "      <td>710</td>\n",
       "      <td>6074990</td>\n",
       "      <td>63</td>\n",
       "      <td>2012</td>\n",
       "      <td>JEEP</td>\n",
       "      <td>COMPASS LTD</td>\n",
       "    </tr>\n",
       "    <tr>\n",
       "      <th>2</th>\n",
       "      <td>296774</td>\n",
       "      <td>1</td>\n",
       "      <td>710</td>\n",
       "      <td>6074990</td>\n",
       "      <td>46</td>\n",
       "      <td>2012</td>\n",
       "      <td>JEEP</td>\n",
       "      <td>COMPASS LTD</td>\n",
       "    </tr>\n",
       "    <tr>\n",
       "      <th>3</th>\n",
       "      <td>296786</td>\n",
       "      <td>1</td>\n",
       "      <td>710</td>\n",
       "      <td>6074990</td>\n",
       "      <td>25</td>\n",
       "      <td>2012</td>\n",
       "      <td>JEEP</td>\n",
       "      <td>COMPASS LTD</td>\n",
       "    </tr>\n",
       "    <tr>\n",
       "      <th>4</th>\n",
       "      <td>296882</td>\n",
       "      <td>1</td>\n",
       "      <td>710</td>\n",
       "      <td>6074990</td>\n",
       "      <td>46</td>\n",
       "      <td>2012</td>\n",
       "      <td>JEEP</td>\n",
       "      <td>COMPASS LTD</td>\n",
       "    </tr>\n",
       "  </tbody>\n",
       "</table>\n",
       "</div>"
      ],
      "text/plain": [
       "   DRIVER_ID  GENDER  CREDIT_SCORE  VEHICLE_ID  AGE  YEAR  MAKE        MODEL\n",
       "0         30       1           750     6074990   45  2012  JEEP  COMPASS LTD\n",
       "1     191930       1           710     6074990   63  2012  JEEP  COMPASS LTD\n",
       "2     296774       1           710     6074990   46  2012  JEEP  COMPASS LTD\n",
       "3     296786       1           710     6074990   25  2012  JEEP  COMPASS LTD\n",
       "4     296882       1           710     6074990   46  2012  JEEP  COMPASS LTD"
      ]
     },
     "execution_count": 8,
     "metadata": {},
     "output_type": "execute_result"
    }
   ],
   "source": [
    "drivers_subset = dr_df.merge(vehicle_subset, left_on='VEHICLE_ID', right_on='VEHICLE_ID')\n",
    "drivers_subset.head()"
   ]
  },
  {
   "cell_type": "code",
   "execution_count": 9,
   "metadata": {},
   "outputs": [
    {
     "name": "stdout",
     "output_type": "stream",
     "text": [
      "26505\n"
     ]
    }
   ],
   "source": [
    "sample_count = len(drivers_subset)\n",
    "print(sample_count)"
   ]
  },
  {
   "cell_type": "code",
   "execution_count": 10,
   "metadata": {},
   "outputs": [],
   "source": [
    "# what size is the best.. 0ver 10,000 wouldn't run - 5000?"
   ]
  },
  {
   "cell_type": "code",
   "execution_count": 11,
   "metadata": {},
   "outputs": [
    {
     "name": "stdout",
     "output_type": "stream",
     "text": [
      "26054\n",
      "5000\n"
     ]
    },
    {
     "data": {
      "text/html": [
       "<div>\n",
       "<style scoped>\n",
       "    .dataframe tbody tr th:only-of-type {\n",
       "        vertical-align: middle;\n",
       "    }\n",
       "\n",
       "    .dataframe tbody tr th {\n",
       "        vertical-align: top;\n",
       "    }\n",
       "\n",
       "    .dataframe thead th {\n",
       "        text-align: right;\n",
       "    }\n",
       "</style>\n",
       "<table border=\"1\" class=\"dataframe\">\n",
       "  <thead>\n",
       "    <tr style=\"text-align: right;\">\n",
       "      <th></th>\n",
       "      <th>DRIVER_ID</th>\n",
       "      <th>GENDER</th>\n",
       "      <th>CREDIT_SCORE</th>\n",
       "      <th>VEHICLE_ID</th>\n",
       "      <th>AGE</th>\n",
       "    </tr>\n",
       "  </thead>\n",
       "  <tbody>\n",
       "    <tr>\n",
       "      <th>0</th>\n",
       "      <td>30</td>\n",
       "      <td>1</td>\n",
       "      <td>750</td>\n",
       "      <td>6074990</td>\n",
       "      <td>45</td>\n",
       "    </tr>\n",
       "    <tr>\n",
       "      <th>1</th>\n",
       "      <td>191930</td>\n",
       "      <td>1</td>\n",
       "      <td>710</td>\n",
       "      <td>6074990</td>\n",
       "      <td>63</td>\n",
       "    </tr>\n",
       "    <tr>\n",
       "      <th>2</th>\n",
       "      <td>296774</td>\n",
       "      <td>1</td>\n",
       "      <td>710</td>\n",
       "      <td>6074990</td>\n",
       "      <td>46</td>\n",
       "    </tr>\n",
       "    <tr>\n",
       "      <th>3</th>\n",
       "      <td>296786</td>\n",
       "      <td>1</td>\n",
       "      <td>710</td>\n",
       "      <td>6074990</td>\n",
       "      <td>25</td>\n",
       "    </tr>\n",
       "    <tr>\n",
       "      <th>4</th>\n",
       "      <td>296882</td>\n",
       "      <td>1</td>\n",
       "      <td>710</td>\n",
       "      <td>6074990</td>\n",
       "      <td>46</td>\n",
       "    </tr>\n",
       "  </tbody>\n",
       "</table>\n",
       "</div>"
      ],
      "text/plain": [
       "   DRIVER_ID  GENDER  CREDIT_SCORE  VEHICLE_ID  AGE\n",
       "0         30       1           750     6074990   45\n",
       "1     191930       1           710     6074990   63\n",
       "2     296774       1           710     6074990   46\n",
       "3     296786       1           710     6074990   25\n",
       "4     296882       1           710     6074990   46"
      ]
     },
     "execution_count": 11,
     "metadata": {},
     "output_type": "execute_result"
    }
   ],
   "source": [
    "#Extend samples if necessary again or reduce to first 10,000 to 500\n",
    "# Filter outliers\n",
    "drivers_subset = drivers_subset[drivers_subset['CREDIT_SCORE'] > 300]\n",
    "drivers_subset = drivers_subset[drivers_subset['AGE'] > 18]                                \n",
    "sample_count = len(drivers_subset)\n",
    "print(sample_count)  \n",
    "                                \n",
    "if sample_count > 5000:   \n",
    "    drivers_subset = drivers_subset.head(5000)\n",
    "    drivers_df = drivers_subset.drop(columns =['YEAR', 'MAKE', 'MODEL'])    \n",
    "elif sample_count > 500:\n",
    "    drivers_df = drivers_subset.drop(columns =['YEAR', 'MAKE', 'MODEL'])\n",
    "else:\n",
    "    vehicle_entered = veh_df[veh_df['VEHICLE_ID'] == input_id] \n",
    "    vehicle_year = vehicle_entered['YEAR'].item()\n",
    "    vehicle_subset = veh_df[veh_df['YEAR'] == vehicle_year]\n",
    "\n",
    "sample_count = len(drivers_df)\n",
    "print(sample_count)\n",
    "drivers_df.head()"
   ]
  },
  {
   "cell_type": "code",
   "execution_count": 12,
   "metadata": {},
   "outputs": [
    {
     "name": "stdout",
     "output_type": "stream",
     "text": [
      "5000\n",
      "PASS...\n"
     ]
    }
   ],
   "source": [
    "sample_count = len(drivers_subset)\n",
    "print(sample_count)\n",
    "if sample_count < 500:\n",
    "    drivers_subset = dr_df.merge(vehicle_subset, left_on='VEHICLE_ID', right_on='VEHICLE_ID')\n",
    "    drivers_subset.head()\n",
    "else:\n",
    "    print(\"PASS...\")"
   ]
  },
  {
   "cell_type": "code",
   "execution_count": 13,
   "metadata": {},
   "outputs": [
    {
     "name": "stdout",
     "output_type": "stream",
     "text": [
      "PASS...\n"
     ]
    }
   ],
   "source": [
    "if sample_count < 500:\n",
    "    sample_count = len(drivers_subset)\n",
    "    print(sample_count)\n",
    "    drivers_df = drivers_subset.drop(columns =['YEAR', 'MAKE', 'MODEL'])\n",
    "    print(len(drivers_df))\n",
    "else:\n",
    "    print(\"PASS...\")\n"
   ]
  },
  {
   "cell_type": "code",
   "execution_count": 14,
   "metadata": {},
   "outputs": [
    {
     "data": {
      "text/html": [
       "<div>\n",
       "<style scoped>\n",
       "    .dataframe tbody tr th:only-of-type {\n",
       "        vertical-align: middle;\n",
       "    }\n",
       "\n",
       "    .dataframe tbody tr th {\n",
       "        vertical-align: top;\n",
       "    }\n",
       "\n",
       "    .dataframe thead th {\n",
       "        text-align: right;\n",
       "    }\n",
       "</style>\n",
       "<table border=\"1\" class=\"dataframe\">\n",
       "  <thead>\n",
       "    <tr style=\"text-align: right;\">\n",
       "      <th></th>\n",
       "      <th>GENDER</th>\n",
       "      <th>CREDIT_SCORE</th>\n",
       "      <th>VEHICLE_ID</th>\n",
       "      <th>AGE</th>\n",
       "    </tr>\n",
       "  </thead>\n",
       "  <tbody>\n",
       "    <tr>\n",
       "      <th>0</th>\n",
       "      <td>1</td>\n",
       "      <td>750</td>\n",
       "      <td>6074990</td>\n",
       "      <td>45</td>\n",
       "    </tr>\n",
       "    <tr>\n",
       "      <th>1</th>\n",
       "      <td>1</td>\n",
       "      <td>710</td>\n",
       "      <td>6074990</td>\n",
       "      <td>63</td>\n",
       "    </tr>\n",
       "    <tr>\n",
       "      <th>2</th>\n",
       "      <td>1</td>\n",
       "      <td>710</td>\n",
       "      <td>6074990</td>\n",
       "      <td>46</td>\n",
       "    </tr>\n",
       "    <tr>\n",
       "      <th>3</th>\n",
       "      <td>1</td>\n",
       "      <td>710</td>\n",
       "      <td>6074990</td>\n",
       "      <td>25</td>\n",
       "    </tr>\n",
       "    <tr>\n",
       "      <th>4</th>\n",
       "      <td>1</td>\n",
       "      <td>710</td>\n",
       "      <td>6074990</td>\n",
       "      <td>46</td>\n",
       "    </tr>\n",
       "  </tbody>\n",
       "</table>\n",
       "</div>"
      ],
      "text/plain": [
       "   GENDER  CREDIT_SCORE  VEHICLE_ID  AGE\n",
       "0       1           750     6074990   45\n",
       "1       1           710     6074990   63\n",
       "2       1           710     6074990   46\n",
       "3       1           710     6074990   25\n",
       "4       1           710     6074990   46"
      ]
     },
     "execution_count": 14,
     "metadata": {},
     "output_type": "execute_result"
    }
   ],
   "source": [
    "#Fianlly drop driver ID for the ML model\n",
    "\n",
    "drivers_df = drivers_df.drop(columns='DRIVER_ID')\n",
    "drivers_df.head()"
   ]
  },
  {
   "cell_type": "code",
   "execution_count": 15,
   "metadata": {
    "executionInfo": {
     "elapsed": 711,
     "status": "ok",
     "timestamp": 1658783934473,
     "user": {
      "displayName": "Ann Kim",
      "userId": "13476772610158755832"
     },
     "user_tz": 300
    },
    "id": "-J0jwsBSLGbd"
   },
   "outputs": [],
   "source": [
    "# Remove creadit score outcome target from fetures data\n",
    "y = drivers_df['CREDIT_SCORE']\n",
    "X = drivers_df.drop(columns='CREDIT_SCORE')\n",
    "X_train, X_test, y_train, y_test = train_test_split(X, y, test_size=0.25, random_state=0)"
   ]
  },
  {
   "cell_type": "code",
   "execution_count": 16,
   "metadata": {
    "id": "ZXhFfKfvLHIU"
   },
   "outputs": [],
   "source": [
    "from sklearn.ensemble import RandomForestClassifier\n",
    "RF_clf = RandomForestClassifier()\n",
    "RF_model = RF_clf.fit(X_train, y_train)\n",
    "RF_prediction = RF_clf.predict(X_test)"
   ]
  },
  {
   "cell_type": "code",
   "execution_count": 18,
   "metadata": {},
   "outputs": [],
   "source": [
    "# Setup the first data as input\n",
    "import numpy as np\n",
    "test_data = np.array([1,input_id,27])\n",
    "test_data = test_data.reshape(-1, 3)\n",
    "test_data = test_data.astype(float)"
   ]
  },
  {
   "cell_type": "code",
   "execution_count": 19,
   "metadata": {},
   "outputs": [
    {
     "data": {
      "text/plain": [
       "824"
      ]
     },
     "execution_count": 19,
     "metadata": {},
     "output_type": "execute_result"
    }
   ],
   "source": [
    "RF_model.predict(test_data)[0]  # Perfect"
   ]
  }
 ],
 "metadata": {
  "colab": {
   "authorship_tag": "ABX9TyPFMo5V1XVK8q0bpZPgHsUq",
   "collapsed_sections": [],
   "name": "Model_RandomForest.ipynb",
   "provenance": []
  },
  "kernelspec": {
   "display_name": "Python 3.7.11 ('PythonData')",
   "language": "python",
   "name": "python3"
  },
  "language_info": {
   "codemirror_mode": {
    "name": "ipython",
    "version": 3
   },
   "file_extension": ".py",
   "mimetype": "text/x-python",
   "name": "python",
   "nbconvert_exporter": "python",
   "pygments_lexer": "ipython3",
   "version": "3.7.11"
  },
  "vscode": {
   "interpreter": {
    "hash": "f1736de77c674617f4d0a5ad615dda7c7a1d5144cc59881de26f8326cc7ef944"
   }
  }
 },
 "nbformat": 4,
 "nbformat_minor": 1
}
