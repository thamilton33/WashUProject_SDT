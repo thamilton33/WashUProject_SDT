{
 "cells": [
  {
   "cell_type": "code",
   "execution_count": 314,
   "metadata": {
    "executionInfo": {
     "elapsed": 25156,
     "status": "ok",
     "timestamp": 1658783891511,
     "user": {
      "displayName": "Ann Kim",
      "userId": "13476772610158755832"
     },
     "user_tz": 300
    },
    "id": "ZQRSKyHXJO6w"
   },
   "outputs": [],
   "source": [
    "# drivers_df =pd.read_csv(\"cleaned_data/drivers.csv\", nrows = 5000)"
   ]
  },
  {
   "cell_type": "code",
   "execution_count": 315,
   "metadata": {
    "executionInfo": {
     "elapsed": 1193,
     "status": "ok",
     "timestamp": 1658783896146,
     "user": {
      "displayName": "Ann Kim",
      "userId": "13476772610158755832"
     },
     "user_tz": 300
    },
    "id": "z2wHOxi3LQa0"
   },
   "outputs": [],
   "source": [
    "import pandas as pd\n",
    "from sklearn import preprocessing\n",
    "from sklearn.preprocessing import StandardScaler\n",
    "from sklearn.model_selection import train_test_split\n",
    "\n",
    "import warnings\n",
    "warnings.filterwarnings('ignore')"
   ]
  },
  {
   "cell_type": "code",
   "execution_count": 316,
   "metadata": {
    "colab": {
     "base_uri": "https://localhost:8080/",
     "height": 206
    },
    "executionInfo": {
     "elapsed": 361,
     "status": "ok",
     "timestamp": 1658783898747,
     "user": {
      "displayName": "Ann Kim",
      "userId": "13476772610158755832"
     },
     "user_tz": 300
    },
    "id": "drTW3emRLZ6s",
    "outputId": "e8003602-7551-4c52-cffd-3e709356a586"
   },
   "outputs": [],
   "source": [
    "#Test1 - 7572167 - GMC\n",
    "#Test2 - 7572279 - toyota\n",
    "#Test3 - 7572212 - Hyundai\n",
    "#Test4 - 7571367 - Tesla - 847?\n",
    "#dr 1 - 6212210 - AVG 670 - FORD\n",
    "#dr 2 - 6074990 - AVG -710 - 710 - most accurate \n",
    "\n",
    "input_id = 6074990  \n",
    "dr_df =pd.read_csv(\"cleaned_data/drivers.csv\")\n",
    "veh_df =pd.read_csv(\"cleaned_data/vehicles.csv\")"
   ]
  },
  {
   "cell_type": "code",
   "execution_count": 317,
   "metadata": {
    "colab": {
     "base_uri": "https://localhost:8080/",
     "height": 206
    },
    "executionInfo": {
     "elapsed": 354,
     "status": "ok",
     "timestamp": 1658783904976,
     "user": {
      "displayName": "Ann Kim",
      "userId": "13476772610158755832"
     },
     "user_tz": 300
    },
    "id": "Ej8eo93wLiJl",
    "outputId": "b8ddcf7a-4fc5-4356-8645-4e130867a8cb"
   },
   "outputs": [
    {
     "data": {
      "text/html": [
       "<div>\n",
       "<style scoped>\n",
       "    .dataframe tbody tr th:only-of-type {\n",
       "        vertical-align: middle;\n",
       "    }\n",
       "\n",
       "    .dataframe tbody tr th {\n",
       "        vertical-align: top;\n",
       "    }\n",
       "\n",
       "    .dataframe thead th {\n",
       "        text-align: right;\n",
       "    }\n",
       "</style>\n",
       "<table border=\"1\" class=\"dataframe\">\n",
       "  <thead>\n",
       "    <tr style=\"text-align: right;\">\n",
       "      <th></th>\n",
       "      <th>DRIVER_ID</th>\n",
       "      <th>GENDER</th>\n",
       "      <th>CREDIT_SCORE</th>\n",
       "      <th>VEHICLE_ID</th>\n",
       "      <th>AGE</th>\n",
       "    </tr>\n",
       "  </thead>\n",
       "  <tbody>\n",
       "    <tr>\n",
       "      <th>29</th>\n",
       "      <td>30</td>\n",
       "      <td>1</td>\n",
       "      <td>750</td>\n",
       "      <td>6074990</td>\n",
       "      <td>45</td>\n",
       "    </tr>\n",
       "    <tr>\n",
       "      <th>191071</th>\n",
       "      <td>191930</td>\n",
       "      <td>1</td>\n",
       "      <td>710</td>\n",
       "      <td>6074990</td>\n",
       "      <td>63</td>\n",
       "    </tr>\n",
       "    <tr>\n",
       "      <th>295258</th>\n",
       "      <td>296774</td>\n",
       "      <td>1</td>\n",
       "      <td>710</td>\n",
       "      <td>6074990</td>\n",
       "      <td>46</td>\n",
       "    </tr>\n",
       "    <tr>\n",
       "      <th>295270</th>\n",
       "      <td>296786</td>\n",
       "      <td>1</td>\n",
       "      <td>710</td>\n",
       "      <td>6074990</td>\n",
       "      <td>25</td>\n",
       "    </tr>\n",
       "    <tr>\n",
       "      <th>295366</th>\n",
       "      <td>296882</td>\n",
       "      <td>1</td>\n",
       "      <td>710</td>\n",
       "      <td>6074990</td>\n",
       "      <td>46</td>\n",
       "    </tr>\n",
       "  </tbody>\n",
       "</table>\n",
       "</div>"
      ],
      "text/plain": [
       "        DRIVER_ID  GENDER  CREDIT_SCORE  VEHICLE_ID  AGE\n",
       "29             30       1           750     6074990   45\n",
       "191071     191930       1           710     6074990   63\n",
       "295258     296774       1           710     6074990   46\n",
       "295270     296786       1           710     6074990   25\n",
       "295366     296882       1           710     6074990   46"
      ]
     },
     "execution_count": 317,
     "metadata": {},
     "output_type": "execute_result"
    }
   ],
   "source": [
    "drivers_df = dr_df[dr_df['VEHICLE_ID'] == input_id]\n",
    "drivers_df.head()"
   ]
  },
  {
   "cell_type": "code",
   "execution_count": 318,
   "metadata": {},
   "outputs": [
    {
     "data": {
      "text/plain": [
       "14"
      ]
     },
     "execution_count": 318,
     "metadata": {},
     "output_type": "execute_result"
    }
   ],
   "source": [
    "sample_count = len(drivers_df)\n",
    "sample_count"
   ]
  },
  {
   "cell_type": "code",
   "execution_count": 319,
   "metadata": {},
   "outputs": [
    {
     "data": {
      "text/html": [
       "<div>\n",
       "<style scoped>\n",
       "    .dataframe tbody tr th:only-of-type {\n",
       "        vertical-align: middle;\n",
       "    }\n",
       "\n",
       "    .dataframe tbody tr th {\n",
       "        vertical-align: top;\n",
       "    }\n",
       "\n",
       "    .dataframe thead th {\n",
       "        text-align: right;\n",
       "    }\n",
       "</style>\n",
       "<table border=\"1\" class=\"dataframe\">\n",
       "  <thead>\n",
       "    <tr style=\"text-align: right;\">\n",
       "      <th></th>\n",
       "      <th>VEHICLE_ID</th>\n",
       "      <th>YEAR</th>\n",
       "      <th>MAKE</th>\n",
       "      <th>MODEL</th>\n",
       "    </tr>\n",
       "  </thead>\n",
       "  <tbody>\n",
       "    <tr>\n",
       "      <th>1774</th>\n",
       "      <td>6074714</td>\n",
       "      <td>2012</td>\n",
       "      <td>JEEP</td>\n",
       "      <td>COMPASS SPT</td>\n",
       "    </tr>\n",
       "    <tr>\n",
       "      <th>1775</th>\n",
       "      <td>6074715</td>\n",
       "      <td>2017</td>\n",
       "      <td>JEEP</td>\n",
       "      <td>COMPASS SPT</td>\n",
       "    </tr>\n",
       "    <tr>\n",
       "      <th>1776</th>\n",
       "      <td>6074716</td>\n",
       "      <td>2012</td>\n",
       "      <td>JEEP</td>\n",
       "      <td>COMPASS SPT</td>\n",
       "    </tr>\n",
       "    <tr>\n",
       "      <th>1777</th>\n",
       "      <td>6074717</td>\n",
       "      <td>2013</td>\n",
       "      <td>JEEP</td>\n",
       "      <td>COMPASS SPT</td>\n",
       "    </tr>\n",
       "    <tr>\n",
       "      <th>1778</th>\n",
       "      <td>6074718</td>\n",
       "      <td>2014</td>\n",
       "      <td>JEEP</td>\n",
       "      <td>COMPASS LTD</td>\n",
       "    </tr>\n",
       "  </tbody>\n",
       "</table>\n",
       "</div>"
      ],
      "text/plain": [
       "      VEHICLE_ID  YEAR  MAKE        MODEL\n",
       "1774     6074714  2012  JEEP  COMPASS SPT\n",
       "1775     6074715  2017  JEEP  COMPASS SPT\n",
       "1776     6074716  2012  JEEP  COMPASS SPT\n",
       "1777     6074717  2013  JEEP  COMPASS SPT\n",
       "1778     6074718  2014  JEEP  COMPASS LTD"
      ]
     },
     "execution_count": 319,
     "metadata": {},
     "output_type": "execute_result"
    }
   ],
   "source": [
    "#Extend samples\n",
    "if sample_count > 500:\n",
    "    vehicle_entered = veh_df[veh_df['VEHICLE_ID'] == input_id]\n",
    "else:\n",
    "    vehicle_entered = veh_df[veh_df['VEHICLE_ID'] == input_id] \n",
    "    vehicle_make = vehicle_entered['MAKE'].item()\n",
    "    vehicle_subset = veh_df[veh_df['MAKE'] == vehicle_make]\n",
    "    \n",
    "vehicle_subset.head()"
   ]
  },
  {
   "cell_type": "code",
   "execution_count": 320,
   "metadata": {},
   "outputs": [
    {
     "data": {
      "text/html": [
       "<div>\n",
       "<style scoped>\n",
       "    .dataframe tbody tr th:only-of-type {\n",
       "        vertical-align: middle;\n",
       "    }\n",
       "\n",
       "    .dataframe tbody tr th {\n",
       "        vertical-align: top;\n",
       "    }\n",
       "\n",
       "    .dataframe thead th {\n",
       "        text-align: right;\n",
       "    }\n",
       "</style>\n",
       "<table border=\"1\" class=\"dataframe\">\n",
       "  <thead>\n",
       "    <tr style=\"text-align: right;\">\n",
       "      <th></th>\n",
       "      <th>VEHICLE_ID</th>\n",
       "      <th>YEAR</th>\n",
       "      <th>MAKE</th>\n",
       "      <th>MODEL</th>\n",
       "    </tr>\n",
       "  </thead>\n",
       "  <tbody>\n",
       "    <tr>\n",
       "      <th>1774</th>\n",
       "      <td>6074714</td>\n",
       "      <td>2012</td>\n",
       "      <td>JEEP</td>\n",
       "      <td>COMPASS SPT</td>\n",
       "    </tr>\n",
       "    <tr>\n",
       "      <th>1775</th>\n",
       "      <td>6074715</td>\n",
       "      <td>2017</td>\n",
       "      <td>JEEP</td>\n",
       "      <td>COMPASS SPT</td>\n",
       "    </tr>\n",
       "    <tr>\n",
       "      <th>1776</th>\n",
       "      <td>6074716</td>\n",
       "      <td>2012</td>\n",
       "      <td>JEEP</td>\n",
       "      <td>COMPASS SPT</td>\n",
       "    </tr>\n",
       "    <tr>\n",
       "      <th>1777</th>\n",
       "      <td>6074717</td>\n",
       "      <td>2013</td>\n",
       "      <td>JEEP</td>\n",
       "      <td>COMPASS SPT</td>\n",
       "    </tr>\n",
       "    <tr>\n",
       "      <th>1778</th>\n",
       "      <td>6074718</td>\n",
       "      <td>2014</td>\n",
       "      <td>JEEP</td>\n",
       "      <td>COMPASS LTD</td>\n",
       "    </tr>\n",
       "  </tbody>\n",
       "</table>\n",
       "</div>"
      ],
      "text/plain": [
       "      VEHICLE_ID  YEAR  MAKE        MODEL\n",
       "1774     6074714  2012  JEEP  COMPASS SPT\n",
       "1775     6074715  2017  JEEP  COMPASS SPT\n",
       "1776     6074716  2012  JEEP  COMPASS SPT\n",
       "1777     6074717  2013  JEEP  COMPASS SPT\n",
       "1778     6074718  2014  JEEP  COMPASS LTD"
      ]
     },
     "execution_count": 320,
     "metadata": {},
     "output_type": "execute_result"
    }
   ],
   "source": [
    "#Extend samples to MAKE\n",
    "if sample_count > 500:\n",
    "    vehicle_entered = veh_df[veh_df['VEHICLE_ID'] == input_id]\n",
    "else:\n",
    "    vehicle_entered = veh_df[veh_df['VEHICLE_ID'] == input_id] \n",
    "    vehicle_make = vehicle_entered['MAKE'].item()\n",
    "    vehicle_subset = veh_df[veh_df['MAKE'] == vehicle_make]\n",
    "    \n",
    "vehicle_subset.head()"
   ]
  },
  {
   "cell_type": "code",
   "execution_count": 321,
   "metadata": {},
   "outputs": [
    {
     "data": {
      "text/html": [
       "<div>\n",
       "<style scoped>\n",
       "    .dataframe tbody tr th:only-of-type {\n",
       "        vertical-align: middle;\n",
       "    }\n",
       "\n",
       "    .dataframe tbody tr th {\n",
       "        vertical-align: top;\n",
       "    }\n",
       "\n",
       "    .dataframe thead th {\n",
       "        text-align: right;\n",
       "    }\n",
       "</style>\n",
       "<table border=\"1\" class=\"dataframe\">\n",
       "  <thead>\n",
       "    <tr style=\"text-align: right;\">\n",
       "      <th></th>\n",
       "      <th>DRIVER_ID</th>\n",
       "      <th>GENDER</th>\n",
       "      <th>CREDIT_SCORE</th>\n",
       "      <th>VEHICLE_ID</th>\n",
       "      <th>AGE</th>\n",
       "      <th>YEAR</th>\n",
       "      <th>MAKE</th>\n",
       "      <th>MODEL</th>\n",
       "    </tr>\n",
       "  </thead>\n",
       "  <tbody>\n",
       "    <tr>\n",
       "      <th>0</th>\n",
       "      <td>30</td>\n",
       "      <td>1</td>\n",
       "      <td>750</td>\n",
       "      <td>6074990</td>\n",
       "      <td>45</td>\n",
       "      <td>2012</td>\n",
       "      <td>JEEP</td>\n",
       "      <td>COMPASS LTD</td>\n",
       "    </tr>\n",
       "    <tr>\n",
       "      <th>1</th>\n",
       "      <td>191930</td>\n",
       "      <td>1</td>\n",
       "      <td>710</td>\n",
       "      <td>6074990</td>\n",
       "      <td>63</td>\n",
       "      <td>2012</td>\n",
       "      <td>JEEP</td>\n",
       "      <td>COMPASS LTD</td>\n",
       "    </tr>\n",
       "    <tr>\n",
       "      <th>2</th>\n",
       "      <td>296774</td>\n",
       "      <td>1</td>\n",
       "      <td>710</td>\n",
       "      <td>6074990</td>\n",
       "      <td>46</td>\n",
       "      <td>2012</td>\n",
       "      <td>JEEP</td>\n",
       "      <td>COMPASS LTD</td>\n",
       "    </tr>\n",
       "    <tr>\n",
       "      <th>3</th>\n",
       "      <td>296786</td>\n",
       "      <td>1</td>\n",
       "      <td>710</td>\n",
       "      <td>6074990</td>\n",
       "      <td>25</td>\n",
       "      <td>2012</td>\n",
       "      <td>JEEP</td>\n",
       "      <td>COMPASS LTD</td>\n",
       "    </tr>\n",
       "    <tr>\n",
       "      <th>4</th>\n",
       "      <td>296882</td>\n",
       "      <td>1</td>\n",
       "      <td>710</td>\n",
       "      <td>6074990</td>\n",
       "      <td>46</td>\n",
       "      <td>2012</td>\n",
       "      <td>JEEP</td>\n",
       "      <td>COMPASS LTD</td>\n",
       "    </tr>\n",
       "  </tbody>\n",
       "</table>\n",
       "</div>"
      ],
      "text/plain": [
       "   DRIVER_ID  GENDER  CREDIT_SCORE  VEHICLE_ID  AGE  YEAR  MAKE        MODEL\n",
       "0         30       1           750     6074990   45  2012  JEEP  COMPASS LTD\n",
       "1     191930       1           710     6074990   63  2012  JEEP  COMPASS LTD\n",
       "2     296774       1           710     6074990   46  2012  JEEP  COMPASS LTD\n",
       "3     296786       1           710     6074990   25  2012  JEEP  COMPASS LTD\n",
       "4     296882       1           710     6074990   46  2012  JEEP  COMPASS LTD"
      ]
     },
     "execution_count": 321,
     "metadata": {},
     "output_type": "execute_result"
    }
   ],
   "source": [
    "drivers_subset = dr_df.merge(vehicle_subset, left_on='VEHICLE_ID', right_on='VEHICLE_ID')\n",
    "drivers_subset.head()"
   ]
  },
  {
   "cell_type": "code",
   "execution_count": 322,
   "metadata": {},
   "outputs": [
    {
     "name": "stdout",
     "output_type": "stream",
     "text": [
      "26505\n"
     ]
    }
   ],
   "source": [
    "sample_count = len(drivers_subset)\n",
    "print(sample_count)"
   ]
  },
  {
   "cell_type": "code",
   "execution_count": 323,
   "metadata": {},
   "outputs": [],
   "source": [
    "# what size is the best.. 0ver 10,000 wouldn't run - 5000?"
   ]
  },
  {
   "cell_type": "code",
   "execution_count": 324,
   "metadata": {},
   "outputs": [
    {
     "name": "stdout",
     "output_type": "stream",
     "text": [
      "26054\n",
      "5000\n"
     ]
    },
    {
     "data": {
      "text/html": [
       "<div>\n",
       "<style scoped>\n",
       "    .dataframe tbody tr th:only-of-type {\n",
       "        vertical-align: middle;\n",
       "    }\n",
       "\n",
       "    .dataframe tbody tr th {\n",
       "        vertical-align: top;\n",
       "    }\n",
       "\n",
       "    .dataframe thead th {\n",
       "        text-align: right;\n",
       "    }\n",
       "</style>\n",
       "<table border=\"1\" class=\"dataframe\">\n",
       "  <thead>\n",
       "    <tr style=\"text-align: right;\">\n",
       "      <th></th>\n",
       "      <th>DRIVER_ID</th>\n",
       "      <th>GENDER</th>\n",
       "      <th>CREDIT_SCORE</th>\n",
       "      <th>VEHICLE_ID</th>\n",
       "      <th>AGE</th>\n",
       "    </tr>\n",
       "  </thead>\n",
       "  <tbody>\n",
       "    <tr>\n",
       "      <th>0</th>\n",
       "      <td>30</td>\n",
       "      <td>1</td>\n",
       "      <td>750</td>\n",
       "      <td>6074990</td>\n",
       "      <td>45</td>\n",
       "    </tr>\n",
       "    <tr>\n",
       "      <th>1</th>\n",
       "      <td>191930</td>\n",
       "      <td>1</td>\n",
       "      <td>710</td>\n",
       "      <td>6074990</td>\n",
       "      <td>63</td>\n",
       "    </tr>\n",
       "    <tr>\n",
       "      <th>2</th>\n",
       "      <td>296774</td>\n",
       "      <td>1</td>\n",
       "      <td>710</td>\n",
       "      <td>6074990</td>\n",
       "      <td>46</td>\n",
       "    </tr>\n",
       "    <tr>\n",
       "      <th>3</th>\n",
       "      <td>296786</td>\n",
       "      <td>1</td>\n",
       "      <td>710</td>\n",
       "      <td>6074990</td>\n",
       "      <td>25</td>\n",
       "    </tr>\n",
       "    <tr>\n",
       "      <th>4</th>\n",
       "      <td>296882</td>\n",
       "      <td>1</td>\n",
       "      <td>710</td>\n",
       "      <td>6074990</td>\n",
       "      <td>46</td>\n",
       "    </tr>\n",
       "  </tbody>\n",
       "</table>\n",
       "</div>"
      ],
      "text/plain": [
       "   DRIVER_ID  GENDER  CREDIT_SCORE  VEHICLE_ID  AGE\n",
       "0         30       1           750     6074990   45\n",
       "1     191930       1           710     6074990   63\n",
       "2     296774       1           710     6074990   46\n",
       "3     296786       1           710     6074990   25\n",
       "4     296882       1           710     6074990   46"
      ]
     },
     "execution_count": 324,
     "metadata": {},
     "output_type": "execute_result"
    }
   ],
   "source": [
    "#Extend samples if necessary again or reduce to first 10,000 to 500\n",
    "# Filter outliers\n",
    "drivers_subset = drivers_subset[drivers_subset['CREDIT_SCORE'] > 300]\n",
    "drivers_subset = drivers_subset[drivers_subset['AGE'] > 18]                                \n",
    "sample_count = len(drivers_subset)\n",
    "print(sample_count)  \n",
    "                                \n",
    "if sample_count > 5000:   \n",
    "    drivers_subset = drivers_subset.head(5000)\n",
    "    drivers_df = drivers_subset.drop(columns =['YEAR', 'MAKE', 'MODEL'])    \n",
    "elif sample_count > 500:\n",
    "    drivers_df = drivers_subset.drop(columns =['YEAR', 'MAKE', 'MODEL'])\n",
    "else:\n",
    "    vehicle_entered = veh_df[veh_df['VEHICLE_ID'] == input_id] \n",
    "    vehicle_year = vehicle_entered['YEAR'].item()\n",
    "    vehicle_subset = veh_df[veh_df['YEAR'] == vehicle_year]\n",
    "\n",
    "sample_count = len(drivers_df)\n",
    "print(sample_count)\n",
    "drivers_df.head()"
   ]
  },
  {
   "cell_type": "code",
   "execution_count": 325,
   "metadata": {},
   "outputs": [
    {
     "name": "stdout",
     "output_type": "stream",
     "text": [
      "5000\n",
      "PASS...\n"
     ]
    }
   ],
   "source": [
    "sample_count = len(drivers_subset)\n",
    "print(sample_count)\n",
    "if sample_count < 500:\n",
    "    drivers_subset = dr_df.merge(vehicle_subset, left_on='VEHICLE_ID', right_on='VEHICLE_ID')\n",
    "    drivers_subset.head()\n",
    "else:\n",
    "    print(\"PASS...\")"
   ]
  },
  {
   "cell_type": "code",
   "execution_count": 326,
   "metadata": {},
   "outputs": [
    {
     "name": "stdout",
     "output_type": "stream",
     "text": [
      "PASS...\n"
     ]
    }
   ],
   "source": [
    "if sample_count < 500:\n",
    "    sample_count = len(drivers_subset)\n",
    "    print(sample_count)\n",
    "    drivers_df = drivers_subset.drop(columns =['YEAR', 'MAKE', 'MODEL'])\n",
    "    print(len(drivers_df))\n",
    "else:\n",
    "    print(\"PASS...\")\n"
   ]
  },
  {
   "cell_type": "code",
   "execution_count": 327,
   "metadata": {},
   "outputs": [
    {
     "data": {
      "text/html": [
       "<div>\n",
       "<style scoped>\n",
       "    .dataframe tbody tr th:only-of-type {\n",
       "        vertical-align: middle;\n",
       "    }\n",
       "\n",
       "    .dataframe tbody tr th {\n",
       "        vertical-align: top;\n",
       "    }\n",
       "\n",
       "    .dataframe thead th {\n",
       "        text-align: right;\n",
       "    }\n",
       "</style>\n",
       "<table border=\"1\" class=\"dataframe\">\n",
       "  <thead>\n",
       "    <tr style=\"text-align: right;\">\n",
       "      <th></th>\n",
       "      <th>GENDER</th>\n",
       "      <th>CREDIT_SCORE</th>\n",
       "      <th>VEHICLE_ID</th>\n",
       "      <th>AGE</th>\n",
       "    </tr>\n",
       "  </thead>\n",
       "  <tbody>\n",
       "    <tr>\n",
       "      <th>0</th>\n",
       "      <td>1</td>\n",
       "      <td>750</td>\n",
       "      <td>6074990</td>\n",
       "      <td>45</td>\n",
       "    </tr>\n",
       "    <tr>\n",
       "      <th>1</th>\n",
       "      <td>1</td>\n",
       "      <td>710</td>\n",
       "      <td>6074990</td>\n",
       "      <td>63</td>\n",
       "    </tr>\n",
       "    <tr>\n",
       "      <th>2</th>\n",
       "      <td>1</td>\n",
       "      <td>710</td>\n",
       "      <td>6074990</td>\n",
       "      <td>46</td>\n",
       "    </tr>\n",
       "    <tr>\n",
       "      <th>3</th>\n",
       "      <td>1</td>\n",
       "      <td>710</td>\n",
       "      <td>6074990</td>\n",
       "      <td>25</td>\n",
       "    </tr>\n",
       "    <tr>\n",
       "      <th>4</th>\n",
       "      <td>1</td>\n",
       "      <td>710</td>\n",
       "      <td>6074990</td>\n",
       "      <td>46</td>\n",
       "    </tr>\n",
       "  </tbody>\n",
       "</table>\n",
       "</div>"
      ],
      "text/plain": [
       "   GENDER  CREDIT_SCORE  VEHICLE_ID  AGE\n",
       "0       1           750     6074990   45\n",
       "1       1           710     6074990   63\n",
       "2       1           710     6074990   46\n",
       "3       1           710     6074990   25\n",
       "4       1           710     6074990   46"
      ]
     },
     "execution_count": 327,
     "metadata": {},
     "output_type": "execute_result"
    }
   ],
   "source": [
    "#Fianlly drop driver ID for the ML model\n",
    "\n",
    "drivers_df = drivers_df.drop(columns='DRIVER_ID')\n",
    "drivers_df.head()"
   ]
  },
  {
   "cell_type": "code",
   "execution_count": 328,
   "metadata": {
    "executionInfo": {
     "elapsed": 711,
     "status": "ok",
     "timestamp": 1658783934473,
     "user": {
      "displayName": "Ann Kim",
      "userId": "13476772610158755832"
     },
     "user_tz": 300
    },
    "id": "-J0jwsBSLGbd"
   },
   "outputs": [],
   "source": [
    "# Remove creadit score outcome target from fetures data\n",
    "\n",
    "y = drivers_df['CREDIT_SCORE']\n",
    "X = drivers_df.drop(columns='CREDIT_SCORE')\n",
    "\n",
    "from sklearn.linear_model import LinearRegression\n",
    "X_train, X_test, y_train, y_test = train_test_split(X, y, test_size=0.25, random_state=0)"
   ]
  },
  {
   "cell_type": "code",
   "execution_count": 329,
   "metadata": {
    "id": "ZXhFfKfvLHIU"
   },
   "outputs": [
    {
     "name": "stdout",
     "output_type": "stream",
     "text": [
      "0.3784\n",
      "[[0 0 0 ... 0 0 0]\n",
      " [0 0 0 ... 0 0 0]\n",
      " [0 0 0 ... 0 0 0]\n",
      " ...\n",
      " [0 0 0 ... 0 0 0]\n",
      " [0 0 0 ... 0 0 0]\n",
      " [0 0 0 ... 0 0 0]]\n",
      "              precision    recall  f1-score   support\n",
      "\n",
      "         307       0.00      0.00      0.00         0\n",
      "         308       0.00      0.00      0.00         0\n",
      "         309       0.00      0.00      0.00         0\n",
      "         310       0.33      1.00      0.50         1\n",
      "         312       0.00      0.00      0.00         2\n",
      "         313       0.00      0.00      0.00         0\n",
      "         314       0.00      0.00      0.00         2\n",
      "         315       0.00      0.00      0.00         0\n",
      "         321       0.00      0.00      0.00         0\n",
      "         324       0.00      0.00      0.00         0\n",
      "         326       0.00      0.00      0.00         0\n",
      "         327       0.00      0.00      0.00         0\n",
      "         334       0.00      0.00      0.00         1\n",
      "         337       0.00      0.00      0.00         0\n",
      "         342       0.00      0.00      0.00         2\n",
      "         343       0.00      0.00      0.00         2\n",
      "         349       0.00      0.00      0.00         0\n",
      "         351       0.00      0.00      0.00         1\n",
      "         352       0.00      0.00      0.00         0\n",
      "         354       0.00      0.00      0.00         0\n",
      "         355       0.00      0.00      0.00         0\n",
      "         358       0.00      0.00      0.00         0\n",
      "         361       0.00      0.00      0.00         2\n",
      "         365       0.00      0.00      0.00         0\n",
      "         368       0.00      0.00      0.00         0\n",
      "         369       0.00      0.00      0.00         0\n",
      "         370       0.00      0.00      0.00         3\n",
      "         371       0.00      0.00      0.00         0\n",
      "         377       0.00      0.00      0.00         1\n",
      "         379       0.00      0.00      0.00         0\n",
      "         380       0.00      0.00      0.00         0\n",
      "         382       0.00      0.00      0.00         0\n",
      "         392       0.00      0.00      0.00         0\n",
      "         396       0.50      1.00      0.67         1\n",
      "         401       1.00      1.00      1.00         1\n",
      "         402       0.00      0.00      0.00         1\n",
      "         407       0.00      0.00      0.00         0\n",
      "         413       0.00      0.00      0.00         1\n",
      "         415       1.00      1.00      1.00         1\n",
      "         419       0.00      0.00      0.00         0\n",
      "         421       0.00      0.00      0.00         0\n",
      "         424       1.00      1.00      1.00         1\n",
      "         425       0.00      0.00      0.00         0\n",
      "         428       0.00      0.00      0.00         2\n",
      "         429       0.00      0.00      0.00         3\n",
      "         436       0.00      0.00      0.00         2\n",
      "         439       0.00      0.00      0.00         0\n",
      "         440       0.00      0.00      0.00         1\n",
      "         441       0.00      0.00      0.00         0\n",
      "         444       0.00      0.00      0.00         3\n",
      "         445       0.00      0.00      0.00         3\n",
      "         447       0.00      0.00      0.00         0\n",
      "         449       0.00      0.00      0.00         1\n",
      "         457       0.00      0.00      0.00         1\n",
      "         458       0.00      0.00      0.00         1\n",
      "         459       0.00      0.00      0.00         0\n",
      "         470       0.00      0.00      0.00         1\n",
      "         471       0.00      0.00      0.00         3\n",
      "         473       0.00      0.00      0.00         2\n",
      "         474       0.00      0.00      0.00         1\n",
      "         482       0.00      0.00      0.00         1\n",
      "         484       0.00      0.00      0.00         0\n",
      "         485       0.00      0.00      0.00         0\n",
      "         487       0.00      0.00      0.00         1\n",
      "         490       0.00      0.00      0.00         0\n",
      "         491       0.00      0.00      0.00         1\n",
      "         493       0.00      0.00      0.00         0\n",
      "         495       0.00      0.00      0.00         1\n",
      "         499       0.00      0.00      0.00         1\n",
      "         500       0.00      0.00      0.00         1\n",
      "         506       0.00      0.00      0.00         2\n",
      "         509       0.00      0.00      0.00         1\n",
      "         511       0.00      0.00      0.00         1\n",
      "         522       0.00      0.00      0.00         1\n",
      "         524       0.00      0.00      0.00         1\n",
      "         526       0.00      0.00      0.00         0\n",
      "         532       0.24      0.38      0.29        16\n",
      "         533       0.00      0.00      0.00         0\n",
      "         549       0.00      0.00      0.00         2\n",
      "         557       0.00      0.00      0.00         0\n",
      "         558       0.00      0.00      0.00         0\n",
      "         562       0.00      0.00      0.00         0\n",
      "         567       0.00      0.00      0.00         1\n",
      "         568       0.00      0.00      0.00         0\n",
      "         572       0.00      0.00      0.00         1\n",
      "         574       0.00      0.00      0.00         3\n",
      "         578       0.00      0.00      0.00         1\n",
      "         580       0.00      0.00      0.00         0\n",
      "         583       0.00      0.00      0.00         1\n",
      "         586       0.00      0.00      0.00         2\n",
      "         587       0.00      0.00      0.00         3\n",
      "         589       0.00      0.00      0.00         0\n",
      "         596       0.00      0.00      0.00         1\n",
      "         597       0.00      0.00      0.00         0\n",
      "         598       0.00      0.00      0.00         0\n",
      "         600       0.00      0.00      0.00         1\n",
      "         603       0.00      0.00      0.00         0\n",
      "         610       0.00      0.00      0.00         0\n",
      "         614       0.00      0.00      0.00         1\n",
      "         617       0.00      0.00      0.00         1\n",
      "         618       0.00      0.00      0.00         1\n",
      "         620       0.00      0.00      0.00         0\n",
      "         621       0.00      0.00      0.00         1\n",
      "         622       0.00      0.00      0.00         0\n",
      "         626       0.00      0.00      0.00         1\n",
      "         629       0.00      0.00      0.00         1\n",
      "         630       0.00      0.00      0.00         0\n",
      "         634       0.00      0.00      0.00         1\n",
      "         650       0.00      0.00      0.00         0\n",
      "         651       0.00      0.00      0.00         0\n",
      "         653       0.00      0.00      0.00         0\n",
      "         656       0.00      0.00      0.00         1\n",
      "         657       0.00      0.00      0.00         0\n",
      "         658       0.00      0.00      0.00         0\n",
      "         663       0.00      0.00      0.00         2\n",
      "         666       0.21      0.29      0.25        62\n",
      "         667       0.00      0.00      0.00         1\n",
      "         668       0.00      0.00      0.00         1\n",
      "         671       0.00      0.00      0.00         0\n",
      "         673       0.00      0.00      0.00         0\n",
      "         674       0.00      0.00      0.00         0\n",
      "         677       0.00      0.00      0.00         0\n",
      "         682       1.00      1.00      1.00         1\n",
      "         683       0.00      0.00      0.00         0\n",
      "         685       0.00      0.00      0.00         0\n",
      "         686       1.00      1.00      1.00         1\n",
      "         689       0.00      0.00      0.00         0\n",
      "         699       0.00      0.00      0.00         0\n",
      "         700       0.00      0.00      0.00         5\n",
      "         701       0.00      0.00      0.00         0\n",
      "         703       0.00      0.00      0.00         0\n",
      "         704       0.00      0.00      0.00         0\n",
      "         705       0.00      0.00      0.00         0\n",
      "         706       1.00      0.50      0.67         2\n",
      "         710       0.38      0.36      0.37       188\n",
      "         713       1.00      1.00      1.00         1\n",
      "         715       0.00      0.00      0.00         0\n",
      "         717       0.00      0.00      0.00         0\n",
      "         718       0.00      0.00      0.00         0\n",
      "         719       0.00      0.00      0.00         0\n",
      "         720       0.00      0.00      0.00         1\n",
      "         724       0.00      0.00      0.00         1\n",
      "         725       0.00      0.00      0.00         0\n",
      "         729       0.00      0.00      0.00         2\n",
      "         731       0.00      0.00      0.00         5\n",
      "         732       0.00      0.00      0.00         0\n",
      "         733       0.00      0.00      0.00         2\n",
      "         734       0.00      0.00      0.00         0\n",
      "         736       0.00      0.00      0.00         0\n",
      "         737       1.00      1.00      1.00         1\n",
      "         738       0.00      0.00      0.00         0\n",
      "         739       0.00      0.00      0.00         1\n",
      "         746       0.00      0.00      0.00         1\n",
      "         747       0.00      0.00      0.00         0\n",
      "         748       0.00      0.00      0.00         0\n",
      "         750       0.37      0.39      0.38        71\n",
      "         760       0.00      0.00      0.00         0\n",
      "         761       0.00      0.00      0.00         0\n",
      "         763       0.00      0.00      0.00         1\n",
      "         768       0.33      0.44      0.37        32\n",
      "         770       0.00      0.00      0.00         1\n",
      "         771       0.00      0.00      0.00         0\n",
      "         772       0.00      0.00      0.00         1\n",
      "         778       0.00      0.00      0.00         0\n",
      "         788       0.00      0.00      0.00         0\n",
      "         789       0.00      0.00      0.00         0\n",
      "         790       0.00      0.00      0.00         0\n",
      "         791       0.00      0.00      0.00         1\n",
      "         793       0.00      0.00      0.00         0\n",
      "         794       0.00      0.00      0.00         2\n",
      "         800       0.00      0.00      0.00         0\n",
      "         804       0.00      0.00      0.00         0\n",
      "         807       0.00      0.00      0.00         2\n",
      "         809       0.00      0.00      0.00         0\n",
      "         810       0.00      0.00      0.00         1\n",
      "         811       0.54      0.52      0.53       257\n",
      "         812       0.00      0.00      0.00         0\n",
      "         814       0.00      0.00      0.00         1\n",
      "         815       0.00      0.00      0.00         0\n",
      "         816       0.00      0.00      0.00         0\n",
      "         821       0.00      0.00      0.00         1\n",
      "         824       0.28      0.26      0.27        91\n",
      "         826       0.00      0.00      0.00         7\n",
      "         827       0.00      0.00      0.00         0\n",
      "         831       0.00      0.00      0.00         1\n",
      "         834       0.00      0.00      0.00         2\n",
      "         835       0.00      0.00      0.00         1\n",
      "         838       0.00      0.00      0.00         1\n",
      "         844       0.00      0.00      0.00         3\n",
      "         846       0.00      0.00      0.00         2\n",
      "         847       0.53      0.46      0.49       371\n",
      "         848       0.00      0.00      0.00         3\n",
      "         852       0.00      0.00      0.00         1\n",
      "         853       0.00      0.00      0.00         0\n",
      "         854       0.00      0.00      0.00         3\n",
      "         855       0.00      0.00      0.00         1\n",
      "         861       0.00      0.00      0.00         2\n",
      "         862       0.00      0.00      0.00         1\n",
      "         863       0.00      0.00      0.00         1\n",
      "         864       0.00      0.00      0.00         3\n",
      "         865       0.00      0.00      0.00         2\n",
      "         867       0.00      0.00      0.00         3\n",
      "         868       0.00      0.00      0.00         0\n",
      "         869       0.00      0.00      0.00         2\n",
      "         876       0.00      0.00      0.00         0\n",
      "         878       0.00      0.00      0.00         0\n",
      "         880       0.00      0.00      0.00         1\n",
      "         882       0.00      0.00      0.00         0\n",
      "         891       0.00      0.00      0.00         0\n",
      "\n",
      "    accuracy                           0.38      1250\n",
      "   macro avg       0.06      0.06      0.06      1250\n",
      "weighted avg       0.40      0.38      0.39      1250\n",
      "\n"
     ]
    }
   ],
   "source": [
    "from sklearn.ensemble import RandomForestClassifier\n",
    "from sklearn.metrics import classification_report\n",
    "from sklearn.metrics import confusion_matrix\n",
    "from sklearn.metrics import accuracy_score\n",
    "\n",
    "RF_clf = RandomForestClassifier()\n",
    "RF_model = RF_clf.fit(X_train, y_train)\n",
    "RF_prediction = RF_clf.predict(X_test)\n",
    "print(accuracy_score(RF_prediction, y_test))\n",
    "print(confusion_matrix(RF_prediction, y_test))\n",
    "print(classification_report(RF_prediction, y_test))"
   ]
  },
  {
   "cell_type": "code",
   "execution_count": 330,
   "metadata": {},
   "outputs": [],
   "source": [
    "#pickle.dump(lr_model, open('model.pkl', 'wb')) # Write"
   ]
  },
  {
   "cell_type": "code",
   "execution_count": 331,
   "metadata": {},
   "outputs": [],
   "source": [
    "# Setup the first data as input\n",
    "import numpy as np\n",
    "test_data = np.array([1,input_id,27])\n",
    "test_data = test_data.reshape(-1, 3)\n",
    "test_data = test_data.astype(float)"
   ]
  },
  {
   "cell_type": "code",
   "execution_count": 332,
   "metadata": {},
   "outputs": [
    {
     "data": {
      "text/plain": [
       "710"
      ]
     },
     "execution_count": 332,
     "metadata": {},
     "output_type": "execute_result"
    }
   ],
   "source": [
    "RF_model.predict(test_data)[0]  # Perfect"
   ]
  },
  {
   "cell_type": "code",
   "execution_count": 339,
   "metadata": {},
   "outputs": [],
   "source": [
    "import  pickle\n",
    "pickle.dump(RF_model, open('model.pkl', 'wb'))"
   ]
  },
  {
   "cell_type": "code",
   "execution_count": 342,
   "metadata": {},
   "outputs": [
    {
     "name": "stdout",
     "output_type": "stream",
     "text": [
      "[710]\n"
     ]
    }
   ],
   "source": [
    "model = pickle.load(open('model.pkl', 'rb'))\n",
    "print(model.predict(test_data))"
   ]
  },
  {
   "cell_type": "code",
   "execution_count": null,
   "metadata": {},
   "outputs": [],
   "source": []
  }
 ],
 "metadata": {
  "colab": {
   "authorship_tag": "ABX9TyPFMo5V1XVK8q0bpZPgHsUq",
   "collapsed_sections": [],
   "name": "Model_RandomForest.ipynb",
   "provenance": []
  },
  "kernelspec": {
   "display_name": "Python 3 (ipykernel)",
   "language": "python",
   "name": "python3"
  },
  "language_info": {
   "codemirror_mode": {
    "name": "ipython",
    "version": 3
   },
   "file_extension": ".py",
   "mimetype": "text/x-python",
   "name": "python",
   "nbconvert_exporter": "python",
   "pygments_lexer": "ipython3",
   "version": "3.7.13"
  }
 },
 "nbformat": 4,
 "nbformat_minor": 1
}
