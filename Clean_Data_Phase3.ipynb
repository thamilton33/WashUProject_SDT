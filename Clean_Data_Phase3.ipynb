{
 "cells": [
  {
   "cell_type": "markdown",
   "id": "d3b342b7",
   "metadata": {},
   "source": [
    "### DATA CLEANING also known as DATA SCRUBBING\n",
    "\n",
    "    - Import Data From the phase 2   - converting DOB to age has multiple problems running big (sample was okay)\n",
    "    - Found simple to replaced it and avoid to go through it again, Phase 3 is created\n",
    "    - Rest purpose is the same from phase 2, ultimate goal of fitting it to the our model"
   ]
  },
  {
   "cell_type": "markdown",
   "id": "80321259",
   "metadata": {},
   "source": [
    "## 1. Import Data"
   ]
  },
  {
   "cell_type": "code",
   "execution_count": 127,
   "id": "e6502e52",
   "metadata": {},
   "outputs": [],
   "source": [
    "import pandas as pd\n",
    "import numpy as np\n",
    "\n",
    "import warnings\n",
    "warnings.filterwarnings('ignore')"
   ]
  },
  {
   "cell_type": "code",
   "execution_count": 130,
   "id": "b5e337db",
   "metadata": {},
   "outputs": [],
   "source": [
    "# The data has driver ids that are cumbersome, which regular index can do,  only meaningful for the actal policies\n",
    "# Think driver id represents as each driver vehicle id as each represent each vehicle\n",
    "drivers_file = \"cleaned_data/drivers.csv\""
   ]
  },
  {
   "cell_type": "code",
   "execution_count": 131,
   "id": "220ebb85",
   "metadata": {},
   "outputs": [
    {
     "data": {
      "text/html": [
       "<div>\n",
       "<style scoped>\n",
       "    .dataframe tbody tr th:only-of-type {\n",
       "        vertical-align: middle;\n",
       "    }\n",
       "\n",
       "    .dataframe tbody tr th {\n",
       "        vertical-align: top;\n",
       "    }\n",
       "\n",
       "    .dataframe thead th {\n",
       "        text-align: right;\n",
       "    }\n",
       "</style>\n",
       "<table border=\"1\" class=\"dataframe\">\n",
       "  <thead>\n",
       "    <tr style=\"text-align: right;\">\n",
       "      <th></th>\n",
       "      <th>DRIVER_ID</th>\n",
       "      <th>GENDER</th>\n",
       "      <th>CREDIT_SCORE</th>\n",
       "      <th>VEHICLE_ID</th>\n",
       "      <th>AGE</th>\n",
       "    </tr>\n",
       "  </thead>\n",
       "  <tbody>\n",
       "    <tr>\n",
       "      <th>0</th>\n",
       "      <td>104132812</td>\n",
       "      <td>2</td>\n",
       "      <td>824</td>\n",
       "      <td>7399455</td>\n",
       "      <td>32</td>\n",
       "    </tr>\n",
       "    <tr>\n",
       "      <th>1</th>\n",
       "      <td>104132854</td>\n",
       "      <td>2</td>\n",
       "      <td>824</td>\n",
       "      <td>6078430</td>\n",
       "      <td>88</td>\n",
       "    </tr>\n",
       "    <tr>\n",
       "      <th>2</th>\n",
       "      <td>104132876</td>\n",
       "      <td>2</td>\n",
       "      <td>750</td>\n",
       "      <td>6212210</td>\n",
       "      <td>34</td>\n",
       "    </tr>\n",
       "    <tr>\n",
       "      <th>3</th>\n",
       "      <td>104132895</td>\n",
       "      <td>2</td>\n",
       "      <td>750</td>\n",
       "      <td>7416184</td>\n",
       "      <td>22</td>\n",
       "    </tr>\n",
       "    <tr>\n",
       "      <th>4</th>\n",
       "      <td>104132907</td>\n",
       "      <td>2</td>\n",
       "      <td>824</td>\n",
       "      <td>6078430</td>\n",
       "      <td>88</td>\n",
       "    </tr>\n",
       "  </tbody>\n",
       "</table>\n",
       "</div>"
      ],
      "text/plain": [
       "   DRIVER_ID  GENDER CREDIT_SCORE  VEHICLE_ID  AGE\n",
       "0  104132812       2          824     7399455   32\n",
       "1  104132854       2          824     6078430   88\n",
       "2  104132876       2          750     6212210   34\n",
       "3  104132895       2          750     7416184   22\n",
       "4  104132907       2          824     6078430   88"
      ]
     },
     "execution_count": 131,
     "metadata": {},
     "output_type": "execute_result"
    }
   ],
   "source": [
    "# Retreive the data from previous saved as a CSV file \n",
    "drivers_df = pd.read_csv(drivers_file)\n",
    "drivers_df.head()"
   ]
  },
  {
   "cell_type": "code",
   "execution_count": 133,
   "id": "7b21e1c7",
   "metadata": {},
   "outputs": [
    {
     "data": {
      "text/plain": [
       "Index(['DRIVER_ID', 'GENDER', 'CREDIT_SCORE', 'VEHICLE_ID', 'AGE'], dtype='object')"
      ]
     },
     "execution_count": 133,
     "metadata": {},
     "output_type": "execute_result"
    }
   ],
   "source": [
    "# Check coloume names - it had a space before, make sure it is checked\n",
    "drivers_df.columns = [c.upper().replace(' ', '_') for c in drivers_df.columns]\n",
    "drivers_df.columns"
   ]
  },
  {
   "cell_type": "code",
   "execution_count": 135,
   "id": "47ec0f8e",
   "metadata": {},
   "outputs": [
    {
     "data": {
      "text/html": [
       "<div>\n",
       "<style scoped>\n",
       "    .dataframe tbody tr th:only-of-type {\n",
       "        vertical-align: middle;\n",
       "    }\n",
       "\n",
       "    .dataframe tbody tr th {\n",
       "        vertical-align: top;\n",
       "    }\n",
       "\n",
       "    .dataframe thead th {\n",
       "        text-align: right;\n",
       "    }\n",
       "</style>\n",
       "<table border=\"1\" class=\"dataframe\">\n",
       "  <thead>\n",
       "    <tr style=\"text-align: right;\">\n",
       "      <th></th>\n",
       "      <th>GENDER</th>\n",
       "      <th>CREDIT_SCORE</th>\n",
       "      <th>VEHICLE_ID</th>\n",
       "      <th>AGE</th>\n",
       "    </tr>\n",
       "    <tr>\n",
       "      <th>DRIVER_ID</th>\n",
       "      <th></th>\n",
       "      <th></th>\n",
       "      <th></th>\n",
       "      <th></th>\n",
       "    </tr>\n",
       "  </thead>\n",
       "  <tbody>\n",
       "    <tr>\n",
       "      <th>1</th>\n",
       "      <td>2</td>\n",
       "      <td>824</td>\n",
       "      <td>7399455</td>\n",
       "      <td>32</td>\n",
       "    </tr>\n",
       "    <tr>\n",
       "      <th>2</th>\n",
       "      <td>2</td>\n",
       "      <td>824</td>\n",
       "      <td>6078430</td>\n",
       "      <td>88</td>\n",
       "    </tr>\n",
       "    <tr>\n",
       "      <th>3</th>\n",
       "      <td>2</td>\n",
       "      <td>750</td>\n",
       "      <td>6212210</td>\n",
       "      <td>34</td>\n",
       "    </tr>\n",
       "    <tr>\n",
       "      <th>4</th>\n",
       "      <td>2</td>\n",
       "      <td>750</td>\n",
       "      <td>7416184</td>\n",
       "      <td>22</td>\n",
       "    </tr>\n",
       "    <tr>\n",
       "      <th>5</th>\n",
       "      <td>2</td>\n",
       "      <td>824</td>\n",
       "      <td>6078430</td>\n",
       "      <td>88</td>\n",
       "    </tr>\n",
       "  </tbody>\n",
       "</table>\n",
       "</div>"
      ],
      "text/plain": [
       "           GENDER CREDIT_SCORE  VEHICLE_ID  AGE\n",
       "DRIVER_ID                                      \n",
       "1               2          824     7399455   32\n",
       "2               2          824     6078430   88\n",
       "3               2          750     6212210   34\n",
       "4               2          750     7416184   22\n",
       "5               2          824     6078430   88"
      ]
     },
     "execution_count": 135,
     "metadata": {},
     "output_type": "execute_result"
    }
   ],
   "source": [
    "# Replace Driver ID to increased index id - remember, it only represent a person and a person is hidden \n",
    "# No duplicate of person\n",
    "\n",
    "drivers_df[\"DRIVER_ID\"] = np.arange(1, len(drivers_df) + 1)\n",
    "drivers_df = drivers_df.assign(Index=range(len(drivers_df))).set_index('DRIVER_ID')\n",
    "drivers_df.drop(drivers_df.columns[len(drivers_df.columns)-1], axis=1, inplace=True)\n",
    "\n",
    "drivers_df.head()"
   ]
  },
  {
   "cell_type": "code",
   "execution_count": 137,
   "id": "b608a052",
   "metadata": {},
   "outputs": [],
   "source": [
    "drivers_df.to_csv(\"cleaned_data/drivers.csv\", index=True)"
   ]
  },
  {
   "cell_type": "code",
   "execution_count": null,
   "id": "8ae3b06a",
   "metadata": {},
   "outputs": [],
   "source": [
    "# Rename phase 2 driver file to : drivers_old.csv"
   ]
  }
 ],
 "metadata": {
  "kernelspec": {
   "display_name": "mlenv",
   "language": "python",
   "name": "mlenv"
  },
  "language_info": {
   "codemirror_mode": {
    "name": "ipython",
    "version": 3
   },
   "file_extension": ".py",
   "mimetype": "text/x-python",
   "name": "python",
   "nbconvert_exporter": "python",
   "pygments_lexer": "ipython3",
   "version": "3.7.13"
  }
 },
 "nbformat": 4,
 "nbformat_minor": 5
}
